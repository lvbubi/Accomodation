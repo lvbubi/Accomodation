{
 "cells": [
  {
   "cell_type": "code",
   "execution_count": 6,
   "metadata": {
    "collapsed": true
   },
   "outputs": [],
   "source": [
    "import pandas as pd\n",
    "import visualization.maps as maps\n",
    "import repository.accomodation as repository\n",
    "\n",
    "coordinates = repository.loadCoordinates()\n",
    "data = repository.loadTable()\n",
    "\n",
    "map_model = pd.merge(coordinates, data, on='id')\n",
    "\n"
   ]
  },
  {
   "cell_type": "code",
   "execution_count": 4,
   "outputs": [],
   "source": [
    "maps.create_map(map_model, 'asd.html')"
   ],
   "metadata": {
    "collapsed": false,
    "pycharm": {
     "name": "#%%\n"
    }
   }
  },
  {
   "cell_type": "code",
   "execution_count": 10,
   "outputs": [
    {
     "name": "stdout",
     "output_type": "stream",
     "text": [
      "0                Bács-Kiskun\n",
      "1                    Baranya\n",
      "2                      Békés\n",
      "3       Borsod-Abaúj-Zemplén\n",
      "4                   Budapest\n",
      "5            Csongrád-Csanád\n",
      "6                      Fejér\n",
      "7          Győr-Moson-Sopron\n",
      "8                Hajdú-Bihar\n",
      "9                      Heves\n",
      "10      Jász-Nagykun-Szolnok\n",
      "11         Komárom-Esztergom\n",
      "12                    Nógrád\n",
      "13                      Pest\n",
      "14                    Somogy\n",
      "15    Szabolcs-Szatmár-Bereg\n",
      "16                     Tolna\n",
      "17                       Vas\n",
      "18                  Veszprém\n",
      "19                      Zala\n",
      "Name: county, dtype: object\n",
      "Accessing page at https://www.openstreetmap.org ...\n",
      "Done!\n",
      "[{'name': 'Bács-Kiskun', 'extractedName': 'Bács-Kiskun, Southern Great Plain, Great Plain and North, Hungary', 'longitude': '46.5809294', 'latitude': '19.5128532'}, {'name': 'Baranya', 'extractedName': 'Baranya, Southern Transdanubia, Transdanubia, 7833, Hungary', 'longitude': '45.9714436', 'latitude': '18.1669246'}, {'name': 'Békés', 'extractedName': 'Békés, Southern Great Plain, Great Plain and North, Hungary', 'longitude': '46.7862993', 'latitude': '20.9820736'}, {'name': 'Borsod-Abaúj-Zemplén', 'extractedName': 'Borsod-Abaúj-Zemplén, Northern Hungary, Great Plain and North, Hungary', 'longitude': '48.2397936', 'latitude': '21.1353474'}, {'name': 'Budapest', 'extractedName': 'Budapest, Pest megye, Central Hungary, 1161, Hungary', 'longitude': '47.48138955', 'latitude': '19.14607278448202'}, {'name': 'Csongrád-Csanád', 'extractedName': 'Csongrád-Csanád, Southern Great Plain, Great Plain and North, 6636, Hungary', 'longitude': '46.4515164', 'latitude': '20.2277606'}, {'name': 'Fejér', 'extractedName': 'Fejér, Central Transdanubia, Transdanubia, 8111, Hungary', 'longitude': '47.0939434', 'latitude': '18.6088562'}, {'name': 'Győr-Moson-Sopron', 'extractedName': 'Győr-Moson-Sopron, Western Transdanubia, Transdanubia, 9161, Hungary', 'longitude': '47.6610134', 'latitude': '17.3796437'}, {'name': 'Hajdú-Bihar', 'extractedName': 'Hajdú-Bihar, Great Plain and North, 4211, Hungary', 'longitude': '47.4407848', 'latitude': '21.4752281'}, {'name': 'Heves', 'extractedName': 'Heves, Hevesi járás, Heves, Northern Hungary, Great Plain and North, 3360, Hungary', 'longitude': '47.5957526', 'latitude': '20.2897722'}, {'name': 'Jász-Nagykun-Szolnok', 'extractedName': 'Jász-Nagykun-Szolnok, Great Plain and North, Hungary', 'longitude': '47.2971598', 'latitude': '20.453178'}, {'name': 'Komárom-Esztergom', 'extractedName': 'Komárom-Esztergom, Central Transdanubia, Transdanubia, Hungary', 'longitude': '47.6511599', 'latitude': '18.2551911'}, {'name': 'Nógrád', 'extractedName': 'Nógrád, Northern Hungary, Great Plain and North, Hungary', 'longitude': '47.9873616', 'latitude': '19.5472495'}, {'name': 'Pest', 'extractedName': 'Le Pest, Sainte-Anne, Condom, Gers, Occitania, Metropolitan France, 32430, France', 'longitude': '43.7445765', 'latitude': '0.979047'}, {'name': 'Somogy', 'extractedName': 'Somogy, Southern Transdanubia, Transdanubia, Hungary', 'longitude': '46.439656', 'latitude': '17.6212956'}, {'name': 'Szabolcs-Szatmár-Bereg', 'extractedName': 'Szabolcs-Szatmár-Bereg, Great Plain and North, Hungary', 'longitude': '48.0297821', 'latitude': '22.0040108'}, {'name': 'Tolna', 'extractedName': 'Tolna, Southern Transdanubia, Transdanubia, 7194, Hungary', 'longitude': '46.4883447', 'latitude': '18.5050005'}, {'name': 'Vas', 'extractedName': 'Vas, Western Transdanubia, Transdanubia, 9775, Hungary', 'longitude': '47.1371935', 'latitude': '16.780898'}, {'name': 'Veszprém', 'extractedName': 'Veszprém, Veszprémi járás, Veszprém, Central Transdanubia, Transdanubia, 8200, Hungary', 'longitude': '47.0928058', 'latitude': '17.9140147'}, {'name': 'Zala', 'extractedName': 'Zala, Western Transdanubia, Transdanubia, 8897, Hungary', 'longitude': '46.6713343', 'latitude': '16.8894692'}]\n"
     ]
    }
   ],
   "source": [
    "import service.osm_scraper as scraper\n",
    "\n",
    "print(data.county)\n",
    "osm_coordinates2 = scraper.scrape_page(data.county)"
   ],
   "metadata": {
    "collapsed": false,
    "pycharm": {
     "name": "#%%\n"
    }
   }
  }
 ],
 "metadata": {
  "kernelspec": {
   "display_name": "Python 3",
   "language": "python",
   "name": "python3"
  },
  "language_info": {
   "codemirror_mode": {
    "name": "ipython",
    "version": 2
   },
   "file_extension": ".py",
   "mimetype": "text/x-python",
   "name": "python",
   "nbconvert_exporter": "python",
   "pygments_lexer": "ipython2",
   "version": "2.7.6"
  }
 },
 "nbformat": 4,
 "nbformat_minor": 0
}