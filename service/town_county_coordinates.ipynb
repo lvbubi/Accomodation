{
 "cells": [
  {
   "cell_type": "markdown",
   "source": [
    "**Fetching Coordinates from OSM**"
   ],
   "metadata": {
    "collapsed": false
   }
  },
  {
   "cell_type": "code",
   "execution_count": 5,
   "outputs": [],
   "source": [
    "import pandas as pd\n",
    "import repository.csv_parser as csv\n",
    "from service import osm_scraper\n",
    "\n",
    "townData = csv.parse_package('../teir_adatok_2016/telepules/')\n",
    "countyData = csv.parse_package('../teir_adatok_2016/megye/')"
   ],
   "metadata": {
    "collapsed": false,
    "pycharm": {
     "name": "#%%\n"
    }
   }
  },
  {
   "cell_type": "code",
   "execution_count": 12,
   "outputs": [
    {
     "name": "stderr",
     "output_type": "stream",
     "text": [
      "[WDM] - Current google-chrome version is 87.0.4280\n",
      "[WDM] - Get LATEST driver version for 87.0.4280\n",
      "[WDM] - Driver [/home/lvbubi/.wdm/drivers/chromedriver/linux64/87.0.4280.88/chromedriver] found in cache\n"
     ]
    },
    {
     "name": "stdout",
     "output_type": "stream",
     "text": [
      " \n",
      "Accessing page at https://www.openstreetmap.org ...\n",
      "('downloading', 'Bács-Kiskun')\n",
      "('downloading', 'Baranya')\n",
      "('downloading', 'Békés')\n",
      "('downloading', 'Borsod-Abaúj-Zemplén')\n",
      "('downloading', 'Budapest')\n",
      "('downloading', 'Csongrád-Csanád')\n",
      "('downloading', 'Fejér')\n",
      "('downloading', 'Győr-Moson-Sopron')\n",
      "('downloading', 'Hajdú-Bihar')\n",
      "('downloading', 'Heves')\n",
      "('downloading', 'Jász-Nagykun-Szolnok')\n",
      "('downloading', 'Komárom-Esztergom')\n",
      "('downloading', 'Nógrád')\n",
      "('downloading', 'Pest')\n",
      "('downloading', 'Somogy')\n",
      "('downloading', 'Szabolcs-Szatmár-Bereg')\n",
      "('downloading', 'Tolna')\n",
      "('downloading', 'Vas')\n",
      "('downloading', 'Veszprém')\n",
      "('downloading', 'Zala')\n",
      "DONE\n"
     ]
    }
   ],
   "source": [
    "county_coordinates = osm_scraper.scrape_page(countyData[0]['Megnevezés'])"
   ],
   "metadata": {
    "collapsed": false,
    "pycharm": {
     "name": "#%%\n"
    }
   }
  },
  {
   "cell_type": "code",
   "execution_count": null,
   "outputs": [],
   "source": [
    "#town_coordinates = osm_scraper.scrape_page(townData[0]['Megnevezés'])"
   ],
   "metadata": {
    "collapsed": false,
    "pycharm": {
     "name": "#%%\n"
    }
   }
  },
  {
   "cell_type": "markdown",
   "source": [
    "**Export to csv**"
   ],
   "metadata": {
    "collapsed": false
   }
  },
  {
   "cell_type": "code",
   "execution_count": 18,
   "outputs": [],
   "source": [
    "pd.DataFrame.from_dict(county_coordinates)\\\n",
    "    .to_csv('countyCoordinates.csv')"
   ],
   "metadata": {
    "collapsed": false,
    "pycharm": {
     "name": "#%%\n"
    }
   }
  },
  {
   "cell_type": "code",
   "execution_count": null,
   "outputs": [],
   "source": [
    "#pd.DataFrame.from_dict(town_coordinates).to_csv('townCoordinates.csv')"
   ],
   "metadata": {
    "collapsed": false,
    "pycharm": {
     "name": "#%%\n"
    }
   }
  }
 ],
 "metadata": {
  "celltoolbar": "Raw Cell Format",
  "kernelspec": {
   "name": "pycharm-1d549122",
   "language": "python",
   "display_name": "PyCharm (Accomodation)"
  },
  "language_info": {
   "codemirror_mode": {
    "name": "ipython",
    "version": 3
   },
   "file_extension": ".py",
   "mimetype": "text/x-python",
   "name": "python",
   "nbconvert_exporter": "python",
   "pygments_lexer": "ipython3",
   "version": "3.6.9"
  }
 },
 "nbformat": 4,
 "nbformat_minor": 2
}