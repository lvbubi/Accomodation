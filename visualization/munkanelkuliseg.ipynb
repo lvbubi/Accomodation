{
 "cells": [
  {
   "cell_type": "code",
   "execution_count": 1,
   "metadata": {
    "collapsed": true
   },
   "outputs": [
    {
     "name": "stderr",
     "output_type": "stream",
     "text": [
      "/home/lvbubi/PycharmProjects/Accomodation/repository/csv_parser.py:24: UserWarning: Pandas doesn't allow columns to be created via a new attribute name - see https://pandas.pydata.org/pandas-docs/stable/indexing.html#attribute-access\n",
      "  dataframe.name = column_names[['id', 'title']]\n"
     ]
    }
   ],
   "source": [
    "from repository.csv_parser import parse_package\n",
    "import service.coordinate_service as service\n",
    "\n",
    "countyData = parse_package('../teir_adatok_2016/megye/')"
   ]
  },
  {
   "cell_type": "code",
   "execution_count": 2,
   "outputs": [],
   "source": [
    "data = service.add_coordinates_to_county(countyData[0])"
   ],
   "metadata": {
    "collapsed": false,
    "pycharm": {
     "name": "#%%\n"
    }
   }
  },
  {
   "cell_type": "code",
   "execution_count": 3,
   "outputs": [],
   "source": [
    "import folium as folium\n",
    "\n",
    "\n",
    "def create_map(data, filename):\n",
    "    # Make an empty map\n",
    "    m = folium.Map(location=[47.509113, 19.0282913], tiles=\"OpenStreetMap\", zoom_start=7)\n",
    "\n",
    "    # I can add marker one by one on the map\n",
    "    for i in range(0, len(data)):\n",
    "        folium.Circle(\n",
    "            location=[data.iloc[i].coordinate[1], data.iloc[i].coordinate[0]],\n",
    "            popup=data.iloc[i]['title'],\n",
    "            radius=int(data.iloc[i]['A']),\n",
    "            color='crimson',\n",
    "            fill=True,\n",
    "            fill_color='crimson'\n",
    "        ).add_to(m)\n",
    "\n",
    "    # Save it as html\n",
    "\n",
    "    m.save(filename)"
   ],
   "metadata": {
    "collapsed": false,
    "pycharm": {
     "name": "#%%\n"
    }
   }
  },
  {
   "cell_type": "code",
   "execution_count": 4,
   "outputs": [
    {
     "name": "stdout",
     "output_type": "stream",
     "text": [
      "0             [19.5128532, 46.5809294]\n",
      "1             [18.1669246, 45.9714436]\n",
      "2             [20.9820736, 46.7862993]\n",
      "3             [21.1353474, 48.2397936]\n",
      "4     [19.14607278448202, 47.48138955]\n",
      "5             [20.2277606, 46.4515164]\n",
      "6             [18.6088562, 47.0939434]\n",
      "7             [17.3796437, 47.6610134]\n",
      "8             [21.4752281, 47.4407848]\n",
      "9             [20.1714412, 47.7884409]\n",
      "10             [20.453178, 47.2971598]\n",
      "11            [18.2551911, 47.6511599]\n",
      "12            [19.0478895, 47.9094266]\n",
      "13              [0.979047, 43.7445765]\n",
      "14             [17.6212956, 46.439656]\n",
      "15            [22.0040108, 48.0297821]\n",
      "16            [18.5050005, 46.4883447]\n",
      "17             [16.780898, 47.1371935]\n",
      "18            [17.9140147, 47.0928058]\n",
      "19            [16.8894692, 46.6713343]\n",
      "Name: coordinate, dtype: object\n"
     ]
    }
   ],
   "source": [
    "print(data.coordinate)\n",
    "create_map(data, 'mymap.html')"
   ],
   "metadata": {
    "collapsed": false,
    "pycharm": {
     "name": "#%%\n"
    }
   }
  }
 ],
 "metadata": {
  "kernelspec": {
   "name": "pycharm-1d549122",
   "language": "python",
   "display_name": "PyCharm (Accomodation)"
  },
  "language_info": {
   "codemirror_mode": {
    "name": "ipython",
    "version": 2
   },
   "file_extension": ".py",
   "mimetype": "text/x-python",
   "name": "python",
   "nbconvert_exporter": "python",
   "pygments_lexer": "ipython2",
   "version": "2.7.6"
  }
 },
 "nbformat": 4,
 "nbformat_minor": 0
}