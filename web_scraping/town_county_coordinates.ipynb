{
 "cells": [
  {
   "cell_type": "markdown",
   "source": [
    "**Fetching Coordinates from OSM**"
   ],
   "metadata": {
    "collapsed": false
   }
  },
  {
   "cell_type": "code",
   "execution_count": 1,
   "outputs": [
    {
     "name": "stderr",
     "output_type": "stream",
     "text": [
      "/home/lvbubi/PycharmProjects/Accomodation/repository/csv_parser.py:24: UserWarning: Pandas doesn't allow columns to be created via a new attribute name - see https://pandas.pydata.org/pandas-docs/stable/indexing.html#attribute-access\n",
      "  dataframe.name = column_names[['id', 'title']]\n"
     ]
    }
   ],
   "source": [
    "import pandas as pd\n",
    "import repository.csv_parser as csv\n",
    "from web_scraping import osm_scraper\n",
    "\n",
    "townData = csv.parse_package('../teir_adatok_2016/telepules/')\n",
    "countyData = csv.parse_package('../teir_adatok_2016/megye/')"
   ],
   "metadata": {
    "collapsed": false,
    "pycharm": {
     "name": "#%%\n"
    }
   }
  },
  {
   "cell_type": "code",
   "execution_count": 2,
   "outputs": [
    {
     "name": "stderr",
     "output_type": "stream",
     "text": [
      "[WDM] - Current google-chrome version is 87.0.4280\n",
      "[WDM] - Get LATEST driver version for 87.0.4280\n",
      "[WDM] - Driver [/home/lvbubi/.wdm/drivers/chromedriver/linux64/87.0.4280.88/chromedriver] found in cache\n"
     ]
    },
    {
     "name": "stdout",
     "output_type": "stream",
     "text": [
      " \n",
      "Accessing page at https://www.openstreetmap.org ...\n",
      "('downloading', 'Bács-Kiskun')\n",
      "('downloading', 'Baranya')\n",
      "('downloading', 'Békés')\n",
      "('downloading', 'Borsod-Abaúj-Zemplén')\n",
      "('downloading', 'Budapest')\n",
      "('downloading', 'Csongrád-Csanád')\n",
      "('downloading', 'Fejér')\n",
      "('downloading', 'Győr-Moson-Sopron')\n",
      "('downloading', 'Hajdú-Bihar')\n",
      "('downloading', 'Heves')\n",
      "('downloading', 'Jász-Nagykun-Szolnok')\n",
      "('downloading', 'Komárom-Esztergom')\n",
      "('downloading', 'Nógrád')\n",
      "('downloading', 'Pest')\n",
      "('downloading', 'Somogy')\n",
      "('downloading', 'Szabolcs-Szatmár-Bereg')\n",
      "('downloading', 'Tolna')\n",
      "('downloading', 'Vas')\n",
      "('downloading', 'Veszprém')\n",
      "('downloading', 'Zala')\n",
      "DONE\n"
     ]
    }
   ],
   "source": [
    "county_coordinates = osm_scraper.scrape_page(countyData[0]['title'])"
   ],
   "metadata": {
    "collapsed": false,
    "pycharm": {
     "name": "#%%\n"
    }
   }
  },
  {
   "cell_type": "markdown",
   "source": [
    "**Export to csv**"
   ],
   "metadata": {
    "collapsed": false
   }
  },
  {
   "cell_type": "code",
   "execution_count": 3,
   "outputs": [],
   "source": [
    "pd.DataFrame.from_dict(county_coordinates)\\\n",
    "    .to_csv('county.csv')"
   ],
   "metadata": {
    "collapsed": false,
    "pycharm": {
     "name": "#%%\n"
    }
   }
  },
  {
   "cell_type": "code",
   "execution_count": null,
   "outputs": [],
   "source": [
    "df = townData[0] # type: pd.DataFrame\n",
    "\n",
    "print(df.head())\n",
    "print(df.name)"
   ],
   "metadata": {
    "collapsed": false,
    "pycharm": {
     "name": "#%%\n"
    }
   }
  },
  {
   "cell_type": "code",
   "execution_count": 8,
   "outputs": [
    {
     "name": "stderr",
     "output_type": "stream",
     "text": [
      "<ipython-input-8-eecf6ef64d70>:4: FutureWarning: The pandas.np module is deprecated and will be removed from pandas in a future version. Import numpy directly instead\n",
      "  XXX = pd.np.where(town_coordinates.title == 'Aba')\n"
     ]
    }
   ],
   "source": [
    "from ast import literal_eval as make_tuple\n",
    "town_coordinates = pd.read_csv('townCoordinates.csv')\n",
    "\n",
    "XXX = pd.np.where(town_coordinates.title == 'Aba')\n",
    "for town in town_coordinates.values:\n",
    "    try:\n",
    "        scrape_tuple = make_tuple(town[2])\n",
    "    except ValueError as e:\n",
    "        print ('Value Error')\n",
    "        print(town)"
   ],
   "metadata": {
    "collapsed": false,
    "pycharm": {
     "name": "#%%\n"
    }
   }
  },
  {
   "cell_type": "code",
   "execution_count": 9,
   "outputs": [],
   "source": [
    "df3 = pd.merge(townData[0], town_coordinates, on='title', how='inner')"
   ],
   "metadata": {
    "collapsed": false,
    "pycharm": {
     "name": "#%%\n"
    }
   }
  }
 ],
 "metadata": {
  "celltoolbar": "Raw Cell Format",
  "kernelspec": {
   "name": "pycharm-1d549122",
   "language": "python",
   "display_name": "PyCharm (Accomodation)"
  },
  "language_info": {
   "codemirror_mode": {
    "name": "ipython",
    "version": 3
   },
   "file_extension": ".py",
   "mimetype": "text/x-python",
   "name": "python",
   "nbconvert_exporter": "python",
   "pygments_lexer": "ipython3",
   "version": "3.6.9"
  }
 },
 "nbformat": 4,
 "nbformat_minor": 2
}