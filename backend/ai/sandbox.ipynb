{
 "cells": [
  {
   "cell_type": "code",
   "execution_count": 44,
   "metadata": {
    "collapsed": true,
    "pycharm": {
     "name": "#%%\n"
    }
   },
   "outputs": [
    {
     "name": "stderr",
     "output_type": "stream",
     "text": [
      "/home/lvbubi/PycharmProjects/Accomodation/backend/service/csv_parser.py:24: UserWarning: Pandas doesn't allow columns to be created via a new attribute name - see https://pandas.pydata.org/pandas-docs/stable/indexing.html#attribute-access\n",
      "  dataframe.name = column_names[['id', 'title']]\n"
     ]
    }
   ],
   "source": [
    "from sklearn.metrics import plot_confusion_matrix, roc_auc_score, f1_score, classification_report\n",
    "from sklearn.model_selection import train_test_split\n",
    "from sklearn.neural_network import MLPClassifier\n",
    "from service.csv_parser import parse_package\n",
    "import service.coordinate_service as service\n",
    "\n",
    "countyData = parse_package('../teir_adatok_2016/megye/')\n",
    "townData = parse_package('../teir_adatok_2016/telepules/')"
   ]
  },
  {
   "cell_type": "code",
   "execution_count": 45,
   "outputs": [
    {
     "name": "stdout",
     "output_type": "stream",
     "text": [
      "                                                   id title\n",
      "21  Állandó népesség, férfiak összesen (dec. 31.),...     A\n",
      "22  Állandó népesség, nők összesen (dec. 31.), 201...     B\n",
      "                                                   id title\n",
      "21  Teljes munkaidőben foglalkoztatott férfi, 15-2...     A\n",
      "22  Teljes munkaidőben foglalkoztatott férfi, 15-6...     B\n",
      "23  Teljes munkaidőben foglalkoztatott férfi, 25-5...     C\n",
      "24  Teljes munkaidőben foglalkoztatott férfi, 55-6...     D\n",
      "25  Teljes munkaidőben foglalkoztatott nő, 15-24 é...     E\n",
      "26  Teljes munkaidőben foglalkoztatott nő, 15-64 é...     F\n",
      "27  Teljes munkaidőben foglalkoztatott nő, 25-54 é...     G\n",
      "28  Teljes munkaidőben foglalkoztatott nő, 55-64 é...     H\n"
     ]
    },
    {
     "data": {
      "text/plain": "<pandas.io.formats.style.Styler at 0x7f4265be73d0>",
      "text/html": "<style  type=\"text/css\" >\n#T_adb1551a_3938_11eb_9a7c_7f91a70968afrow0_col0,#T_adb1551a_3938_11eb_9a7c_7f91a70968afrow1_col1,#T_adb1551a_3938_11eb_9a7c_7f91a70968afrow2_col2,#T_adb1551a_3938_11eb_9a7c_7f91a70968afrow3_col3{\n            background-color:  #b40426;\n            color:  #f1f1f1;\n        }#T_adb1551a_3938_11eb_9a7c_7f91a70968afrow0_col1{\n            background-color:  #5b7ae5;\n            color:  #000000;\n        }#T_adb1551a_3938_11eb_9a7c_7f91a70968afrow0_col2,#T_adb1551a_3938_11eb_9a7c_7f91a70968afrow1_col0,#T_adb1551a_3938_11eb_9a7c_7f91a70968afrow2_col0,#T_adb1551a_3938_11eb_9a7c_7f91a70968afrow3_col0{\n            background-color:  #3b4cc0;\n            color:  #f1f1f1;\n        }#T_adb1551a_3938_11eb_9a7c_7f91a70968afrow0_col3{\n            background-color:  #4c66d6;\n            color:  #000000;\n        }#T_adb1551a_3938_11eb_9a7c_7f91a70968afrow1_col2{\n            background-color:  #bd1f2d;\n            color:  #f1f1f1;\n        }#T_adb1551a_3938_11eb_9a7c_7f91a70968afrow1_col3{\n            background-color:  #f6a283;\n            color:  #000000;\n        }#T_adb1551a_3938_11eb_9a7c_7f91a70968afrow2_col1{\n            background-color:  #bb1b2c;\n            color:  #f1f1f1;\n        }#T_adb1551a_3938_11eb_9a7c_7f91a70968afrow2_col3{\n            background-color:  #f6bea4;\n            color:  #000000;\n        }#T_adb1551a_3938_11eb_9a7c_7f91a70968afrow3_col1{\n            background-color:  #f59c7d;\n            color:  #000000;\n        }#T_adb1551a_3938_11eb_9a7c_7f91a70968afrow3_col2{\n            background-color:  #f4c5ad;\n            color:  #000000;\n        }</style><table id=\"T_adb1551a_3938_11eb_9a7c_7f91a70968af\" ><thead>    <tr>        <th class=\"blank level0\" ></th>        <th class=\"col_heading level0 col0\" >A</th>        <th class=\"col_heading level0 col1\" >B</th>        <th class=\"col_heading level0 col2\" >C</th>        <th class=\"col_heading level0 col3\" >D</th>    </tr></thead><tbody>\n                <tr>\n                        <th id=\"T_adb1551a_3938_11eb_9a7c_7f91a70968aflevel0_row0\" class=\"row_heading level0 row0\" >A</th>\n                        <td id=\"T_adb1551a_3938_11eb_9a7c_7f91a70968afrow0_col0\" class=\"data row0 col0\" >1.0</td>\n                        <td id=\"T_adb1551a_3938_11eb_9a7c_7f91a70968afrow0_col1\" class=\"data row0 col1\" >-0.076</td>\n                        <td id=\"T_adb1551a_3938_11eb_9a7c_7f91a70968afrow0_col2\" class=\"data row0 col2\" >-0.21</td>\n                        <td id=\"T_adb1551a_3938_11eb_9a7c_7f91a70968afrow0_col3\" class=\"data row0 col3\" >-0.13</td>\n            </tr>\n            <tr>\n                        <th id=\"T_adb1551a_3938_11eb_9a7c_7f91a70968aflevel0_row1\" class=\"row_heading level0 row1\" >B</th>\n                        <td id=\"T_adb1551a_3938_11eb_9a7c_7f91a70968afrow1_col0\" class=\"data row1 col0\" >-0.076</td>\n                        <td id=\"T_adb1551a_3938_11eb_9a7c_7f91a70968afrow1_col1\" class=\"data row1 col1\" >1.0</td>\n                        <td id=\"T_adb1551a_3938_11eb_9a7c_7f91a70968afrow1_col2\" class=\"data row1 col2\" >0.97</td>\n                        <td id=\"T_adb1551a_3938_11eb_9a7c_7f91a70968afrow1_col3\" class=\"data row1 col3\" >0.71</td>\n            </tr>\n            <tr>\n                        <th id=\"T_adb1551a_3938_11eb_9a7c_7f91a70968aflevel0_row2\" class=\"row_heading level0 row2\" >C</th>\n                        <td id=\"T_adb1551a_3938_11eb_9a7c_7f91a70968afrow2_col0\" class=\"data row2 col0\" >-0.21</td>\n                        <td id=\"T_adb1551a_3938_11eb_9a7c_7f91a70968afrow2_col1\" class=\"data row2 col1\" >0.97</td>\n                        <td id=\"T_adb1551a_3938_11eb_9a7c_7f91a70968afrow2_col2\" class=\"data row2 col2\" >1.0</td>\n                        <td id=\"T_adb1551a_3938_11eb_9a7c_7f91a70968afrow2_col3\" class=\"data row2 col3\" >0.57</td>\n            </tr>\n            <tr>\n                        <th id=\"T_adb1551a_3938_11eb_9a7c_7f91a70968aflevel0_row3\" class=\"row_heading level0 row3\" >D</th>\n                        <td id=\"T_adb1551a_3938_11eb_9a7c_7f91a70968afrow3_col0\" class=\"data row3 col0\" >-0.13</td>\n                        <td id=\"T_adb1551a_3938_11eb_9a7c_7f91a70968afrow3_col1\" class=\"data row3 col1\" >0.71</td>\n                        <td id=\"T_adb1551a_3938_11eb_9a7c_7f91a70968afrow3_col2\" class=\"data row3 col2\" >0.57</td>\n                        <td id=\"T_adb1551a_3938_11eb_9a7c_7f91a70968afrow3_col3\" class=\"data row3 col3\" >1.0</td>\n            </tr>\n    </tbody></table>"
     },
     "execution_count": 45,
     "metadata": {},
     "output_type": "execute_result"
    }
   ],
   "source": [
    "import matplotlib.pyplot as plt\n",
    "population = countyData[5]\n",
    "munkanelkuli = countyData[0]\n",
    "print(population.name)\n",
    "print(munkanelkuli.name)\n",
    "\n",
    "munkanelkuli_ferfi = munkanelkuli[['A', 'B', 'C', 'D']]\n",
    "munkanelkuli_no = munkanelkuli[['E', 'F', 'G', 'H']]\n",
    "\n",
    "munkanelkuli_ferfi_prob = munkanelkuli_ferfi.div(population['SUM(A)'], axis=0)\n",
    "munkanelkuli_ferfi_prob.corr(method='pearson').style.format(\"{:.2}\").background_gradient(cmap=plt.get_cmap('coolwarm'), axis=1)\n",
    "#plt.matshow(munkanelkuli_ferfi_prob.corr(method='pearson'), cmap='coolwarm')\n",
    "#plt.show()"
   ],
   "metadata": {
    "collapsed": false,
    "pycharm": {
     "name": "#%%\n"
    }
   }
  },
  {
   "cell_type": "code",
   "execution_count": 46,
   "outputs": [
    {
     "name": "stdout",
     "output_type": "stream",
     "text": [
      "                                                     id title\n",
      "3156  Állandó népesség, férfiak összesen (dec. 31.),...     A\n",
      "3157  Állandó népesség, nők összesen (dec. 31.), 201...     B\n",
      "                                                     id title\n",
      "3156  Nyilvántartott álláskeresők: 0-18 éves, 2016(T...     A\n",
      "3157  Nyilvántartott álláskeresők: 19-20 éves, 2016(...     B\n",
      "3158  Nyilvántartott álláskeresők: 21-25 éves, 2016(...     C\n",
      "3159  Nyilvántartott álláskeresők: 26-30 éves, 2016(...     D\n",
      "3160  Nyilvántartott álláskeresők: 31-35 éves, 2016(...     E\n",
      "3161  Nyilvántartott álláskeresők: 36-40 éves, 2016(...     F\n",
      "3162  Nyilvántartott álláskeresők: 41-45 éves, 2016(...     G\n",
      "3163  Nyilvántartott álláskeresők: 46-50 éves, 2016(...     H\n",
      "3164  Nyilvántartott álláskeresők: 51-55 éves, 2016(...     I\n",
      "3165  Nyilvántartott álláskeresők: 51-60 éves, 2016(...     J\n",
      "3166  Nyilvántartott álláskeresők: 61-X éves, 2016(T...     K\n",
      "0       4635.0\n",
      "1       4297.0\n",
      "2        697.0\n",
      "3       2449.0\n",
      "4         74.0\n",
      "         ...  \n",
      "3150     860.0\n",
      "3151    3527.0\n",
      "3152     174.0\n",
      "3153     761.0\n",
      "3154     558.0\n",
      "Length: 3155, dtype: float64\n"
     ]
    }
   ],
   "source": [
    "print(townData[3].name)\n",
    "print(townData[5].name)\n",
    "male_population = townData[3]['A']\n",
    "femaile_population = townData[3]['B']\n",
    "full_town_population = male_population + femaile_population\n",
    "print(full_town_population)"
   ],
   "metadata": {
    "collapsed": false,
    "pycharm": {
     "name": "#%%\n"
    }
   }
  },
  {
   "cell_type": "code",
   "execution_count": 47,
   "outputs": [],
   "source": [
    "town_mn = service.add_coordinates_to_town(townData[5])\n",
    "#town_mn = town_mn[town_mn['county'].str.contains('Borsod') == False]\n",
    "town_mn = town_mn[::10]\n",
    "town_mn.fillna(0, inplace=True)"
   ],
   "metadata": {
    "collapsed": false,
    "pycharm": {
     "name": "#%%\n"
    }
   }
  },
  {
   "cell_type": "code",
   "execution_count": 48,
   "outputs": [],
   "source": [
    "X = town_mn[['A', 'B', 'C', 'D']]\n",
    "X = X.div(full_town_population, axis=0)\n",
    "#X.fillna(0, inplace=True)\n",
    "\n",
    "X = X.values\n",
    "y = town_mn['county'].values.reshape(-1,1)"
   ],
   "metadata": {
    "collapsed": false,
    "pycharm": {
     "name": "#%%\n"
    }
   }
  },
  {
   "cell_type": "code",
   "execution_count": 49,
   "outputs": [
    {
     "ename": "ValueError",
     "evalue": "Found input variables with inconsistent numbers of samples: [3155, 316]",
     "output_type": "error",
     "traceback": [
      "\u001B[0;31m---------------------------------------------------------------------------\u001B[0m",
      "\u001B[0;31mValueError\u001B[0m                                Traceback (most recent call last)",
      "\u001B[0;32m<ipython-input-49-3f0d0e8bfa31>\u001B[0m in \u001B[0;36m<module>\u001B[0;34m\u001B[0m\n\u001B[1;32m      1\u001B[0m \u001B[0;31m# Tréning és teszt adatok létrehozása 2/3 és 1/3 vágással\u001B[0m\u001B[0;34m\u001B[0m\u001B[0;34m\u001B[0m\u001B[0;34m\u001B[0m\u001B[0m\n\u001B[0;32m----> 2\u001B[0;31m \u001B[0mX_train\u001B[0m\u001B[0;34m,\u001B[0m \u001B[0mX_test\u001B[0m\u001B[0;34m,\u001B[0m \u001B[0my_train\u001B[0m\u001B[0;34m,\u001B[0m \u001B[0my_test\u001B[0m \u001B[0;34m=\u001B[0m \u001B[0mtrain_test_split\u001B[0m\u001B[0;34m(\u001B[0m\u001B[0mX\u001B[0m\u001B[0;34m,\u001B[0m \u001B[0my\u001B[0m\u001B[0;34m,\u001B[0m \u001B[0mtest_size\u001B[0m\u001B[0;34m=\u001B[0m\u001B[0;36m0.33\u001B[0m\u001B[0;34m)\u001B[0m\u001B[0;34m\u001B[0m\u001B[0;34m\u001B[0m\u001B[0m\n\u001B[0m\u001B[1;32m      3\u001B[0m \u001B[0;34m\u001B[0m\u001B[0m\n",
      "\u001B[0;32m/usr/local/lib/python3.8/dist-packages/sklearn/model_selection/_split.py\u001B[0m in \u001B[0;36mtrain_test_split\u001B[0;34m(*arrays, **options)\u001B[0m\n\u001B[1;32m   2125\u001B[0m         \u001B[0;32mraise\u001B[0m \u001B[0mTypeError\u001B[0m\u001B[0;34m(\u001B[0m\u001B[0;34m\"Invalid parameters passed: %s\"\u001B[0m \u001B[0;34m%\u001B[0m \u001B[0mstr\u001B[0m\u001B[0;34m(\u001B[0m\u001B[0moptions\u001B[0m\u001B[0;34m)\u001B[0m\u001B[0;34m)\u001B[0m\u001B[0;34m\u001B[0m\u001B[0;34m\u001B[0m\u001B[0m\n\u001B[1;32m   2126\u001B[0m \u001B[0;34m\u001B[0m\u001B[0m\n\u001B[0;32m-> 2127\u001B[0;31m     \u001B[0marrays\u001B[0m \u001B[0;34m=\u001B[0m \u001B[0mindexable\u001B[0m\u001B[0;34m(\u001B[0m\u001B[0;34m*\u001B[0m\u001B[0marrays\u001B[0m\u001B[0;34m)\u001B[0m\u001B[0;34m\u001B[0m\u001B[0;34m\u001B[0m\u001B[0m\n\u001B[0m\u001B[1;32m   2128\u001B[0m \u001B[0;34m\u001B[0m\u001B[0m\n\u001B[1;32m   2129\u001B[0m     \u001B[0mn_samples\u001B[0m \u001B[0;34m=\u001B[0m \u001B[0m_num_samples\u001B[0m\u001B[0;34m(\u001B[0m\u001B[0marrays\u001B[0m\u001B[0;34m[\u001B[0m\u001B[0;36m0\u001B[0m\u001B[0;34m]\u001B[0m\u001B[0;34m)\u001B[0m\u001B[0;34m\u001B[0m\u001B[0;34m\u001B[0m\u001B[0m\n",
      "\u001B[0;32m/usr/local/lib/python3.8/dist-packages/sklearn/utils/validation.py\u001B[0m in \u001B[0;36mindexable\u001B[0;34m(*iterables)\u001B[0m\n\u001B[1;32m    290\u001B[0m     \"\"\"\n\u001B[1;32m    291\u001B[0m     \u001B[0mresult\u001B[0m \u001B[0;34m=\u001B[0m \u001B[0;34m[\u001B[0m\u001B[0m_make_indexable\u001B[0m\u001B[0;34m(\u001B[0m\u001B[0mX\u001B[0m\u001B[0;34m)\u001B[0m \u001B[0;32mfor\u001B[0m \u001B[0mX\u001B[0m \u001B[0;32min\u001B[0m \u001B[0miterables\u001B[0m\u001B[0;34m]\u001B[0m\u001B[0;34m\u001B[0m\u001B[0;34m\u001B[0m\u001B[0m\n\u001B[0;32m--> 292\u001B[0;31m     \u001B[0mcheck_consistent_length\u001B[0m\u001B[0;34m(\u001B[0m\u001B[0;34m*\u001B[0m\u001B[0mresult\u001B[0m\u001B[0;34m)\u001B[0m\u001B[0;34m\u001B[0m\u001B[0;34m\u001B[0m\u001B[0m\n\u001B[0m\u001B[1;32m    293\u001B[0m     \u001B[0;32mreturn\u001B[0m \u001B[0mresult\u001B[0m\u001B[0;34m\u001B[0m\u001B[0;34m\u001B[0m\u001B[0m\n\u001B[1;32m    294\u001B[0m \u001B[0;34m\u001B[0m\u001B[0m\n",
      "\u001B[0;32m/usr/local/lib/python3.8/dist-packages/sklearn/utils/validation.py\u001B[0m in \u001B[0;36mcheck_consistent_length\u001B[0;34m(*arrays)\u001B[0m\n\u001B[1;32m    253\u001B[0m     \u001B[0muniques\u001B[0m \u001B[0;34m=\u001B[0m \u001B[0mnp\u001B[0m\u001B[0;34m.\u001B[0m\u001B[0munique\u001B[0m\u001B[0;34m(\u001B[0m\u001B[0mlengths\u001B[0m\u001B[0;34m)\u001B[0m\u001B[0;34m\u001B[0m\u001B[0;34m\u001B[0m\u001B[0m\n\u001B[1;32m    254\u001B[0m     \u001B[0;32mif\u001B[0m \u001B[0mlen\u001B[0m\u001B[0;34m(\u001B[0m\u001B[0muniques\u001B[0m\u001B[0;34m)\u001B[0m \u001B[0;34m>\u001B[0m \u001B[0;36m1\u001B[0m\u001B[0;34m:\u001B[0m\u001B[0;34m\u001B[0m\u001B[0;34m\u001B[0m\u001B[0m\n\u001B[0;32m--> 255\u001B[0;31m         raise ValueError(\"Found input variables with inconsistent numbers of\"\n\u001B[0m\u001B[1;32m    256\u001B[0m                          \" samples: %r\" % [int(l) for l in lengths])\n\u001B[1;32m    257\u001B[0m \u001B[0;34m\u001B[0m\u001B[0m\n",
      "\u001B[0;31mValueError\u001B[0m: Found input variables with inconsistent numbers of samples: [3155, 316]"
     ]
    }
   ],
   "source": [
    "# Tréning és teszt adatok létrehozása 2/3 és 1/3 vágással\n",
    "X_train, X_test, y_train, y_test = train_test_split(X, y, test_size=0.33)"
   ],
   "metadata": {
    "collapsed": false,
    "pycharm": {
     "name": "#%%\n"
    }
   }
  },
  {
   "cell_type": "code",
   "execution_count": null,
   "outputs": [],
   "source": [
    "# 4. SGD\n",
    "classifier_5 = MLPClassifier(\n",
    "                    hidden_layer_sizes=(4,),\n",
    "                    activation='tanh',\n",
    "                    solver='sgd',\n",
    "                    max_iter=1000,\n",
    "                    alpha=0.005,\n",
    "                    learning_rate='adaptive',\n",
    "                    random_state=0)\n",
    "\n",
    "classifier_5.fit(X_train, y_train.ravel())\n",
    "y_pred_clf_5 = classifier_5.predict(X_test)\n",
    "\n",
    "plot_confusion_matrix(classifier_5, X_test, y_test, cmap=plt.cm.Blues)\n",
    "plt.show()"
   ],
   "metadata": {
    "collapsed": false,
    "pycharm": {
     "name": "#%%\n"
    }
   }
  },
  {
   "cell_type": "code",
   "execution_count": null,
   "outputs": [],
   "source": [
    "print('roc auc score: '+str(roc_auc_score(y_true=y_test, y_score=y_pred_clf_5)))\n",
    "print('f1 score: '+ str(f1_score(y_true=y_test, y_pred=y_pred_clf_5)))\n",
    "print('Accuracy score: '+ str(classifier_5.score(X_test,y_test)))\n",
    "print(classification_report(y_true=y_test, y_pred=y_pred_clf_5))\n",
    "\n",
    "#results.append({'name': 'SGD+TANH(6)', 'accuracy_score': classifier_5.score(X_test,y_test) ,'f1-score': f1_score(y_true=y_test, y_pred=y_pred_clf_5), 'roc_auc_score': roc_auc_score(y_true=y_test, y_score=y_pred_clf_5), 'solver': 'sgd', 'activation': 'tanh'})"
   ],
   "metadata": {
    "collapsed": false,
    "pycharm": {
     "name": "#%%\n"
    }
   }
  }
 ],
 "metadata": {
  "kernelspec": {
   "name": "pycharm-1d549122",
   "language": "python",
   "display_name": "PyCharm (Accomodation)"
  },
  "language_info": {
   "codemirror_mode": {
    "name": "ipython",
    "version": 2
   },
   "file_extension": ".py",
   "mimetype": "text/x-python",
   "name": "python",
   "nbconvert_exporter": "python",
   "pygments_lexer": "ipython2",
   "version": "2.7.6"
  }
 },
 "nbformat": 4,
 "nbformat_minor": 0
}