{
 "cells": [
  {
   "cell_type": "code",
   "execution_count": 1,
   "metadata": {
    "collapsed": true
   },
   "outputs": [
    {
     "name": "stderr",
     "output_type": "stream",
     "text": [
      "/home/lvbubi/PycharmProjects/Accomodation/backend/repository/csv_parser.py:24: UserWarning: Pandas doesn't allow columns to be created via a new attribute name - see https://pandas.pydata.org/pandas-docs/stable/indexing.html#attribute-access\n",
      "  dataframe.name = column_names[['id', 'title']]\n"
     ]
    }
   ],
   "source": [
    "from service.csv_parser import parse_package\n",
    "import service.coordinate_service as service\n",
    "\n",
    "countyData = parse_package('../teir_adatok_2016/megye/')\n",
    "townData = parse_package('../teir_adatok_2016/telepules/')"
   ]
  },
  {
   "cell_type": "code",
   "execution_count": 29,
   "outputs": [
    {
     "name": "stdout",
     "output_type": "stream",
     "text": [
      "                                                   id title\n",
      "21  Állandó népesség, férfiak összesen (dec. 31.),...     A\n",
      "22  Állandó népesség, nők összesen (dec. 31.), 201...     B\n",
      "                                                   id title\n",
      "21  Teljes munkaidőben foglalkoztatott férfi, 15-2...     A\n",
      "22  Teljes munkaidőben foglalkoztatott férfi, 15-6...     B\n",
      "23  Teljes munkaidőben foglalkoztatott férfi, 25-5...     C\n",
      "24  Teljes munkaidőben foglalkoztatott férfi, 55-6...     D\n",
      "25  Teljes munkaidőben foglalkoztatott nő, 15-24 é...     E\n",
      "26  Teljes munkaidőben foglalkoztatott nő, 15-64 é...     F\n",
      "27  Teljes munkaidőben foglalkoztatott nő, 25-54 é...     G\n",
      "28  Teljes munkaidőben foglalkoztatott nő, 55-64 é...     H\n"
     ]
    },
    {
     "data": {
      "text/plain": "<pandas.io.formats.style.Styler at 0x7f11178048b0>",
      "text/html": "<style  type=\"text/css\" >\n#T_deb789e0_37f8_11eb_aea8_09f5eb862989row0_col0,#T_deb789e0_37f8_11eb_aea8_09f5eb862989row1_col1,#T_deb789e0_37f8_11eb_aea8_09f5eb862989row2_col2,#T_deb789e0_37f8_11eb_aea8_09f5eb862989row3_col3{\n            background-color:  #b40426;\n            color:  #f1f1f1;\n        }#T_deb789e0_37f8_11eb_aea8_09f5eb862989row0_col1{\n            background-color:  #5b7ae5;\n            color:  #000000;\n        }#T_deb789e0_37f8_11eb_aea8_09f5eb862989row0_col2,#T_deb789e0_37f8_11eb_aea8_09f5eb862989row1_col0,#T_deb789e0_37f8_11eb_aea8_09f5eb862989row2_col0,#T_deb789e0_37f8_11eb_aea8_09f5eb862989row3_col0{\n            background-color:  #3b4cc0;\n            color:  #f1f1f1;\n        }#T_deb789e0_37f8_11eb_aea8_09f5eb862989row0_col3{\n            background-color:  #4c66d6;\n            color:  #000000;\n        }#T_deb789e0_37f8_11eb_aea8_09f5eb862989row1_col2{\n            background-color:  #bd1f2d;\n            color:  #f1f1f1;\n        }#T_deb789e0_37f8_11eb_aea8_09f5eb862989row1_col3{\n            background-color:  #f6a283;\n            color:  #000000;\n        }#T_deb789e0_37f8_11eb_aea8_09f5eb862989row2_col1{\n            background-color:  #bb1b2c;\n            color:  #f1f1f1;\n        }#T_deb789e0_37f8_11eb_aea8_09f5eb862989row2_col3{\n            background-color:  #f6bea4;\n            color:  #000000;\n        }#T_deb789e0_37f8_11eb_aea8_09f5eb862989row3_col1{\n            background-color:  #f59c7d;\n            color:  #000000;\n        }#T_deb789e0_37f8_11eb_aea8_09f5eb862989row3_col2{\n            background-color:  #f4c5ad;\n            color:  #000000;\n        }</style><table id=\"T_deb789e0_37f8_11eb_aea8_09f5eb862989\" ><thead>    <tr>        <th class=\"blank level0\" ></th>        <th class=\"col_heading level0 col0\" >A</th>        <th class=\"col_heading level0 col1\" >B</th>        <th class=\"col_heading level0 col2\" >C</th>        <th class=\"col_heading level0 col3\" >D</th>    </tr></thead><tbody>\n                <tr>\n                        <th id=\"T_deb789e0_37f8_11eb_aea8_09f5eb862989level0_row0\" class=\"row_heading level0 row0\" >A</th>\n                        <td id=\"T_deb789e0_37f8_11eb_aea8_09f5eb862989row0_col0\" class=\"data row0 col0\" >1.0</td>\n                        <td id=\"T_deb789e0_37f8_11eb_aea8_09f5eb862989row0_col1\" class=\"data row0 col1\" >-0.076</td>\n                        <td id=\"T_deb789e0_37f8_11eb_aea8_09f5eb862989row0_col2\" class=\"data row0 col2\" >-0.21</td>\n                        <td id=\"T_deb789e0_37f8_11eb_aea8_09f5eb862989row0_col3\" class=\"data row0 col3\" >-0.13</td>\n            </tr>\n            <tr>\n                        <th id=\"T_deb789e0_37f8_11eb_aea8_09f5eb862989level0_row1\" class=\"row_heading level0 row1\" >B</th>\n                        <td id=\"T_deb789e0_37f8_11eb_aea8_09f5eb862989row1_col0\" class=\"data row1 col0\" >-0.076</td>\n                        <td id=\"T_deb789e0_37f8_11eb_aea8_09f5eb862989row1_col1\" class=\"data row1 col1\" >1.0</td>\n                        <td id=\"T_deb789e0_37f8_11eb_aea8_09f5eb862989row1_col2\" class=\"data row1 col2\" >0.97</td>\n                        <td id=\"T_deb789e0_37f8_11eb_aea8_09f5eb862989row1_col3\" class=\"data row1 col3\" >0.71</td>\n            </tr>\n            <tr>\n                        <th id=\"T_deb789e0_37f8_11eb_aea8_09f5eb862989level0_row2\" class=\"row_heading level0 row2\" >C</th>\n                        <td id=\"T_deb789e0_37f8_11eb_aea8_09f5eb862989row2_col0\" class=\"data row2 col0\" >-0.21</td>\n                        <td id=\"T_deb789e0_37f8_11eb_aea8_09f5eb862989row2_col1\" class=\"data row2 col1\" >0.97</td>\n                        <td id=\"T_deb789e0_37f8_11eb_aea8_09f5eb862989row2_col2\" class=\"data row2 col2\" >1.0</td>\n                        <td id=\"T_deb789e0_37f8_11eb_aea8_09f5eb862989row2_col3\" class=\"data row2 col3\" >0.57</td>\n            </tr>\n            <tr>\n                        <th id=\"T_deb789e0_37f8_11eb_aea8_09f5eb862989level0_row3\" class=\"row_heading level0 row3\" >D</th>\n                        <td id=\"T_deb789e0_37f8_11eb_aea8_09f5eb862989row3_col0\" class=\"data row3 col0\" >-0.13</td>\n                        <td id=\"T_deb789e0_37f8_11eb_aea8_09f5eb862989row3_col1\" class=\"data row3 col1\" >0.71</td>\n                        <td id=\"T_deb789e0_37f8_11eb_aea8_09f5eb862989row3_col2\" class=\"data row3 col2\" >0.57</td>\n                        <td id=\"T_deb789e0_37f8_11eb_aea8_09f5eb862989row3_col3\" class=\"data row3 col3\" >1.0</td>\n            </tr>\n    </tbody></table>"
     },
     "execution_count": 29,
     "metadata": {},
     "output_type": "execute_result"
    }
   ],
   "source": [
    "import matplotlib.pyplot as plt\n",
    "population = countyData[5]\n",
    "munkanelkuli = countyData[0]\n",
    "print(population.name)\n",
    "print(munkanelkuli.name)\n",
    "\n",
    "munkanelkuli_ferfi = munkanelkuli[['A', 'B', 'C', 'D']]\n",
    "munkanelkuli_no = munkanelkuli[['E', 'F', 'G', 'H']]\n",
    "\n",
    "munkanelkuli_ferfi_prob = munkanelkuli_ferfi.div(population['SUM(A)'], axis=0)\n",
    "munkanelkuli_ferfi_prob.corr(method='pearson').style.format(\"{:.2}\").background_gradient(cmap=plt.get_cmap('coolwarm'), axis=1)\n",
    "#plt.matshow(munkanelkuli_ferfi_prob.corr(method='pearson'), cmap='coolwarm')\n",
    "#plt.show()"
   ],
   "metadata": {
    "collapsed": false,
    "pycharm": {
     "name": "#%%\n"
    }
   }
  },
  {
   "cell_type": "code",
   "execution_count": 3,
   "outputs": [],
   "source": [
    "import folium as folium\n",
    "\n",
    "\n",
    "def create_map(data, filename):\n",
    "    # Make an empty map\n",
    "    m = folium.Map(location=[47.509113, 19.0282913], tiles=\"OpenStreetMap\", zoom_start=7)\n",
    "\n",
    "    # I can add marker one by one on the map\n",
    "    for i in range(0, len(data)):\n",
    "        folium.Circle(\n",
    "            location=[data.iloc[i].coordinate[1], data.iloc[i].coordinate[0]],\n",
    "            popup=data.iloc[i]['title'],\n",
    "            radius=int(data.iloc[i]['A']),\n",
    "            color='crimson',\n",
    "            fill=True,\n",
    "            fill_color='crimson'\n",
    "        ).add_to(m)\n",
    "\n",
    "    # Save it as html\n",
    "\n",
    "    m.save(filename)"
   ],
   "metadata": {
    "collapsed": false,
    "pycharm": {
     "name": "#%%\n"
    }
   }
  },
  {
   "cell_type": "code",
   "execution_count": 4,
   "outputs": [
    {
     "name": "stdout",
     "output_type": "stream",
     "text": [
      "0             [19.5128532, 46.5809294]\n",
      "1             [18.1669246, 45.9714436]\n",
      "2             [20.9820736, 46.7862993]\n",
      "3             [21.1353474, 48.2397936]\n",
      "4     [19.14607278448202, 47.48138955]\n",
      "5             [20.2277606, 46.4515164]\n",
      "6             [18.6088562, 47.0939434]\n",
      "7             [17.3796437, 47.6610134]\n",
      "8             [21.4752281, 47.4407848]\n",
      "9             [20.1714412, 47.7884409]\n",
      "10             [20.453178, 47.2971598]\n",
      "11            [18.2551911, 47.6511599]\n",
      "12            [19.0478895, 47.9094266]\n",
      "13              [0.979047, 43.7445765]\n",
      "14             [17.6212956, 46.439656]\n",
      "15            [22.0040108, 48.0297821]\n",
      "16            [18.5050005, 46.4883447]\n",
      "17             [16.780898, 47.1371935]\n",
      "18            [17.9140147, 47.0928058]\n",
      "19            [16.8894692, 46.6713343]\n",
      "Name: coordinate, dtype: object\n"
     ]
    }
   ],
   "source": [
    "create_map(data, 'mymap.html')"
   ],
   "metadata": {
    "collapsed": false,
    "pycharm": {
     "name": "#%%\n"
    }
   }
  }
 ],
 "metadata": {
  "kernelspec": {
   "name": "pycharm-1d549122",
   "language": "python",
   "display_name": "PyCharm (Accomodation)"
  },
  "language_info": {
   "codemirror_mode": {
    "name": "ipython",
    "version": 2
   },
   "file_extension": ".py",
   "mimetype": "text/x-python",
   "name": "python",
   "nbconvert_exporter": "python",
   "pygments_lexer": "ipython2",
   "version": "2.7.6"
  }
 },
 "nbformat": 4,
 "nbformat_minor": 0
}