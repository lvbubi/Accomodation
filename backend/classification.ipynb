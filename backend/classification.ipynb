{
 "cells": [
  {
   "cell_type": "markdown",
   "metadata": {},
   "source": [
    "# Osztályozás"
   ]
  },
  {
   "cell_type": "markdown",
   "metadata": {},
   "source": [
    "## __Titanic adathalmaz bemutatása és előkészítése__"
   ]
  },
  {
   "cell_type": "markdown",
   "metadata": {},
   "source": [
    "Az adathalmaz 888 darab személy adatait tartalmazza, akik a Titanic-on tartózkodtak, amikor a katasztrófa bekövetkezett. \n",
    "\n",
    "Oszlopok nevei és típusai:\n",
    "    1. Survived : 0 vagy 1-es értéket vesz fel, az alapján hogy az adott személy túlélte-e a katasztrófát vagy sem --> int64 a típusa\n",
    "    2. Pclass: 1, 2 vagy 3-as értéket vehet fel, az alapján, hogy az adott személy milyen osztályon utazott --> int64 a típusa\n",
    "    3. Name: az adott illető nevét tartalmazza --> object a típusa (string)\n",
    "    4. Sex: male, vagy female-t vesz fel. Személy neme --> object a típusa (string)\n",
    "    5. Age: személy életkora --> float64 a típusa\n",
    "    6. Siblings/Spouses Aboard: megmutatja, hogy az adott illetőnek mennyi testvére van a fedélzeten, vagy házastárssal       utazik-e --> int64 a típusa\n",
    "    7. Parents/Children Aboard: megmutatja, hogy az adott személynek a szülei közül mennyien tartózkodnak a fedélzeten, vagy gyerekei közül mennyivel utazik --> int64 a típusa\n",
    "    8. Fare: mennyit fizetett a jegyért --> float64 a típusa"
   ]
  },
  {
   "cell_type": "code",
   "execution_count": 1,
   "metadata": {},
   "outputs": [],
   "source": [
    "import pandas as pd\n",
    "import numpy as np\n",
    "\n",
    "from sklearn.model_selection import train_test_split\n",
    "\n",
    "from sklearn.tree import DecisionTreeClassifier\n",
    "from sklearn.naive_bayes import GaussianNB\n",
    "from sklearn.neighbors import KNeighborsClassifier\n",
    "from sklearn.svm import SVC\n",
    "from sklearn.ensemble import RandomForestClassifier\n",
    "from sklearn.neural_network import MLPClassifier\n",
    "\n",
    "\n",
    "from sklearn.metrics import plot_confusion_matrix\n",
    "from sklearn.metrics import classification_report\n",
    "from sklearn.metrics import roc_auc_score\n",
    "from sklearn.metrics import f1_score\n",
    "from sklearn.metrics import accuracy_score\n",
    "\n",
    "\n",
    "from sklearn.tree import export_graphviz\n",
    "#from sklearn.externals.six import StringIO  \n",
    "from IPython.display import Image  \n",
    "import graphviz\n",
    "\n",
    "import matplotlib.pyplot as plt\n",
    "import seaborn as sns\n",
    "\n",
    "%matplotlib inline\n",
    "\n",
    "import warnings\n",
    "warnings.filterwarnings(\"ignore\", category=FutureWarning)"
   ]
  },
  {
   "cell_type": "code",
   "execution_count": 2,
   "metadata": {},
   "outputs": [],
   "source": [
    "# DataFrame létrehozása Excel fájlból\n",
    "titanic = pd.read_csv('Titanic.csv')"
   ]
  },
  {
   "cell_type": "code",
   "execution_count": 3,
   "metadata": {},
   "outputs": [
    {
     "data": {
      "text/plain": "   Survived  Pclass                                               Name  \\\n0         0       3                             Mr. Owen Harris Braund   \n1         1       1  Mrs. John Bradley (Florence Briggs Thayer) Cum...   \n2         1       3                              Miss. Laina Heikkinen   \n3         1       1        Mrs. Jacques Heath (Lily May Peel) Futrelle   \n4         0       3                            Mr. William Henry Allen   \n\n      Sex   Age  Siblings/Spouses Aboard  Parents/Children Aboard     Fare  \n0    male  22.0                        1                        0   7.2500  \n1  female  38.0                        1                        0  71.2833  \n2  female  26.0                        0                        0   7.9250  \n3  female  35.0                        1                        0  53.1000  \n4    male  35.0                        0                        0   8.0500  ",
      "text/html": "<div>\n<style scoped>\n    .dataframe tbody tr th:only-of-type {\n        vertical-align: middle;\n    }\n\n    .dataframe tbody tr th {\n        vertical-align: top;\n    }\n\n    .dataframe thead th {\n        text-align: right;\n    }\n</style>\n<table border=\"1\" class=\"dataframe\">\n  <thead>\n    <tr style=\"text-align: right;\">\n      <th></th>\n      <th>Survived</th>\n      <th>Pclass</th>\n      <th>Name</th>\n      <th>Sex</th>\n      <th>Age</th>\n      <th>Siblings/Spouses Aboard</th>\n      <th>Parents/Children Aboard</th>\n      <th>Fare</th>\n    </tr>\n  </thead>\n  <tbody>\n    <tr>\n      <th>0</th>\n      <td>0</td>\n      <td>3</td>\n      <td>Mr. Owen Harris Braund</td>\n      <td>male</td>\n      <td>22.0</td>\n      <td>1</td>\n      <td>0</td>\n      <td>7.2500</td>\n    </tr>\n    <tr>\n      <th>1</th>\n      <td>1</td>\n      <td>1</td>\n      <td>Mrs. John Bradley (Florence Briggs Thayer) Cum...</td>\n      <td>female</td>\n      <td>38.0</td>\n      <td>1</td>\n      <td>0</td>\n      <td>71.2833</td>\n    </tr>\n    <tr>\n      <th>2</th>\n      <td>1</td>\n      <td>3</td>\n      <td>Miss. Laina Heikkinen</td>\n      <td>female</td>\n      <td>26.0</td>\n      <td>0</td>\n      <td>0</td>\n      <td>7.9250</td>\n    </tr>\n    <tr>\n      <th>3</th>\n      <td>1</td>\n      <td>1</td>\n      <td>Mrs. Jacques Heath (Lily May Peel) Futrelle</td>\n      <td>female</td>\n      <td>35.0</td>\n      <td>1</td>\n      <td>0</td>\n      <td>53.1000</td>\n    </tr>\n    <tr>\n      <th>4</th>\n      <td>0</td>\n      <td>3</td>\n      <td>Mr. William Henry Allen</td>\n      <td>male</td>\n      <td>35.0</td>\n      <td>0</td>\n      <td>0</td>\n      <td>8.0500</td>\n    </tr>\n  </tbody>\n</table>\n</div>"
     },
     "execution_count": 3,
     "metadata": {},
     "output_type": "execute_result"
    }
   ],
   "source": [
    "titanic.head()"
   ]
  },
  {
   "cell_type": "code",
   "execution_count": 4,
   "metadata": {},
   "outputs": [],
   "source": [
    "# Eldobjuk a NAME oszlopot\n",
    "titanic.drop(labels='Name', axis=1, inplace=True)\n",
    "\n",
    "# Dummy váltóvá konvertáljuk a SEX oszlopot (referencia kódolással, ezért csak 1 oszlop lesz belőle)\n",
    "titanic['Sex'] = pd.get_dummies(titanic['Sex'], drop_first=True)"
   ]
  },
  {
   "cell_type": "code",
   "execution_count": 5,
   "metadata": {},
   "outputs": [
    {
     "data": {
      "text/plain": "   Survived  Pclass  Sex   Age  Siblings/Spouses Aboard  \\\n0         0       3    1  22.0                        1   \n1         1       1    0  38.0                        1   \n2         1       3    0  26.0                        0   \n3         1       1    0  35.0                        1   \n4         0       3    1  35.0                        0   \n\n   Parents/Children Aboard     Fare  \n0                        0   7.2500  \n1                        0  71.2833  \n2                        0   7.9250  \n3                        0  53.1000  \n4                        0   8.0500  ",
      "text/html": "<div>\n<style scoped>\n    .dataframe tbody tr th:only-of-type {\n        vertical-align: middle;\n    }\n\n    .dataframe tbody tr th {\n        vertical-align: top;\n    }\n\n    .dataframe thead th {\n        text-align: right;\n    }\n</style>\n<table border=\"1\" class=\"dataframe\">\n  <thead>\n    <tr style=\"text-align: right;\">\n      <th></th>\n      <th>Survived</th>\n      <th>Pclass</th>\n      <th>Sex</th>\n      <th>Age</th>\n      <th>Siblings/Spouses Aboard</th>\n      <th>Parents/Children Aboard</th>\n      <th>Fare</th>\n    </tr>\n  </thead>\n  <tbody>\n    <tr>\n      <th>0</th>\n      <td>0</td>\n      <td>3</td>\n      <td>1</td>\n      <td>22.0</td>\n      <td>1</td>\n      <td>0</td>\n      <td>7.2500</td>\n    </tr>\n    <tr>\n      <th>1</th>\n      <td>1</td>\n      <td>1</td>\n      <td>0</td>\n      <td>38.0</td>\n      <td>1</td>\n      <td>0</td>\n      <td>71.2833</td>\n    </tr>\n    <tr>\n      <th>2</th>\n      <td>1</td>\n      <td>3</td>\n      <td>0</td>\n      <td>26.0</td>\n      <td>0</td>\n      <td>0</td>\n      <td>7.9250</td>\n    </tr>\n    <tr>\n      <th>3</th>\n      <td>1</td>\n      <td>1</td>\n      <td>0</td>\n      <td>35.0</td>\n      <td>1</td>\n      <td>0</td>\n      <td>53.1000</td>\n    </tr>\n    <tr>\n      <th>4</th>\n      <td>0</td>\n      <td>3</td>\n      <td>1</td>\n      <td>35.0</td>\n      <td>0</td>\n      <td>0</td>\n      <td>8.0500</td>\n    </tr>\n  </tbody>\n</table>\n</div>"
     },
     "execution_count": 5,
     "metadata": {},
     "output_type": "execute_result"
    }
   ],
   "source": [
    "titanic.head()"
   ]
  },
  {
   "cell_type": "code",
   "execution_count": 6,
   "metadata": {},
   "outputs": [
    {
     "name": "stdout",
     "output_type": "stream",
     "text": [
      "Osztálycímke: ['Survived'] \n",
      "\n",
      "leíró változók: ['Pclass', 'Sex', 'Age', 'Siblings/Spouses Aboard', 'Parents/Children Aboard', 'Fare']\n"
     ]
    }
   ],
   "source": [
    "# a prediktív válltozók neveinek és az osztálycímke kimentése\n",
    "classlabel = list(titanic.columns[:1])\n",
    "features = list(titanic.columns[1:])\n",
    "print(\"Osztálycímke:\", classlabel, \"\\n\")\n",
    "print(\"leíró változók:\", features)"
   ]
  },
  {
   "cell_type": "code",
   "execution_count": 7,
   "metadata": {},
   "outputs": [],
   "source": [
    "# DataFrame-et TULAJDONSÁGOK(features, X) és CÉL(target, y) tömbökre bontjuk \n",
    "X = titanic.iloc[:, 1:].values\n",
    "y = titanic.iloc[:, 0].values.reshape(-1,1)"
   ]
  },
  {
   "cell_type": "code",
   "execution_count": 8,
   "metadata": {},
   "outputs": [],
   "source": [
    "# Tréning és teszt adatok létrehozása 2/3 és 1/3 vágással\n",
    "X_train, X_test, y_train, y_test = train_test_split(X, y, test_size=0.33)"
   ]
  },
  {
   "cell_type": "markdown",
   "metadata": {},
   "source": [
    "## __Modellek bemutatásai és implementációi__"
   ]
  },
  {
   "cell_type": "markdown",
   "metadata": {},
   "source": [
    "### 1. Döntési fa osztályozó"
   ]
  },
  {
   "cell_type": "markdown",
   "metadata": {},
   "source": [
    "#### Paraméterezés"
   ]
  },
  {
   "cell_type": "markdown",
   "metadata": {},
   "source": [
    "- criterion: teszt az attribútomok kiválasztásához\n",
    "    * \"gini\": Gini-index\n",
    "    * \"entropy\": Információ nyereség\n",
    "- splitter: vágási stratégia\n",
    "    * \"best\": legjobb vágás választása\n",
    "    * \"random\": legjobb random vágás\n",
    "- max_depth: a fa maximális mélysége\n",
    "- min_samples_split: minimális elemszám, ami ahhoz szükséges, hogy egy belső csúcsot tovább bontson az algoritmus\n",
    "- min_samples_leaf: minimális elemszám ahhoz, hogy egy csomópont lehessen \n",
    "- max_leaf_nodes: maximális levélszám\n",
    "\n",
    "és számos más paraméter..."
   ]
  },
  {
   "cell_type": "markdown",
   "metadata": {},
   "source": [
    "#### Paraméterek nélküli modell létrehozása"
   ]
  },
  {
   "cell_type": "code",
   "execution_count": 9,
   "metadata": {},
   "outputs": [
    {
     "name": "stdout",
     "output_type": "stream",
     "text": [
      "DecisionTreeClassifier()\n"
     ]
    }
   ],
   "source": [
    "clf_dtree = DecisionTreeClassifier()\n",
    "print(clf_dtree)"
   ]
  },
  {
   "cell_type": "markdown",
   "metadata": {},
   "source": [
    "#### Modell tanítása a tréninghalmazokkal"
   ]
  },
  {
   "cell_type": "code",
   "execution_count": 10,
   "metadata": {},
   "outputs": [],
   "source": [
    "clf_dtree = clf_dtree.fit(X_train,y_train)"
   ]
  },
  {
   "cell_type": "markdown",
   "metadata": {},
   "source": [
    "#### Becslés az osztálycímkére vonatkozóan"
   ]
  },
  {
   "cell_type": "code",
   "execution_count": 11,
   "metadata": {},
   "outputs": [
    {
     "data": {
      "text/plain": "array([0, 1, 0, 0, 1, 0, 1, 0, 1, 0, 1, 0, 1, 0, 0, 0, 1, 0, 1, 0, 0, 0,\n       0, 0, 0, 0, 0, 1, 0, 0, 0, 0, 0, 0, 0, 0, 0, 0, 0, 0, 0, 0, 0, 0,\n       0, 0, 0, 1, 1, 0, 0, 0, 0, 0, 0, 0, 1, 1, 0, 0, 0, 0, 0, 1, 1, 1,\n       0, 1, 1, 0, 1, 0, 0, 1, 0, 1, 0, 1, 0, 0, 1, 0, 1, 0, 0, 0, 0, 1,\n       1, 1, 0, 1, 0, 1, 0, 0, 0, 1, 0, 1, 1, 0, 0, 1, 0, 0, 0, 1, 0, 1,\n       0, 1, 1, 0, 1, 1, 1, 0, 1, 0, 0, 0, 1, 0, 0, 1, 1, 0, 0, 1, 0, 0,\n       0, 0, 0, 0, 0, 0, 0, 0, 0, 0, 1, 1, 0, 0, 1, 0, 1, 0, 1, 0, 1, 1,\n       0, 0, 0, 1, 1, 0, 1, 1, 0, 0, 0, 1, 0, 0, 0, 0, 0, 0, 0, 0, 0, 0,\n       0, 0, 0, 1, 1, 1, 0, 0, 1, 0, 0, 0, 0, 1, 0, 0, 0, 0, 0, 0, 1, 1,\n       0, 0, 0, 0, 0, 0, 0, 0, 1, 0, 0, 0, 0, 0, 0, 1, 0, 0, 1, 0, 0, 0,\n       1, 1, 1, 0, 0, 1, 0, 0, 0, 0, 0, 0, 1, 0, 0, 1, 0, 1, 1, 0, 0, 1,\n       1, 1, 0, 1, 1, 1, 1, 0, 1, 1, 1, 0, 1, 0, 0, 1, 1, 0, 1, 0, 0, 1,\n       0, 0, 0, 1, 0, 1, 0, 0, 0, 0, 0, 0, 1, 0, 1, 1, 0, 1, 0, 0, 0, 0,\n       0, 1, 1, 0, 1, 1, 0])"
     },
     "execution_count": 11,
     "metadata": {},
     "output_type": "execute_result"
    }
   ],
   "source": [
    "y_pred_dtree = clf_dtree.predict(X_test)\n",
    "y_pred_dtree"
   ]
  },
  {
   "cell_type": "markdown",
   "metadata": {},
   "source": [
    "#### A modell valós pontossága (accuracy)"
   ]
  },
  {
   "cell_type": "code",
   "execution_count": 12,
   "metadata": {},
   "outputs": [
    {
     "name": "stdout",
     "output_type": "stream",
     "text": [
      "Paraméterek nélküli pontosság: 0.8054607508532423\n"
     ]
    }
   ],
   "source": [
    "print(\"Paraméterek nélküli pontosság:\",accuracy_score(y_test, y_pred_dtree))"
   ]
  },
  {
   "cell_type": "markdown",
   "metadata": {},
   "source": [
    "#### Egy felparaméterezett döntési fa"
   ]
  },
  {
   "cell_type": "code",
   "execution_count": 13,
   "metadata": {},
   "outputs": [
    {
     "name": "stdout",
     "output_type": "stream",
     "text": [
      "Paraméteres pontosság: 0.825938566552901\n"
     ]
    }
   ],
   "source": [
    "clf_dtree2 = DecisionTreeClassifier(criterion=\"gini\", splitter=\"best\", max_depth=7, min_samples_split=3)\n",
    "clf_dtree2 = clf_dtree2.fit(X_train,y_train)\n",
    "y_pred_dtree2 = clf_dtree2.predict(X_test)\n",
    "print(\"Paraméteres pontosság:\",accuracy_score(y_test, y_pred_dtree2))"
   ]
  },
  {
   "cell_type": "markdown",
   "metadata": {},
   "source": [
    "#### A döntési fa grafikus megjelenítése"
   ]
  },
  {
   "cell_type": "code",
   "execution_count": 14,
   "metadata": {},
   "outputs": [
    {
     "ename": "ExecutableNotFound",
     "evalue": "failed to execute ['dot', '-Tsvg'], make sure the Graphviz executables are on your systems' PATH",
     "output_type": "error",
     "traceback": [
      "\u001B[0;31m---------------------------------------------------------------------------\u001B[0m",
      "\u001B[0;31mFileNotFoundError\u001B[0m                         Traceback (most recent call last)",
      "\u001B[0;32m/usr/local/lib/python3.8/dist-packages/graphviz/backend.py\u001B[0m in \u001B[0;36mrun\u001B[0;34m(cmd, input, capture_output, check, encoding, quiet, **kwargs)\u001B[0m\n\u001B[1;32m    163\u001B[0m     \u001B[0;32mtry\u001B[0m\u001B[0;34m:\u001B[0m\u001B[0;34m\u001B[0m\u001B[0;34m\u001B[0m\u001B[0m\n\u001B[0;32m--> 164\u001B[0;31m         \u001B[0mproc\u001B[0m \u001B[0;34m=\u001B[0m \u001B[0msubprocess\u001B[0m\u001B[0;34m.\u001B[0m\u001B[0mPopen\u001B[0m\u001B[0;34m(\u001B[0m\u001B[0mcmd\u001B[0m\u001B[0;34m,\u001B[0m \u001B[0mstartupinfo\u001B[0m\u001B[0;34m=\u001B[0m\u001B[0mget_startupinfo\u001B[0m\u001B[0;34m(\u001B[0m\u001B[0;34m)\u001B[0m\u001B[0;34m,\u001B[0m \u001B[0;34m**\u001B[0m\u001B[0mkwargs\u001B[0m\u001B[0;34m)\u001B[0m\u001B[0;34m\u001B[0m\u001B[0;34m\u001B[0m\u001B[0m\n\u001B[0m\u001B[1;32m    165\u001B[0m     \u001B[0;32mexcept\u001B[0m \u001B[0mOSError\u001B[0m \u001B[0;32mas\u001B[0m \u001B[0me\u001B[0m\u001B[0;34m:\u001B[0m\u001B[0;34m\u001B[0m\u001B[0;34m\u001B[0m\u001B[0m\n",
      "\u001B[0;32m/usr/lib/python3.8/subprocess.py\u001B[0m in \u001B[0;36m__init__\u001B[0;34m(self, args, bufsize, executable, stdin, stdout, stderr, preexec_fn, close_fds, shell, cwd, env, universal_newlines, startupinfo, creationflags, restore_signals, start_new_session, pass_fds, encoding, errors, text)\u001B[0m\n\u001B[1;32m    853\u001B[0m \u001B[0;34m\u001B[0m\u001B[0m\n\u001B[0;32m--> 854\u001B[0;31m             self._execute_child(args, executable, preexec_fn, close_fds,\n\u001B[0m\u001B[1;32m    855\u001B[0m                                 \u001B[0mpass_fds\u001B[0m\u001B[0;34m,\u001B[0m \u001B[0mcwd\u001B[0m\u001B[0;34m,\u001B[0m \u001B[0menv\u001B[0m\u001B[0;34m,\u001B[0m\u001B[0;34m\u001B[0m\u001B[0;34m\u001B[0m\u001B[0m\n",
      "\u001B[0;32m/usr/lib/python3.8/subprocess.py\u001B[0m in \u001B[0;36m_execute_child\u001B[0;34m(self, args, executable, preexec_fn, close_fds, pass_fds, cwd, env, startupinfo, creationflags, shell, p2cread, p2cwrite, c2pread, c2pwrite, errread, errwrite, restore_signals, start_new_session)\u001B[0m\n\u001B[1;32m   1701\u001B[0m                         \u001B[0merr_msg\u001B[0m \u001B[0;34m=\u001B[0m \u001B[0mos\u001B[0m\u001B[0;34m.\u001B[0m\u001B[0mstrerror\u001B[0m\u001B[0;34m(\u001B[0m\u001B[0merrno_num\u001B[0m\u001B[0;34m)\u001B[0m\u001B[0;34m\u001B[0m\u001B[0;34m\u001B[0m\u001B[0m\n\u001B[0;32m-> 1702\u001B[0;31m                     \u001B[0;32mraise\u001B[0m \u001B[0mchild_exception_type\u001B[0m\u001B[0;34m(\u001B[0m\u001B[0merrno_num\u001B[0m\u001B[0;34m,\u001B[0m \u001B[0merr_msg\u001B[0m\u001B[0;34m,\u001B[0m \u001B[0merr_filename\u001B[0m\u001B[0;34m)\u001B[0m\u001B[0;34m\u001B[0m\u001B[0;34m\u001B[0m\u001B[0m\n\u001B[0m\u001B[1;32m   1703\u001B[0m                 \u001B[0;32mraise\u001B[0m \u001B[0mchild_exception_type\u001B[0m\u001B[0;34m(\u001B[0m\u001B[0merr_msg\u001B[0m\u001B[0;34m)\u001B[0m\u001B[0;34m\u001B[0m\u001B[0;34m\u001B[0m\u001B[0m\n",
      "\u001B[0;31mFileNotFoundError\u001B[0m: [Errno 2] No such file or directory: 'dot'",
      "\nDuring handling of the above exception, another exception occurred:\n",
      "\u001B[0;31mExecutableNotFound\u001B[0m                        Traceback (most recent call last)",
      "\u001B[0;32m~/.local/lib/python3.8/site-packages/IPython/core/formatters.py\u001B[0m in \u001B[0;36m__call__\u001B[0;34m(self, obj)\u001B[0m\n\u001B[1;32m    343\u001B[0m             \u001B[0mmethod\u001B[0m \u001B[0;34m=\u001B[0m \u001B[0mget_real_method\u001B[0m\u001B[0;34m(\u001B[0m\u001B[0mobj\u001B[0m\u001B[0;34m,\u001B[0m \u001B[0mself\u001B[0m\u001B[0;34m.\u001B[0m\u001B[0mprint_method\u001B[0m\u001B[0;34m)\u001B[0m\u001B[0;34m\u001B[0m\u001B[0;34m\u001B[0m\u001B[0m\n\u001B[1;32m    344\u001B[0m             \u001B[0;32mif\u001B[0m \u001B[0mmethod\u001B[0m \u001B[0;32mis\u001B[0m \u001B[0;32mnot\u001B[0m \u001B[0;32mNone\u001B[0m\u001B[0;34m:\u001B[0m\u001B[0;34m\u001B[0m\u001B[0;34m\u001B[0m\u001B[0m\n\u001B[0;32m--> 345\u001B[0;31m                 \u001B[0;32mreturn\u001B[0m \u001B[0mmethod\u001B[0m\u001B[0;34m(\u001B[0m\u001B[0;34m)\u001B[0m\u001B[0;34m\u001B[0m\u001B[0;34m\u001B[0m\u001B[0m\n\u001B[0m\u001B[1;32m    346\u001B[0m             \u001B[0;32mreturn\u001B[0m \u001B[0;32mNone\u001B[0m\u001B[0;34m\u001B[0m\u001B[0;34m\u001B[0m\u001B[0m\n\u001B[1;32m    347\u001B[0m         \u001B[0;32melse\u001B[0m\u001B[0;34m:\u001B[0m\u001B[0;34m\u001B[0m\u001B[0;34m\u001B[0m\u001B[0m\n",
      "\u001B[0;32m/usr/local/lib/python3.8/dist-packages/graphviz/files.py\u001B[0m in \u001B[0;36m_repr_svg_\u001B[0;34m(self)\u001B[0m\n\u001B[1;32m    111\u001B[0m \u001B[0;34m\u001B[0m\u001B[0m\n\u001B[1;32m    112\u001B[0m     \u001B[0;32mdef\u001B[0m \u001B[0m_repr_svg_\u001B[0m\u001B[0;34m(\u001B[0m\u001B[0mself\u001B[0m\u001B[0;34m)\u001B[0m\u001B[0;34m:\u001B[0m\u001B[0;34m\u001B[0m\u001B[0;34m\u001B[0m\u001B[0m\n\u001B[0;32m--> 113\u001B[0;31m         \u001B[0;32mreturn\u001B[0m \u001B[0mself\u001B[0m\u001B[0;34m.\u001B[0m\u001B[0mpipe\u001B[0m\u001B[0;34m(\u001B[0m\u001B[0mformat\u001B[0m\u001B[0;34m=\u001B[0m\u001B[0;34m'svg'\u001B[0m\u001B[0;34m)\u001B[0m\u001B[0;34m.\u001B[0m\u001B[0mdecode\u001B[0m\u001B[0;34m(\u001B[0m\u001B[0mself\u001B[0m\u001B[0;34m.\u001B[0m\u001B[0m_encoding\u001B[0m\u001B[0;34m)\u001B[0m\u001B[0;34m\u001B[0m\u001B[0;34m\u001B[0m\u001B[0m\n\u001B[0m\u001B[1;32m    114\u001B[0m \u001B[0;34m\u001B[0m\u001B[0m\n\u001B[1;32m    115\u001B[0m     \u001B[0;32mdef\u001B[0m \u001B[0mpipe\u001B[0m\u001B[0;34m(\u001B[0m\u001B[0mself\u001B[0m\u001B[0;34m,\u001B[0m \u001B[0mformat\u001B[0m\u001B[0;34m=\u001B[0m\u001B[0;32mNone\u001B[0m\u001B[0;34m,\u001B[0m \u001B[0mrenderer\u001B[0m\u001B[0;34m=\u001B[0m\u001B[0;32mNone\u001B[0m\u001B[0;34m,\u001B[0m \u001B[0mformatter\u001B[0m\u001B[0;34m=\u001B[0m\u001B[0;32mNone\u001B[0m\u001B[0;34m,\u001B[0m \u001B[0mquiet\u001B[0m\u001B[0;34m=\u001B[0m\u001B[0;32mFalse\u001B[0m\u001B[0;34m)\u001B[0m\u001B[0;34m:\u001B[0m\u001B[0;34m\u001B[0m\u001B[0;34m\u001B[0m\u001B[0m\n",
      "\u001B[0;32m/usr/local/lib/python3.8/dist-packages/graphviz/files.py\u001B[0m in \u001B[0;36mpipe\u001B[0;34m(self, format, renderer, formatter, quiet)\u001B[0m\n\u001B[1;32m    134\u001B[0m         \u001B[0mdata\u001B[0m \u001B[0;34m=\u001B[0m \u001B[0mtext_type\u001B[0m\u001B[0;34m(\u001B[0m\u001B[0mself\u001B[0m\u001B[0;34m.\u001B[0m\u001B[0msource\u001B[0m\u001B[0;34m)\u001B[0m\u001B[0;34m.\u001B[0m\u001B[0mencode\u001B[0m\u001B[0;34m(\u001B[0m\u001B[0mself\u001B[0m\u001B[0;34m.\u001B[0m\u001B[0m_encoding\u001B[0m\u001B[0;34m)\u001B[0m\u001B[0;34m\u001B[0m\u001B[0;34m\u001B[0m\u001B[0m\n\u001B[1;32m    135\u001B[0m \u001B[0;34m\u001B[0m\u001B[0m\n\u001B[0;32m--> 136\u001B[0;31m         out = backend.pipe(self._engine, format, data,\n\u001B[0m\u001B[1;32m    137\u001B[0m                            \u001B[0mrenderer\u001B[0m\u001B[0;34m=\u001B[0m\u001B[0mrenderer\u001B[0m\u001B[0;34m,\u001B[0m \u001B[0mformatter\u001B[0m\u001B[0;34m=\u001B[0m\u001B[0mformatter\u001B[0m\u001B[0;34m,\u001B[0m\u001B[0;34m\u001B[0m\u001B[0;34m\u001B[0m\u001B[0m\n\u001B[1;32m    138\u001B[0m                            quiet=quiet)\n",
      "\u001B[0;32m/usr/local/lib/python3.8/dist-packages/graphviz/backend.py\u001B[0m in \u001B[0;36mpipe\u001B[0;34m(engine, format, data, renderer, formatter, quiet)\u001B[0m\n\u001B[1;32m    242\u001B[0m     \"\"\"\n\u001B[1;32m    243\u001B[0m     \u001B[0mcmd\u001B[0m\u001B[0;34m,\u001B[0m \u001B[0m_\u001B[0m \u001B[0;34m=\u001B[0m \u001B[0mcommand\u001B[0m\u001B[0;34m(\u001B[0m\u001B[0mengine\u001B[0m\u001B[0;34m,\u001B[0m \u001B[0mformat\u001B[0m\u001B[0;34m,\u001B[0m \u001B[0;32mNone\u001B[0m\u001B[0;34m,\u001B[0m \u001B[0mrenderer\u001B[0m\u001B[0;34m,\u001B[0m \u001B[0mformatter\u001B[0m\u001B[0;34m)\u001B[0m\u001B[0;34m\u001B[0m\u001B[0;34m\u001B[0m\u001B[0m\n\u001B[0;32m--> 244\u001B[0;31m     \u001B[0mout\u001B[0m\u001B[0;34m,\u001B[0m \u001B[0m_\u001B[0m \u001B[0;34m=\u001B[0m \u001B[0mrun\u001B[0m\u001B[0;34m(\u001B[0m\u001B[0mcmd\u001B[0m\u001B[0;34m,\u001B[0m \u001B[0minput\u001B[0m\u001B[0;34m=\u001B[0m\u001B[0mdata\u001B[0m\u001B[0;34m,\u001B[0m \u001B[0mcapture_output\u001B[0m\u001B[0;34m=\u001B[0m\u001B[0;32mTrue\u001B[0m\u001B[0;34m,\u001B[0m \u001B[0mcheck\u001B[0m\u001B[0;34m=\u001B[0m\u001B[0;32mTrue\u001B[0m\u001B[0;34m,\u001B[0m \u001B[0mquiet\u001B[0m\u001B[0;34m=\u001B[0m\u001B[0mquiet\u001B[0m\u001B[0;34m)\u001B[0m\u001B[0;34m\u001B[0m\u001B[0;34m\u001B[0m\u001B[0m\n\u001B[0m\u001B[1;32m    245\u001B[0m     \u001B[0;32mreturn\u001B[0m \u001B[0mout\u001B[0m\u001B[0;34m\u001B[0m\u001B[0;34m\u001B[0m\u001B[0m\n\u001B[1;32m    246\u001B[0m \u001B[0;34m\u001B[0m\u001B[0m\n",
      "\u001B[0;32m/usr/local/lib/python3.8/dist-packages/graphviz/backend.py\u001B[0m in \u001B[0;36mrun\u001B[0;34m(cmd, input, capture_output, check, encoding, quiet, **kwargs)\u001B[0m\n\u001B[1;32m    165\u001B[0m     \u001B[0;32mexcept\u001B[0m \u001B[0mOSError\u001B[0m \u001B[0;32mas\u001B[0m \u001B[0me\u001B[0m\u001B[0;34m:\u001B[0m\u001B[0;34m\u001B[0m\u001B[0;34m\u001B[0m\u001B[0m\n\u001B[1;32m    166\u001B[0m         \u001B[0;32mif\u001B[0m \u001B[0me\u001B[0m\u001B[0;34m.\u001B[0m\u001B[0merrno\u001B[0m \u001B[0;34m==\u001B[0m \u001B[0merrno\u001B[0m\u001B[0;34m.\u001B[0m\u001B[0mENOENT\u001B[0m\u001B[0;34m:\u001B[0m\u001B[0;34m\u001B[0m\u001B[0;34m\u001B[0m\u001B[0m\n\u001B[0;32m--> 167\u001B[0;31m             \u001B[0;32mraise\u001B[0m \u001B[0mExecutableNotFound\u001B[0m\u001B[0;34m(\u001B[0m\u001B[0mcmd\u001B[0m\u001B[0;34m)\u001B[0m\u001B[0;34m\u001B[0m\u001B[0;34m\u001B[0m\u001B[0m\n\u001B[0m\u001B[1;32m    168\u001B[0m         \u001B[0;32melse\u001B[0m\u001B[0;34m:\u001B[0m\u001B[0;34m\u001B[0m\u001B[0;34m\u001B[0m\u001B[0m\n\u001B[1;32m    169\u001B[0m             \u001B[0;32mraise\u001B[0m\u001B[0;34m\u001B[0m\u001B[0;34m\u001B[0m\u001B[0m\n",
      "\u001B[0;31mExecutableNotFound\u001B[0m: failed to execute ['dot', '-Tsvg'], make sure the Graphviz executables are on your systems' PATH"
     ]
    },
    {
     "data": {
      "text/plain": "<graphviz.files.Source at 0x7f60416add90>"
     },
     "execution_count": 14,
     "metadata": {},
     "output_type": "execute_result"
    }
   ],
   "source": [
    "dot_data = export_graphviz(clf_dtree2, out_file=None, \n",
    "                      feature_names=features,\n",
    "                      class_names=[\"Died\", \"Survived\"],\n",
    "                      filled=True, rounded=True,  \n",
    "                      special_characters=True)  \n",
    "graph = graphviz.Source(dot_data)  \n",
    "graph"
   ]
  },
  {
   "cell_type": "markdown",
   "metadata": {},
   "source": [
    "**A paraméteres modellhez tartozó keveredési mátrix:**"
   ]
  },
  {
   "cell_type": "code",
   "execution_count": 15,
   "metadata": {
    "scrolled": true
   },
   "outputs": [
    {
     "data": {
      "text/plain": "<Figure size 432x288 with 2 Axes>",
      "image/png": "[encoded data removed]"
     },
     "metadata": {
      "needs_background": "light"
     },
     "output_type": "display_data"
    }
   ],
   "source": [
    "plot_confusion_matrix(clf_dtree2, X_test, y_test, cmap=plt.cm.Blues)\n",
    "plt.show()"
   ]
  },
  {
   "cell_type": "markdown",
   "metadata": {},
   "source": [
    "### 2. Naív Gaussian osztályozó"
   ]
  },
  {
   "cell_type": "markdown",
   "metadata": {},
   "source": [
    "#### Paraméterek:"
   ]
  },
  {
   "cell_type": "markdown",
   "metadata": {},
   "source": [
    "- priors = prior valószínűségek, ezzel megadhatjuk, hogy milyen előzetes valószínűséget feltételezünk az egyes osztályokra vonatkozóan\n",
    "- var_smooothing = növeli az algoritmus stabilitását azáltal, hogy a nullával való szorzás helyett, nagyon kicsi számmal szoroz, így nem nulláz le valószínűségeket"
   ]
  },
  {
   "cell_type": "markdown",
   "metadata": {},
   "source": [
    "#### Attribútumok:"
   ]
  },
  {
   "cell_type": "markdown",
   "metadata": {},
   "source": [
    "- class_count_: tréning minták száma az eges osztályokban\n",
    "- class_prior_: az egyes osztályok valószínűsége\n",
    "- classes_: az osztályozó által talált osztálycímkék\n",
    "- sigma_: a leíró tulajdonságok osztályonkénti varianciája\n",
    "\n",
    "stb..."
   ]
  },
  {
   "cell_type": "markdown",
   "metadata": {},
   "source": [
    "#### Paraméterek nélküli modell létrehozása és modell ilesztése"
   ]
  },
  {
   "cell_type": "code",
   "execution_count": 16,
   "metadata": {},
   "outputs": [
    {
     "data": {
      "text/plain": "GaussianNB()"
     },
     "execution_count": 16,
     "metadata": {},
     "output_type": "execute_result"
    }
   ],
   "source": [
    "clf_gnb = GaussianNB()\n",
    "clf_gnb.fit(X_train, y_train.ravel()) \n",
    "# a .ravel \"kilapitja\" a numpy arrayt egy 1 dimenziós tömbbé (akkor is kell ha alapból 1 dimenziós a tömb)"
   ]
  },
  {
   "cell_type": "code",
   "execution_count": 17,
   "metadata": {},
   "outputs": [
    {
     "name": "stdout",
     "output_type": "stream",
     "text": [
      "[0 1 0 0 1 0 1 0 1 0 1 0 1 0 0 1 0 0 0 0 0 0 0 0 0 0 0 0 1 0 1 0 0 0 0 0 0\n",
      " 0 0 0 0 0 0 0 0 1 0 1 0 0 0 0 1 1 0 1 0 1 0 0 0 0 1 1 1 1 0 1 1 0 1 0 0 0\n",
      " 0 0 0 1 0 0 0 0 1 0 0 0 0 0 0 0 1 1 1 1 0 0 0 1 0 1 1 0 0 1 0 0 0 1 1 1 1\n",
      " 1 1 0 1 1 1 0 1 1 1 1 1 1 0 0 0 0 0 1 0 0 0 0 0 0 0 0 1 0 1 0 0 0 0 0 1 0\n",
      " 1 0 0 0 1 0 0 0 0 1 1 0 1 1 0 0 1 1 0 0 0 0 0 1 0 1 0 1 0 0 1 0 1 1 0 0 1\n",
      " 0 0 0 0 1 0 0 1 0 0 0 1 0 0 0 0 0 0 0 0 0 1 0 0 0 0 1 0 1 0 0 1 0 0 0 0 0\n",
      " 0 0 0 1 0 0 1 0 0 0 1 1 0 1 0 1 1 0 0 1 0 1 0 1 0 1 1 1 1 1 1 0 1 0 0 1 1\n",
      " 1 0 0 0 1 1 0 0 1 1 1 1 0 0 0 0 1 1 0 1 1 0 0 0 0 0 0 1 1 0 0 0 1 0]\n"
     ]
    }
   ],
   "source": [
    "# Osztálycímke \"jóslása\"\n",
    "y_pred_gnb = clf_gnb.predict(X_test)\n",
    "print(y_pred_gnb)"
   ]
  },
  {
   "cell_type": "code",
   "execution_count": 18,
   "metadata": {},
   "outputs": [
    {
     "name": "stdout",
     "output_type": "stream",
     "text": [
      "A modell pontossága: 0.7918088737201365\n"
     ]
    }
   ],
   "source": [
    "# Modell kiértékelése\n",
    "print(\"A modell pontossága:\", clf_gnb.score(X_test,y_test))"
   ]
  },
  {
   "cell_type": "markdown",
   "metadata": {},
   "source": [
    "**A modellhez tartozó keveredési mátrix:**"
   ]
  },
  {
   "cell_type": "code",
   "execution_count": 19,
   "metadata": {},
   "outputs": [
    {
     "data": {
      "text/plain": "<Figure size 432x288 with 2 Axes>",
      "image/png": "[encoded data removed]"
     },
     "metadata": {
      "needs_background": "light"
     },
     "output_type": "display_data"
    }
   ],
   "source": [
    "plot_confusion_matrix(clf_gnb, X_test, y_test, cmap=plt.cm.Blues)\n",
    "plt.show()"
   ]
  },
  {
   "cell_type": "markdown",
   "metadata": {},
   "source": [
    "\n",
    "Írassuk ki a naív Bayes osztályozó néhány jellemző tulajdonságát!"
   ]
  },
  {
   "cell_type": "code",
   "execution_count": 20,
   "metadata": {},
   "outputs": [
    {
     "name": "stdout",
     "output_type": "stream",
     "text": [
      "Mintaegyedek az osztályokban: [363. 231.]\n",
      "Az osztályok valószínűsége: [0.61111111 0.38888889]\n",
      "Osztáylcímkék: [0 1]\n",
      "Leíró tulajdonságok variancája az egyes osztályokban: [[5.41328450e-01 1.24690242e-01 1.89692331e+02 1.55396420e+00\n",
      "  6.42763537e-01 1.12142365e+03]\n",
      " [7.64718145e-01 2.19263600e-01 2.12893683e+02 4.65398417e-01\n",
      "  6.30725154e-01 3.89567886e+03]]\n"
     ]
    }
   ],
   "source": [
    "print(\"Mintaegyedek az osztályokban:\", clf_gnb.class_count_)\n",
    "print(\"Az osztályok valószínűsége:\", clf_gnb.class_prior_)\n",
    "print(\"Osztáylcímkék:\", clf_gnb.classes_)\n",
    "print(\"Leíró tulajdonságok variancája az egyes osztályokban:\", clf_gnb.sigma_)"
   ]
  },
  {
   "cell_type": "markdown",
   "metadata": {},
   "source": [
    "Nézzük meg, hogy változik-e az osztályozás pontossága, ha megadunk prior valószínűségeket az osztályokba való tartózásra vonatkozóan!"
   ]
  },
  {
   "cell_type": "code",
   "execution_count": 21,
   "metadata": {},
   "outputs": [
    {
     "name": "stdout",
     "output_type": "stream",
     "text": [
      "A modell pontossága prior valószínűségek megadásával: 0.7747440273037542\n"
     ]
    }
   ],
   "source": [
    "model_gnb1 = GaussianNB(priors=[0.20, 0.80]) \n",
    "model_gnb1 = model_gnb1.fit(X_train, y_train.ravel())\n",
    "print(\"A modell pontossága prior valószínűségek megadásával:\", model_gnb1.score(X_test,y_test))"
   ]
  },
  {
   "cell_type": "markdown",
   "metadata": {},
   "source": [
    "### 3. k-legközelebbi szomszéd esetalapú osztályozó"
   ]
  },
  {
   "cell_type": "markdown",
   "metadata": {},
   "source": [
    "#### Paraméterek:"
   ]
  },
  {
   "cell_type": "markdown",
   "metadata": {},
   "source": [
    "- n_neighbors: a szomszédok száma\n",
    "- weights: súlyozás\n",
    "    * 'uniform': nincs súlyozás\n",
    "    * 'distance': a távolság inversével arányos súlyozás\n",
    "    * [callable]: felhasználó által megadható súlyfüggvény\n",
    "- metric: az alkalmazandó távolságmetrika\n",
    "    * alapértelmezett értéke \"minkowski\"\n",
    "- p: a minkowski távolság p értéke (p=1 -> manhattan; p=2 euklideszi)"
   ]
  },
  {
   "cell_type": "markdown",
   "metadata": {},
   "source": [
    "**A modell létrehozása és illesztése**"
   ]
  },
  {
   "cell_type": "code",
   "execution_count": 22,
   "metadata": {},
   "outputs": [
    {
     "data": {
      "text/plain": "KNeighborsClassifier(n_neighbors=3)"
     },
     "execution_count": 22,
     "metadata": {},
     "output_type": "execute_result"
    }
   ],
   "source": [
    "clf_knn = KNeighborsClassifier(n_neighbors=3)\n",
    "clf_knn.fit(X_train, y_train.ravel())"
   ]
  },
  {
   "cell_type": "code",
   "execution_count": 23,
   "metadata": {},
   "outputs": [
    {
     "name": "stdout",
     "output_type": "stream",
     "text": [
      "[1 0 0 0 0 0 0 0 1 0 0 0 0 0 0 0 0 0 0 0 0 1 1 0 1 0 1 1 1 0 1 1 1 0 0 0 0\n",
      " 1 0 0 0 0 1 1 0 0 0 0 0 0 0 0 0 1 0 0 0 1 0 1 0 1 0 1 1 1 0 0 1 0 1 0 0 1\n",
      " 0 1 0 1 0 0 0 0 1 0 0 0 0 0 1 0 1 1 0 0 0 1 0 1 0 1 0 0 0 0 0 0 0 1 0 0 0\n",
      " 0 1 0 0 1 1 0 1 0 1 0 0 1 0 1 1 0 0 0 0 0 0 0 0 0 0 0 0 1 0 0 0 1 0 0 1 0\n",
      " 1 0 1 0 1 1 0 0 0 0 0 0 0 1 0 0 0 1 0 0 1 1 0 0 0 0 0 0 0 0 0 0 1 1 0 0 1\n",
      " 0 0 0 0 1 0 0 0 0 0 1 0 0 0 0 0 0 0 0 0 0 0 1 0 0 0 0 0 0 0 0 0 0 0 0 0 0\n",
      " 1 0 0 1 0 0 0 0 0 0 1 0 0 0 1 1 1 0 0 1 1 1 0 0 0 1 1 1 1 1 0 0 1 0 0 1 1\n",
      " 0 1 0 0 0 1 0 0 0 1 1 0 0 0 0 0 0 0 1 1 0 0 1 0 0 0 0 0 0 1 0 0 1 0]\n"
     ]
    }
   ],
   "source": [
    "# Osztálycímke \"jóslása\"\n",
    "y_pred_knn = clf_knn.predict(X_test)\n",
    "print(y_pred_knn)"
   ]
  },
  {
   "cell_type": "code",
   "execution_count": 24,
   "metadata": {},
   "outputs": [
    {
     "name": "stdout",
     "output_type": "stream",
     "text": [
      "A modell pontossága: 0.6928327645051194\n"
     ]
    }
   ],
   "source": [
    "# Modell kiértékelése\n",
    "print(\"A modell pontossága:\", clf_knn.score(X_test,y_test))"
   ]
  },
  {
   "cell_type": "markdown",
   "metadata": {},
   "source": [
    "**A modellhez tartozó keveredési mátrix:**"
   ]
  },
  {
   "cell_type": "code",
   "execution_count": 25,
   "metadata": {
    "scrolled": true
   },
   "outputs": [
    {
     "data": {
      "text/plain": "<Figure size 432x288 with 2 Axes>",
      "image/png": "[encoded data removed]"
     },
     "metadata": {
      "needs_background": "light"
     },
     "output_type": "display_data"
    }
   ],
   "source": [
    "plot_confusion_matrix(clf_knn, X_test, y_test, cmap=plt.cm.Blues)\n",
    "plt.show()"
   ]
  },
  {
   "cell_type": "markdown",
   "metadata": {},
   "source": [
    "### 4. Support Vector osztályozó"
   ]
  },
  {
   "cell_type": "markdown",
   "metadata": {},
   "source": [
    "Az SVC osztályozónak számos paraméterezési lehetősége van, érdemes a dokumentációban részletesen elolvasni."
   ]
  },
  {
   "cell_type": "markdown",
   "metadata": {},
   "source": [
    "**A modell létrehozása és illesztése**"
   ]
  },
  {
   "cell_type": "code",
   "execution_count": 26,
   "metadata": {},
   "outputs": [
    {
     "data": {
      "text/plain": "SVC()"
     },
     "execution_count": 26,
     "metadata": {},
     "output_type": "execute_result"
    }
   ],
   "source": [
    "clf_svm = SVC()\n",
    "clf_svm.fit(X_train, y_train.ravel())"
   ]
  },
  {
   "cell_type": "code",
   "execution_count": 27,
   "metadata": {},
   "outputs": [
    {
     "name": "stdout",
     "output_type": "stream",
     "text": [
      "[0 0 0 0 0 0 0 0 1 0 1 0 0 0 0 0 0 0 0 0 1 1 1 0 0 0 0 0 1 0 0 0 0 0 0 0 0\n",
      " 0 0 0 0 0 1 0 0 0 0 0 0 0 0 0 0 1 0 0 0 1 0 0 0 0 0 1 0 0 0 0 0 0 1 0 0 0\n",
      " 0 1 0 1 0 0 0 0 0 1 0 0 0 0 0 0 1 1 0 0 0 0 0 1 0 0 0 0 1 0 0 0 0 1 0 0 0\n",
      " 0 0 0 0 0 1 0 0 0 1 0 0 1 0 0 1 0 0 0 1 0 1 0 0 0 0 0 0 0 0 0 0 0 0 0 0 0\n",
      " 1 0 1 0 1 0 0 0 0 0 1 0 0 0 0 0 0 0 0 0 0 0 0 0 0 0 0 0 0 0 0 0 1 0 0 0 0\n",
      " 0 0 0 0 1 0 0 0 0 0 0 0 0 0 0 0 0 0 0 0 0 0 0 0 0 0 0 0 0 0 0 0 0 0 0 0 0\n",
      " 0 0 0 1 0 0 0 0 0 0 1 0 0 0 0 1 1 0 0 0 0 1 1 1 0 0 1 1 1 0 0 0 0 0 0 1 0\n",
      " 0 0 0 0 0 1 1 0 0 1 1 0 0 0 0 0 0 1 0 0 0 0 0 0 0 0 0 0 0 0 0 0 0 0]\n"
     ]
    }
   ],
   "source": [
    "# Osztálycímke \"jóslása\"\n",
    "y_pred_svm = clf_svm.predict(X_test)\n",
    "print(y_pred_svm)"
   ]
  },
  {
   "cell_type": "code",
   "execution_count": 28,
   "metadata": {},
   "outputs": [
    {
     "name": "stdout",
     "output_type": "stream",
     "text": [
      "A modell pontossága: 0.658703071672355\n"
     ]
    }
   ],
   "source": [
    "# Modell kiértékelése\n",
    "print(\"A modell pontossága:\", clf_svm.score(X_test,y_test))"
   ]
  },
  {
   "cell_type": "markdown",
   "metadata": {},
   "source": [
    "**A modellhez tartozó keveredési mátrix:**"
   ]
  },
  {
   "cell_type": "code",
   "execution_count": 29,
   "metadata": {
    "scrolled": false
   },
   "outputs": [
    {
     "data": {
      "text/plain": "<Figure size 432x288 with 2 Axes>",
      "image/png": "[encoded data removed]"
     },
     "metadata": {
      "needs_background": "light"
     },
     "output_type": "display_data"
    }
   ],
   "source": [
    "plot_confusion_matrix(clf_svm, X_test, y_test, cmap=plt.cm.Blues)\n",
    "plt.show()"
   ]
  },
  {
   "cell_type": "markdown",
   "metadata": {},
   "source": [
    "### 5. Random Forest osztályozó"
   ]
  },
  {
   "cell_type": "markdown",
   "metadata": {},
   "source": [
    "**Fontopsabb paraméterek:**"
   ]
  },
  {
   "cell_type": "markdown",
   "metadata": {},
   "source": [
    "- n_estimators: az erdő mérete (deafult értéke 100)\n",
    "- max_depth: fák maximális mélysége\n",
    "- creterion: hogyan válassza ki az attribútumokat\n",
    "    * 'gini': Gini index\n",
    "    * 'entropy': információnyereség elve\n",
    "- min_samples_leaf: a csúcs szétbontásához minimálisan szükséges mintaszám"
   ]
  },
  {
   "cell_type": "markdown",
   "metadata": {},
   "source": [
    "**Random Forest osztályozó létrehozása és a modell illesztése default paraméterekkel**"
   ]
  },
  {
   "cell_type": "code",
   "execution_count": 30,
   "metadata": {},
   "outputs": [],
   "source": [
    "clf_rfc = RandomForestClassifier()\n",
    "clf_rfc = clf_rfc.fit(X_train, y_train.ravel())"
   ]
  },
  {
   "cell_type": "code",
   "execution_count": 31,
   "metadata": {},
   "outputs": [
    {
     "name": "stdout",
     "output_type": "stream",
     "text": [
      "[0 0 0 0 1 0 1 0 1 0 1 0 1 0 0 0 0 0 0 0 0 0 0 0 0 0 0 1 0 0 1 0 0 0 0 0 0\n",
      " 0 0 0 0 0 1 0 0 0 0 1 0 0 1 0 0 0 0 0 0 1 0 0 0 0 0 0 1 1 0 0 1 0 1 0 0 1\n",
      " 0 1 0 1 0 0 0 0 1 0 0 0 0 1 1 0 0 1 1 1 0 0 0 1 0 1 1 0 0 1 0 0 0 1 0 0 0\n",
      " 1 1 0 1 1 1 0 1 0 0 0 1 1 0 1 1 0 0 1 0 0 0 0 0 0 0 0 0 0 0 0 0 1 0 0 1 0\n",
      " 1 0 1 0 1 1 0 0 0 1 1 0 1 1 0 0 0 1 0 0 0 0 0 0 0 0 0 1 0 0 0 1 1 1 0 0 1\n",
      " 0 0 0 0 1 0 0 0 0 0 0 1 0 0 0 0 0 0 0 0 0 1 0 0 0 0 1 0 1 0 0 1 0 0 0 0 1\n",
      " 1 0 0 1 0 0 0 0 0 0 0 0 0 1 0 1 1 0 0 1 1 1 0 1 1 1 1 0 1 1 1 0 1 0 0 1 1\n",
      " 0 1 0 0 1 1 0 0 1 0 1 0 0 0 0 0 1 1 0 1 1 0 1 0 0 0 0 0 1 0 0 0 1 0]\n"
     ]
    }
   ],
   "source": [
    "# Osztálycímke \"jóslása\"\n",
    "y_pred_rfc = clf_rfc.predict(X_test)\n",
    "print(y_pred_rfc)"
   ]
  },
  {
   "cell_type": "code",
   "execution_count": 32,
   "metadata": {},
   "outputs": [
    {
     "name": "stdout",
     "output_type": "stream",
     "text": [
      "A modell pontossága: 0.8361774744027304\n"
     ]
    }
   ],
   "source": [
    "# Modell kiértékelése\n",
    "print(\"A modell pontossága:\", clf_rfc.score(X_test,y_test))"
   ]
  },
  {
   "cell_type": "markdown",
   "metadata": {},
   "source": [
    "**A modellhez tartozó keveredési mátrix:**"
   ]
  },
  {
   "cell_type": "code",
   "execution_count": 33,
   "metadata": {
    "scrolled": false
   },
   "outputs": [
    {
     "data": {
      "text/plain": "<Figure size 432x288 with 2 Axes>",
      "image/png": "[encoded data removed]"
     },
     "metadata": {
      "needs_background": "light"
     },
     "output_type": "display_data"
    }
   ],
   "source": [
    "plot_confusion_matrix(clf_rfc, X_test, y_test, cmap=plt.cm.Blues)\n",
    "plt.show()"
   ]
  },
  {
   "cell_type": "markdown",
   "metadata": {},
   "source": [
    "#### Az algoritmus különboző paramétereinek tesztelése"
   ]
  },
  {
   "cell_type": "markdown",
   "metadata": {},
   "source": [
    "##### Az erdő mérete : n_estimators"
   ]
  },
  {
   "cell_type": "code",
   "execution_count": 34,
   "metadata": {},
   "outputs": [
    {
     "data": {
      "text/plain": "0.8191126279863481"
     },
     "execution_count": 34,
     "metadata": {},
     "output_type": "execute_result"
    }
   ],
   "source": [
    "clf_rfc2 = RandomForestClassifier(random_state=0, n_estimators=30)\n",
    "clf_rfc2 = clf_rfc2.fit(X_train, y_train.ravel())\n",
    "clf_rfc2.score(X_test,y_test)"
   ]
  },
  {
   "cell_type": "markdown",
   "metadata": {},
   "source": [
    "##### Fa maximális mélysége : max_depth"
   ]
  },
  {
   "cell_type": "code",
   "execution_count": 35,
   "metadata": {},
   "outputs": [
    {
     "data": {
      "text/plain": "0.8464163822525598"
     },
     "execution_count": 35,
     "metadata": {},
     "output_type": "execute_result"
    }
   ],
   "source": [
    "# alapból nincs korlátja \n",
    "clf_rfc5 = RandomForestClassifier(random_state=0, max_depth=4)\n",
    "clf_rfc5 = clf_rfc5.fit(X_train, y_train.ravel())\n",
    "clf_rfc5.score(X_test,y_test)"
   ]
  },
  {
   "cell_type": "markdown",
   "metadata": {},
   "source": [
    "##### Teszt attribútumok kiválasztása : criterion "
   ]
  },
  {
   "cell_type": "code",
   "execution_count": 36,
   "metadata": {},
   "outputs": [
    {
     "data": {
      "text/plain": "0.8293515358361775"
     },
     "execution_count": 36,
     "metadata": {},
     "output_type": "execute_result"
    }
   ],
   "source": [
    "# alapból \"gini\"(Gini index) de lehet \"entropy\" (információnyereség elve) is \n",
    "clf_rfc6 = RandomForestClassifier(random_state=0,criterion=\"entropy\")\n",
    "clf_rfc6 = clf_rfc6.fit(X_train, y_train.ravel())\n",
    "clf_rfc6.score(X_test,y_test)"
   ]
  },
  {
   "cell_type": "code",
   "execution_count": 37,
   "metadata": {},
   "outputs": [
    {
     "data": {
      "text/plain": "0.825938566552901"
     },
     "execution_count": 37,
     "metadata": {},
     "output_type": "execute_result"
    }
   ],
   "source": [
    "# alapból \"gini\"(Gini index) de lehet \"entropy\" (információnyereség elve) is \n",
    "clf_rfc7 = RandomForestClassifier(random_state=0,criterion=\"gini\")\n",
    "clf_rfc7 = clf_rfc7.fit(X_train, y_train.ravel())\n",
    "clf_rfc7.score(X_test,y_test)"
   ]
  },
  {
   "cell_type": "markdown",
   "metadata": {},
   "source": [
    "##### A csúcs szétbontásához minimálisan szükséges mintaszám : min_samples_leaf"
   ]
  },
  {
   "cell_type": "code",
   "execution_count": 38,
   "metadata": {},
   "outputs": [
    {
     "data": {
      "text/plain": "0.8225255972696246"
     },
     "execution_count": 38,
     "metadata": {},
     "output_type": "execute_result"
    }
   ],
   "source": [
    "# alapból 1\n",
    "# ha ennél az értéknél kevesebb marad egy csomó ponton akkor azt már nem probálja tovább osztani\n",
    "clf_rfc8 = RandomForestClassifier(random_state=0,min_samples_leaf=15)\n",
    "clf_rfc8 = clf_rfc8.fit(X_train, y_train.ravel())\n",
    "clf_rfc8.score(X_test,y_test)"
   ]
  },
  {
   "cell_type": "markdown",
   "metadata": {},
   "source": [
    "#### Komlex paraméterekkel egy jónak tűnő megoldás"
   ]
  },
  {
   "cell_type": "code",
   "execution_count": 39,
   "metadata": {},
   "outputs": [
    {
     "name": "stdout",
     "output_type": "stream",
     "text": [
      "0.8430034129692833\n"
     ]
    },
    {
     "data": {
      "text/plain": "<Figure size 432x288 with 2 Axes>",
      "image/png": "[encoded data removed]"
     },
     "metadata": {
      "needs_background": "light"
     },
     "output_type": "display_data"
    }
   ],
   "source": [
    "clf_rfc9 = RandomForestClassifier(n_estimators=40, random_state=0, criterion=\"entropy\",  max_depth=5)\n",
    "clf_rfc9 = clf_rfc9.fit(X_train, y_train.ravel())\n",
    "print(clf_rfc9.score(X_test,y_test))\n",
    "\n",
    "plot_confusion_matrix(clf_rfc9, X_test, y_test, cmap=plt.cm.Blues)\n",
    "plt.show()"
   ]
  },
  {
   "cell_type": "markdown",
   "metadata": {},
   "source": [
    "### 6. MLPClassifier (forrás és köszönet: Tóth Péter Csabának)"
   ]
  },
  {
   "cell_type": "markdown",
   "metadata": {},
   "source": [
    "MLPClassifier a neurális hálók családjába tartozik, amely egy több rétegű perceptron algoritmust implementál. Tanítása Backpropagation-nel történik.\n",
    "\n",
    "Mit is jelent a Perceptron (leegyszerűsítve): bináris osztályozó algoritmus. Egy rétegből álló neurális hálónak is szokás nevezni.\n",
    "\n",
    "Mit jelent a Backpropagation: ez az algoritmus próbálja úgy igazítani a súlyokat, hogy a legoptimálisabbakat találja meg. Először is megpróbálja kitalálni a hiba függvényt. Ezután minden egyes\n",
    "    súlyra megnézi, hogy a hiba függvény értékének állításával, hogyan befolyásolja a súlyokat, azaz merre mozognak, pozitív vagy negatív irányba. Végül, hogy már tudja, hogy hogyan befolyásolja\n",
    "    a hiba függvény állítgatása a súlyokat... így minden egyes súlynál, úgy állítja a súlyokat, hogy a hiba függvény értéke a lehető legkisebb legyen.\n",
    "    \n",
    "MLPClassifier használatának:\n",
    "    1. előnyei:\n",
    "        - képes nem lineáris modellek megtanulására\n",
    "        - képes valós idejű tanulásra a partial_fit metódus segítségével\n",
    "    2. hátrányai:\n",
    "        - nagyon érzékeny a feature scalingre\n",
    "        - hyperparameter tuning nagyon sok időt tud elvenni\n",
    "        - csak egyetlen egy aktivációs függvényt lehet használni az összes hidden_layeren keresztül"
   ]
  },
  {
   "cell_type": "markdown",
   "metadata": {},
   "source": [
    "#### Alapértelmezett paraméterekkel futassuk le az MLPClassifiert a Titanic adathalmazunkon"
   ]
  },
  {
   "cell_type": "code",
   "execution_count": 40,
   "metadata": {},
   "outputs": [
    {
     "name": "stderr",
     "output_type": "stream",
     "text": [
      "/usr/local/lib/python3.8/dist-packages/sklearn/neural_network/_multilayer_perceptron.py:582: ConvergenceWarning: Stochastic Optimizer: Maximum iterations (200) reached and the optimization hasn't converged yet.\n",
      "  warnings.warn(\n"
     ]
    },
    {
     "data": {
      "text/plain": "MLPClassifier(random_state=0)"
     },
     "execution_count": 40,
     "metadata": {},
     "output_type": "execute_result"
    }
   ],
   "source": [
    "# Példányosítsuk a modellünket, majd illeszük az edző halmazunkra\n",
    "clf_nn = MLPClassifier(random_state=0)\n",
    "clf_nn.fit(X_train, y_train.ravel())"
   ]
  },
  {
   "cell_type": "markdown",
   "metadata": {},
   "source": [
    "Sajnos mint látjuk, az alapbeállításokkal a modell nem konvergál megfelelő mértékben :(."
   ]
  },
  {
   "cell_type": "code",
   "execution_count": 41,
   "metadata": {
    "scrolled": true
   },
   "outputs": [
    {
     "name": "stdout",
     "output_type": "stream",
     "text": [
      "[0 0 0 0 1 0 1 0 1 0 1 0 1 0 0 1 0 0 0 0 0 0 0 0 0 0 0 1 1 0 1 1 0 0 0 0 0\n",
      " 0 0 0 0 0 1 0 0 1 0 1 0 0 0 0 1 0 0 1 0 1 0 0 0 0 0 1 1 1 0 0 1 0 1 0 0 1\n",
      " 0 0 0 1 0 0 0 0 1 0 0 0 0 0 0 0 0 1 1 1 0 0 0 1 0 1 1 0 0 1 0 0 0 1 0 1 0\n",
      " 1 1 0 1 1 1 0 1 1 1 1 1 0 0 0 1 0 0 1 0 0 0 0 0 0 0 0 1 0 1 0 0 1 0 0 1 0\n",
      " 1 0 1 0 1 0 0 0 0 0 1 0 1 1 0 0 0 1 0 0 0 0 0 0 0 1 0 1 0 0 1 1 1 1 0 0 1\n",
      " 0 0 0 0 1 0 0 1 0 0 0 1 0 0 0 0 0 0 0 0 0 1 0 0 0 0 1 0 1 0 0 1 0 0 0 0 0\n",
      " 0 0 0 1 0 0 1 0 0 0 1 1 0 0 0 1 1 0 0 1 1 1 0 1 0 0 1 1 1 0 1 0 1 0 0 1 1\n",
      " 1 0 0 0 1 1 0 0 1 1 1 1 0 0 0 0 0 1 0 1 1 0 1 0 0 0 0 1 1 0 0 0 1 0]\n"
     ]
    }
   ],
   "source": [
    "# Jósoltassuk meg az eredményeket az edzett modellünkkel\n",
    "y_pred_nn = clf_nn.predict(X_test)\n",
    "print(y_pred_nn)"
   ]
  },
  {
   "cell_type": "code",
   "execution_count": 42,
   "metadata": {},
   "outputs": [
    {
     "name": "stdout",
     "output_type": "stream",
     "text": [
      "              precision    recall  f1-score   support\n",
      "\n",
      "           0       0.82      0.86      0.84       182\n",
      "           1       0.75      0.68      0.72       111\n",
      "\n",
      "    accuracy                           0.80       293\n",
      "   macro avg       0.79      0.77      0.78       293\n",
      "weighted avg       0.79      0.80      0.79       293\n",
      "\n",
      "F1 score:  0.7169811320754719\n",
      "Accuracy score:  0.7952218430034129\n"
     ]
    }
   ],
   "source": [
    "# Végül írassuk ki, a modell eredményét\n",
    "print(classification_report(y_true=y_test, y_pred=y_pred_nn))\n",
    "\n",
    "print('F1 score: ', f1_score(y_true=y_test, y_pred=y_pred_nn))\n",
    "\n",
    "print('Accuracy score: ', str(clf_nn.score(X_test,y_test)))"
   ]
  },
  {
   "cell_type": "code",
   "execution_count": 43,
   "metadata": {},
   "outputs": [
    {
     "name": "stdout",
     "output_type": "stream",
     "text": [
      "AUC: 0.7736610236610237\n"
     ]
    }
   ],
   "source": [
    "# Modellünk AUC értéke\n",
    "print('AUC:', roc_auc_score(y_true=y_test, y_score=y_pred_nn))"
   ]
  },
  {
   "cell_type": "code",
   "execution_count": 44,
   "metadata": {},
   "outputs": [
    {
     "data": {
      "text/plain": "<Figure size 432x288 with 2 Axes>",
      "image/png": "[encoded data removed]"
     },
     "metadata": {
      "needs_background": "light"
     },
     "output_type": "display_data"
    }
   ],
   "source": [
    "# Készítsük el a confusion_matrix-unkat\n",
    "plot_confusion_matrix(clf_nn, X_test, y_test, cmap=plt.cm.Blues)\n",
    "plt.show()"
   ]
  },
  {
   "cell_type": "code",
   "execution_count": 45,
   "metadata": {},
   "outputs": [
    {
     "name": "stdout",
     "output_type": "stream",
     "text": [
      "[{'name': 'without parameter tuning(1)', 'accuracy_score': 0.7952218430034129, 'f1-score': 0.7169811320754719, 'roc_auc_score': 0.7736610236610237, 'solver': 'adam', 'activation': 'relu'}]\n"
     ]
    }
   ],
   "source": [
    "# Eltároljuk az eredményét egy dictionary-be hogy később össze tudjuk hasonlítani őket\n",
    "results = [{'name': 'without parameter tuning(1)','accuracy_score': clf_nn.score(X_test,y_test) ,'f1-score': f1_score(y_true=y_test, y_pred=y_pred_nn), 'roc_auc_score': roc_auc_score(y_true=y_test, y_score=y_pred_nn), 'solver': 'adam', 'activation': 'relu'}]\n",
    "print (results)"
   ]
  },
  {
   "cell_type": "markdown",
   "metadata": {},
   "source": [
    "### Elsőre, semmilyen paraméter állítgatással, viszonylag jó eredményt értünk el... Most nézzük meg a legfőbb paramétereinket"
   ]
  },
  {
   "cell_type": "markdown",
   "metadata": {},
   "source": [
    "- hidden_layer_size=(csomópontok száma, hidden layerek száma) : számos elmélet létezik, hogy hogyan is érdemes megválasztani az ideális mennyiségű rétegszámot, illetve a rétegenkénti csomópontok számát...\n",
    "    Többnyire elég egy hidden layert beiktatnunk. Általánosságban a következő érvényes a csomópontok számának meghatározásakkor: meg kell néznünk, hogy mennyi csomópontunk van a bemeneti  rétegben (mennyi feature oszlopunk van),\n",
    "    utána mennyi van a kimeneti rétegben( ha az NN bináris classifier, akkor elég 1 csomópont), és e két érték közötti intervallumból kell választanunk ( szokás az input és output layerek átlagát venni is).\n",
    "    \n",
    "    A mi esetünkben ---> \n",
    "        - bemeneti csomópontok : 6 darab feature oszlopunk van\n",
    "        - kimeneti csomópontok : 1 darab, mert osztályozunk\n",
    "    Emiatt 1 < hidden layer csomópontok száma < 6. ---> Vegyük 1 és 6 átlagát ---> 3.5 ~ 4    \n",
    "    \n",
    "    Tehát hidden_layer_size(4,)\n",
    "    \n",
    "    Fontos megjegyezni, hogy a Deep Learning világában csak teóriák léteznek a korábban említett paraméter pontos megállapításához.\n",
    "    "
   ]
  },
  {
   "cell_type": "markdown",
   "metadata": {},
   "source": [
    "- activation=...  : aktivációs függvények a hidden layer(ek) számára. ( különböző matematikai függvények )\n",
    "    - relu : ez a leghasználtabb aktivációs függvény, visszaadja f(x) = max(0, x)\n",
    "    - tanh : hiperbólikus tangens függvény, visszaadja f(x) = tanh(x)\n",
    "    - logistic : logisztikus sigmoid függvény, visszaadja f(x) = 1 / (1 + exp(-x))\n",
    "    - identity : visszaadja f(x) = x"
   ]
  },
  {
   "cell_type": "markdown",
   "metadata": {},
   "source": [
    "- solver=... : súly optimalizáláshoz használt 'megoldók'\n",
    "    - adam : stochastic gradient alapú optimalizáló\n",
    "    - sgd : stochastic gradient descent\n",
    "    - lbfgs : quasi-Newton methods családba tartozó optimalizáló\n",
    "    \n",
    "    Fontos megjegyezni, hogy az ADAM optimalizáló nagyon jól működik nagy méretű adathalmazokon (több ezer rekord..), ezzel szemben az LBFGS optimalizáló rendkívűl gyorsan konvergál a jó megoldás felé és nagyon jól teljesít kisebb adathalmazokon.\n",
    "    \n",
    "    Számunkra kevesebb, mint 1000 rekord áll rendelkezésre, ezért nagy valószínűséggel az LBFGS optimalizáló lesz az ideális."
   ]
  },
  {
   "cell_type": "markdown",
   "metadata": {},
   "source": [
    "- max_iter=... : maximum iterációk száma\n",
    "    - optimalizáló, addig iterál, míg nem egyenlő ezzel az értékkel\n",
    "    - stochasztikus optimalizálóknál (sgd, adam) ez az epoch számát jelenti, azaz hányszor lesz felhasználva egy-egy rekord (hányszor menjen végig az adathalmazon)"
   ]
  },
  {
   "cell_type": "markdown",
   "metadata": {},
   "source": [
    "- alpha=... : L2 regularizációs paraméter. A súlyok nullától való eltérésértékének négyzetével „büntet” (a költségfüggvényben jelenik meg). \n",
    "    - Alapértelmezett érték: 0.0001"
   ]
  },
  {
   "cell_type": "markdown",
   "metadata": {},
   "source": [
    "### Most, hogy már tisztában vagyunk a legfontosabb paraméterekkel, játszadozzunk picit velük, majd hasonlítsuk össze az így kapott eredményeket"
   ]
  },
  {
   "cell_type": "code",
   "execution_count": 68,
   "metadata": {},
   "outputs": [
    {
     "name": "stdout",
     "output_type": "stream",
     "text": [
      "[[  1.      0.     22.      0.      0.    151.55 ]\n",
      " [  1.      0.     30.      0.      0.     31.   ]\n",
      " [  1.      1.     47.      0.      0.     38.5  ]\n",
      " ...\n",
      " [  1.      1.     31.      1.      0.     52.   ]\n",
      " [  3.      1.      9.      1.      1.     15.9  ]\n",
      " [  3.      1.     45.5     0.      0.      7.225]]\n"
     ]
    }
   ],
   "source": [
    "print(X_train)"
   ]
  },
  {
   "cell_type": "code",
   "execution_count": null,
   "outputs": [],
   "source": [
    "# 1. LBFGS\n",
    "classifier_1 = MLPClassifier( \n",
    "                    hidden_layer_sizes=(4,), \n",
    "                    activation='relu',\n",
    "                    solver='lbfgs',\n",
    "                    max_iter=1000,\n",
    "                    alpha=0.001,\n",
    "                    random_state=0)\n",
    "\n",
    "classifier_1.fit(X_train, y_train.ravel())\n",
    "y_pred_clf_1 = classifier_1.predict(X_test)\n",
    "\n",
    "plot_confusion_matrix(classifier_1, X_test, y_test, cmap=plt.cm.Blues)\n",
    "plt.show()"
   ],
   "metadata": {
    "collapsed": false,
    "pycharm": {
     "name": "#%%\n"
    }
   }
  },
  {
   "cell_type": "code",
   "execution_count": 67,
   "metadata": {},
   "outputs": [
    {
     "name": "stdout",
     "output_type": "stream",
     "text": [
      "roc auc score: 0.7964062964062963\n",
      "f1 score: 0.7464114832535885\n",
      "Accuracy score: 0.8191126279863481\n",
      "              precision    recall  f1-score   support\n",
      "\n",
      "           0       0.83      0.89      0.86       182\n",
      "           1       0.80      0.70      0.75       111\n",
      "\n",
      "    accuracy                           0.82       293\n",
      "   macro avg       0.81      0.80      0.80       293\n",
      "weighted avg       0.82      0.82      0.82       293\n",
      "\n"
     ]
    }
   ],
   "source": [
    "print('roc auc score: '+ str(roc_auc_score(y_true=y_test, y_score=y_pred_clf_1)))\n",
    "print('f1 score: '+  str(f1_score(y_true=y_test, y_pred=y_pred_clf_1)))\n",
    "print('Accuracy score: '+  str(classifier_1.score(X_test,y_test)))\n",
    "print(classification_report(y_true=y_test, y_pred=y_pred_clf_1))\n",
    "\n",
    "results.append({'name': 'LBFGS+RELU(2)','accuracy_score': classifier_1.score(X_test,y_test),'f1-score': f1_score(y_true=y_test, y_pred=y_pred_clf_1), 'roc_auc_score': roc_auc_score(y_true=y_test, y_score=y_pred_clf_1), 'solver': 'lbfgs', 'activation': 'relu'})"
   ]
  },
  {
   "cell_type": "code",
   "execution_count": 48,
   "metadata": {},
   "outputs": [
    {
     "name": "stderr",
     "output_type": "stream",
     "text": [
      "/usr/local/lib/python3.8/dist-packages/sklearn/neural_network/_multilayer_perceptron.py:582: ConvergenceWarning: Stochastic Optimizer: Maximum iterations (200) reached and the optimization hasn't converged yet.\n",
      "  warnings.warn(\n"
     ]
    },
    {
     "data": {
      "text/plain": "<Figure size 432x288 with 2 Axes>",
      "image/png": "[encoded data removed]"
     },
     "metadata": {
      "needs_background": "light"
     },
     "output_type": "display_data"
    }
   ],
   "source": [
    "# 2. ADAM\n",
    "classifier_2 = MLPClassifier( \n",
    "                    hidden_layer_sizes=(4,), \n",
    "                    activation='relu',\n",
    "                    solver='adam',\n",
    "                    max_iter=200,\n",
    "                    alpha=0.05,\n",
    "                    random_state=0)\n",
    "\n",
    "classifier_2.fit(X_train, y_train.ravel())\n",
    "y_pred_clf_2 = classifier_2.predict(X_test)\n",
    "\n",
    "plot_confusion_matrix(classifier_2, X_test,  y_test, cmap=plt.cm.Blues)\n",
    "plt.show()"
   ]
  },
  {
   "cell_type": "code",
   "execution_count": 49,
   "metadata": {},
   "outputs": [
    {
     "name": "stdout",
     "output_type": "stream",
     "text": [
      "roc auc score: 0.63996138996139\n",
      "f1 score: 0.47852760736196326\n",
      "Accuracy score: 0.7098976109215017\n",
      "              precision    recall  f1-score   support\n",
      "\n",
      "           0       0.70      0.93      0.80       182\n",
      "           1       0.75      0.35      0.48       111\n",
      "\n",
      "    accuracy                           0.71       293\n",
      "   macro avg       0.73      0.64      0.64       293\n",
      "weighted avg       0.72      0.71      0.68       293\n",
      "\n"
     ]
    }
   ],
   "source": [
    "print('roc auc score: '+ str(roc_auc_score(y_true=y_test, y_score=y_pred_clf_2)))\n",
    "print('f1 score: '+ str(f1_score(y_true=y_test, y_pred=y_pred_clf_2)))\n",
    "print('Accuracy score: '+ str(classifier_2.score(X_test,y_test)))\n",
    "print(classification_report(y_true=y_test, y_pred=y_pred_clf_2))\n",
    "\n",
    "results.append({'name': 'ADAM+RELU(3)', 'accuracy_score': classifier_2.score(X_test,y_test),'f1-score': f1_score(y_true=y_test, y_pred=y_pred_clf_2), 'roc_auc_score': roc_auc_score(y_true=y_test, y_score=y_pred_clf_2), 'solver': 'adam', 'activation': 'relu'})"
   ]
  },
  {
   "cell_type": "markdown",
   "metadata": {},
   "source": [
    "#### Nagyon rossz eredményt kaptunk ADAM solver-rel, ezért nem is fogunk vele foglalkozni innentől"
   ]
  },
  {
   "cell_type": "code",
   "execution_count": 50,
   "metadata": {},
   "outputs": [
    {
     "data": {
      "text/plain": "<Figure size 432x288 with 2 Axes>",
      "image/png": "[encoded data removed]"
     },
     "metadata": {
      "needs_background": "light"
     },
     "output_type": "display_data"
    }
   ],
   "source": [
    "# 3. LBFGS\n",
    "classifier_3 = MLPClassifier( \n",
    "                    hidden_layer_sizes=(4,), \n",
    "                    activation='logistic',\n",
    "                    solver='lbfgs',\n",
    "                    max_iter=1000,\n",
    "                    alpha=0.005,\n",
    "                    random_state=0)\n",
    "\n",
    "classifier_3.fit(X_train, y_train.ravel())\n",
    "y_pred_clf_3 = classifier_3.predict(X_test)\n",
    "\n",
    "plot_confusion_matrix(classifier_3, X_test, y_test, cmap=plt.cm.Blues)\n",
    "plt.show()"
   ]
  },
  {
   "cell_type": "code",
   "execution_count": 51,
   "metadata": {},
   "outputs": [
    {
     "name": "stdout",
     "output_type": "stream",
     "text": [
      "roc auc score: 0.7643302643302644\n",
      "f1 score: 0.6984126984126985\n",
      "Accuracy score: 0.8054607508532423\n",
      "              precision    recall  f1-score   support\n",
      "\n",
      "           0       0.79      0.93      0.86       182\n",
      "           1       0.85      0.59      0.70       111\n",
      "\n",
      "    accuracy                           0.81       293\n",
      "   macro avg       0.82      0.76      0.78       293\n",
      "weighted avg       0.81      0.81      0.80       293\n",
      "\n"
     ]
    }
   ],
   "source": [
    "print('roc auc score: '+str(roc_auc_score(y_true=y_test, y_score=y_pred_clf_3)))\n",
    "print('f1 score: '+ str(f1_score(y_true=y_test, y_pred=y_pred_clf_3)))\n",
    "print('Accuracy score: '+ str(classifier_3.score(X_test,y_test)))\n",
    "print(classification_report(y_true=y_test, y_pred=y_pred_clf_3))\n",
    "\n",
    "results.append({'name': 'LBFGS+LOGISTIC(4)', 'accuracy_score': classifier_3.score(X_test,y_test) ,'f1-score': f1_score(y_true=y_test, y_pred=y_pred_clf_3), 'roc_auc_score': roc_auc_score(y_true=y_test, y_score=y_pred_clf_3), 'solver': 'lbfgs', 'activation': 'logistic'})"
   ]
  },
  {
   "cell_type": "code",
   "execution_count": 52,
   "metadata": {},
   "outputs": [
    {
     "data": {
      "text/plain": "<Figure size 432x288 with 2 Axes>",
      "image/png": "[encoded data removed]"
     },
     "metadata": {
      "needs_background": "light"
     },
     "output_type": "display_data"
    }
   ],
   "source": [
    "# 4. LBFGS\n",
    "classifier_4 = MLPClassifier( \n",
    "                    hidden_layer_sizes=(4,), \n",
    "                    activation='tanh',\n",
    "                    solver='lbfgs',\n",
    "                    max_iter=800,\n",
    "                    alpha=0.005,\n",
    "                    random_state=0)\n",
    "\n",
    "classifier_4.fit(X_train, y_train.ravel())\n",
    "y_pred_clf_4 = classifier_4.predict(X_test)\n",
    "\n",
    "plot_confusion_matrix(classifier_4, X_test, y_test, cmap=plt.cm.Blues)\n",
    "plt.show()"
   ]
  },
  {
   "cell_type": "code",
   "execution_count": 53,
   "metadata": {},
   "outputs": [
    {
     "name": "stdout",
     "output_type": "stream",
     "text": [
      "roc auc score: 0.6368676368676368\n",
      "f1 score: 0.5358851674641147\n",
      "Accuracy score: 0.6689419795221843\n",
      "              precision    recall  f1-score   support\n",
      "\n",
      "           0       0.72      0.77      0.74       182\n",
      "           1       0.57      0.50      0.54       111\n",
      "\n",
      "    accuracy                           0.67       293\n",
      "   macro avg       0.64      0.64      0.64       293\n",
      "weighted avg       0.66      0.67      0.66       293\n",
      "\n"
     ]
    }
   ],
   "source": [
    "print('roc auc score: '+str(roc_auc_score(y_true=y_test, y_score=y_pred_clf_4)))\n",
    "print('f1 score: '+ str(f1_score(y_true=y_test, y_pred=y_pred_clf_4)))\n",
    "print('Accuracy score: '+ str(classifier_4.score(X_test,y_test)))\n",
    "print(classification_report(y_true=y_test, y_pred=y_pred_clf_4))\n",
    "\n",
    "results.append({'name': 'LBFGS+TANH(5)', 'accuracy_score': classifier_4.score(X_test,y_test),'f1-score': f1_score(y_true=y_test, y_pred=y_pred_clf_4), 'roc_auc_score': roc_auc_score(y_true=y_test, y_score=y_pred_clf_4), 'solver': 'lbfgs', 'activation': 'tanh'})"
   ]
  },
  {
   "cell_type": "code",
   "execution_count": 54,
   "metadata": {},
   "outputs": [
    {
     "data": {
      "text/plain": "<Figure size 432x288 with 2 Axes>",
      "image/png": "[encoded data removed]"
     },
     "metadata": {
      "needs_background": "light"
     },
     "output_type": "display_data"
    }
   ],
   "source": [
    "# 4. SGD\n",
    "classifier_5 = MLPClassifier( \n",
    "                    hidden_layer_sizes=(4,), \n",
    "                    activation='tanh',\n",
    "                    solver='sgd',\n",
    "                    max_iter=1000,\n",
    "                    alpha=0.005,\n",
    "                    learning_rate='adaptive',\n",
    "                    random_state=0)\n",
    "\n",
    "classifier_5.fit(X_train, y_train.ravel())\n",
    "y_pred_clf_5 = classifier_5.predict(X_test)\n",
    "\n",
    "plot_confusion_matrix(classifier_5, X_test, y_test, cmap=plt.cm.Blues)\n",
    "plt.show()"
   ]
  },
  {
   "cell_type": "code",
   "execution_count": 55,
   "metadata": {},
   "outputs": [
    {
     "name": "stdout",
     "output_type": "stream",
     "text": [
      "roc auc score: 0.5528413028413028\n",
      "f1 score: 0.23880597014925373\n",
      "Accuracy score: 0.6518771331058021\n",
      "              precision    recall  f1-score   support\n",
      "\n",
      "           0       0.65      0.96      0.77       182\n",
      "           1       0.70      0.14      0.24       111\n",
      "\n",
      "    accuracy                           0.65       293\n",
      "   macro avg       0.67      0.55      0.51       293\n",
      "weighted avg       0.67      0.65      0.57       293\n",
      "\n"
     ]
    }
   ],
   "source": [
    "print('roc auc score: '+str(roc_auc_score(y_true=y_test, y_score=y_pred_clf_5)))\n",
    "print('f1 score: '+ str(f1_score(y_true=y_test, y_pred=y_pred_clf_5)))\n",
    "print('Accuracy score: '+ str(classifier_5.score(X_test,y_test)))\n",
    "print(classification_report(y_true=y_test, y_pred=y_pred_clf_5))\n",
    "\n",
    "results.append({'name': 'SGD+TANH(6)', 'accuracy_score': classifier_5.score(X_test,y_test) ,'f1-score': f1_score(y_true=y_test, y_pred=y_pred_clf_5), 'roc_auc_score': roc_auc_score(y_true=y_test, y_score=y_pred_clf_5), 'solver': 'sgd', 'activation': 'tanh'})"
   ]
  },
  {
   "cell_type": "code",
   "execution_count": 56,
   "metadata": {},
   "outputs": [
    {
     "name": "stdout",
     "output_type": "stream",
     "text": [
      "                          name  accuracy_score  f1-score  roc_auc_score  \\\n",
      "0  without parameter tuning(1)        0.795222  0.716981       0.773661   \n",
      "1                LBFGS+RELU(2)        0.819113  0.746411       0.796406   \n",
      "2                 ADAM+RELU(3)        0.709898  0.478528       0.639961   \n",
      "3            LBFGS+LOGISTIC(4)        0.805461  0.698413       0.764330   \n",
      "4                LBFGS+TANH(5)        0.668942  0.535885       0.636868   \n",
      "5                  SGD+TANH(6)        0.651877  0.238806       0.552841   \n",
      "\n",
      "  solver activation  \n",
      "0   adam       relu  \n",
      "1  lbfgs       relu  \n",
      "2   adam       relu  \n",
      "3  lbfgs   logistic  \n",
      "4  lbfgs       tanh  \n",
      "5    sgd       tanh  \n"
     ]
    }
   ],
   "source": [
    "# A kapott eredményeket DataFrame-mé alakítjuk\n",
    "model_results = pd.DataFrame(results)\n",
    "print(model_results)"
   ]
  },
  {
   "cell_type": "code",
   "execution_count": 57,
   "metadata": {},
   "outputs": [
    {
     "data": {
      "text/plain": "<Figure size 432x288 with 1 Axes>",
      "image/png": "[encoded data removed]"
     },
     "metadata": {
      "needs_background": "light"
     },
     "output_type": "display_data"
    }
   ],
   "source": [
    "# F1_SCORE-t hasonlítjuk össze\n",
    "y_pos = np.arange(len(model_results['name']))\n",
    "\n",
    "plt.barh(y_pos, model_results['f1-score'], color=(0.2, 0.4, 0.6, 0.6))\n",
    "plt.yticks(y_pos, model_results['name'])\n",
    "plt.show()"
   ]
  },
  {
   "cell_type": "code",
   "execution_count": 58,
   "metadata": {},
   "outputs": [
    {
     "data": {
      "text/plain": "<Figure size 432x288 with 1 Axes>",
      "image/png": "[encoded data removed]"
     },
     "metadata": {
      "needs_background": "light"
     },
     "output_type": "display_data"
    }
   ],
   "source": [
    "# ROC_AUC_SCORE-t hasonlítjuk össze\n",
    "y_pos = np.arange(len(model_results['name']))\n",
    "\n",
    "plt.barh(y_pos, model_results['roc_auc_score'], color=(0.2, 0.4, 0.6, 0.6))\n",
    "plt.yticks(y_pos, model_results['name'])\n",
    "plt.show()"
   ]
  },
  {
   "cell_type": "code",
   "execution_count": 59,
   "metadata": {},
   "outputs": [
    {
     "data": {
      "text/plain": "<Figure size 432x288 with 1 Axes>",
      "image/png": "[encoded data removed]"
     },
     "metadata": {
      "needs_background": "light"
     },
     "output_type": "display_data"
    }
   ],
   "source": [
    "# ACCURACY_SCORE-t hasonlítjuk össze\n",
    "y_pos = np.arange(len(model_results['name']))\n",
    "\n",
    "plt.barh(y_pos, model_results['accuracy_score'], color=(0.2, 0.4, 0.6, 0.6))\n",
    "plt.yticks(y_pos, model_results['name'])\n",
    "plt.show()"
   ]
  },
  {
   "cell_type": "code",
   "execution_count": 60,
   "metadata": {},
   "outputs": [
    {
     "name": "stdout",
     "output_type": "stream",
     "text": [
      "Legjobb accuracy_score: \n",
      "name              LBFGS+RELU(2)\n",
      "accuracy_score         0.819113\n",
      "Name: 1, dtype: object\n"
     ]
    }
   ],
   "source": [
    "print('Legjobb accuracy_score: \\n'+str(model_results[['name','accuracy_score']].loc[model_results['accuracy_score'].idxmax()]))"
   ]
  },
  {
   "cell_type": "code",
   "execution_count": 61,
   "metadata": {},
   "outputs": [
    {
     "name": "stdout",
     "output_type": "stream",
     "text": [
      "Legjobb roc_auc_score: \n",
      "name             LBFGS+RELU(2)\n",
      "roc_auc_score         0.796406\n",
      "Name: 1, dtype: object\n"
     ]
    }
   ],
   "source": [
    "print('Legjobb roc_auc_score: \\n'+str(model_results[['name','roc_auc_score']].loc[model_results['roc_auc_score'].idxmax()]))"
   ]
  },
  {
   "cell_type": "code",
   "execution_count": 62,
   "metadata": {},
   "outputs": [
    {
     "name": "stdout",
     "output_type": "stream",
     "text": [
      "Legjobb f1_score: \n",
      "name        LBFGS+RELU(2)\n",
      "f1-score         0.746411\n",
      "Name: 1, dtype: object\n"
     ]
    }
   ],
   "source": [
    "print('Legjobb f1_score: \\n'+str(model_results[['name','f1-score']].loc[model_results['f1-score'].idxmax()]))"
   ]
  },
  {
   "cell_type": "markdown",
   "metadata": {},
   "source": [
    "#### Kézi hangolással nem sokkal tudtuk javítani a modellünket. De szerencsére van ennél egy jobb megoldás:a hyperparaméter optimalizálás!"
   ]
  },
  {
   "cell_type": "code",
   "execution_count": 63,
   "metadata": {},
   "outputs": [
    {
     "name": "stdout",
     "output_type": "stream",
     "text": [
      "{'solver': 'lbfgs', 'random_state': 0, 'max_iter': 1000, 'hidden_layer_sizes': (3,), 'alpha': 0.01, 'activation': 'relu'}\n",
      "0.8376400276253596\n"
     ]
    }
   ],
   "source": [
    "# RandomizedSeachCV -vel paraméter finomhangolás AUC érték alapján\n",
    "\n",
    "from sklearn.model_selection import RandomizedSearchCV\n",
    "\n",
    "randomized_clf = MLPClassifier(hidden_layer_sizes=(4))\n",
    "params = {\n",
    "    'activation': ['tanh', 'relu', 'logistic'],\n",
    "    'hidden_layer_sizes' :[(2,), (3,), (4,), (5,)],\n",
    "    'solver': ['lbfgs', 'sgd'],\n",
    "    'max_iter': [50, 100, 500, 1000, 2000],\n",
    "    'alpha': [0.0001, 0.001, 0.01],\n",
    "    'random_state': [0]\n",
    "}\n",
    "\n",
    "randomsearch = RandomizedSearchCV(\n",
    "    estimator = randomized_clf,\n",
    "    param_distributions = params,\n",
    "    n_iter = 10,\n",
    "    scoring = 'roc_auc',\n",
    "    n_jobs = -1,\n",
    "    random_state = 0,\n",
    "    verbose = 0\n",
    ")\n",
    "\n",
    "randomsearch.fit(X_train, y_train.ravel())\n",
    "print(randomsearch.best_params_)\n",
    "print(randomsearch.best_score_)\n"
   ]
  },
  {
   "cell_type": "code",
   "execution_count": 64,
   "metadata": {},
   "outputs": [
    {
     "name": "stdout",
     "output_type": "stream",
     "text": [
      "{'solver': 'lbfgs', 'random_state': 0, 'max_iter': 100, 'hidden_layer_sizes': (5,), 'alpha': 0.01, 'activation': 'relu'}\n",
      "0.7878507335137446\n"
     ]
    },
    {
     "name": "stderr",
     "output_type": "stream",
     "text": [
      "/usr/local/lib/python3.8/dist-packages/sklearn/neural_network/_multilayer_perceptron.py:471: ConvergenceWarning: lbfgs failed to converge (status=1):\n",
      "STOP: TOTAL NO. of ITERATIONS REACHED LIMIT.\n",
      "\n",
      "Increase the number of iterations (max_iter) or scale the data as shown in:\n",
      "    https://scikit-learn.org/stable/modules/preprocessing.html\n",
      "  self.n_iter_ = _check_optimize_result(\"lbfgs\", opt_res, self.max_iter)\n"
     ]
    }
   ],
   "source": [
    "# RandomizedSeachCV -vel paraméter finomhangolás Accuracy érték alapján\n",
    "\n",
    "from sklearn.model_selection import RandomizedSearchCV\n",
    "\n",
    "randomized_clf = MLPClassifier(hidden_layer_sizes=(4))\n",
    "params = {\n",
    "    'activation': ['tanh', 'relu', 'logistic'],\n",
    "    'hidden_layer_sizes' :[(2,), (3,), (4,), (5,)],\n",
    "    'solver': ['lbfgs', 'sgd'],\n",
    "    'max_iter': [50, 100, 500, 1000, 2000],\n",
    "    'alpha': [0.0001, 0.001, 0.01],\n",
    "    'random_state': [0]\n",
    "}\n",
    "\n",
    "randomsearch = RandomizedSearchCV(\n",
    "    estimator = randomized_clf,\n",
    "    param_distributions = params,\n",
    "    n_iter = 10,\n",
    "    scoring = 'accuracy',\n",
    "    n_jobs = -1,\n",
    "    random_state = 0,\n",
    "    verbose = 0\n",
    ")\n",
    "\n",
    "randomsearch.fit(X_train, y_train.ravel())\n",
    "print(randomsearch.best_params_)\n",
    "print(randomsearch.best_score_)\n"
   ]
  },
  {
   "cell_type": "code",
   "execution_count": 65,
   "metadata": {},
   "outputs": [
    {
     "name": "stdout",
     "output_type": "stream",
     "text": [
      "{'solver': 'lbfgs', 'random_state': 0, 'max_iter': 100, 'hidden_layer_sizes': (5,), 'alpha': 0.01, 'activation': 'relu'}\n",
      "0.7239738547116253\n"
     ]
    },
    {
     "name": "stderr",
     "output_type": "stream",
     "text": [
      "/usr/local/lib/python3.8/dist-packages/sklearn/neural_network/_multilayer_perceptron.py:471: ConvergenceWarning: lbfgs failed to converge (status=1):\n",
      "STOP: TOTAL NO. of ITERATIONS REACHED LIMIT.\n",
      "\n",
      "Increase the number of iterations (max_iter) or scale the data as shown in:\n",
      "    https://scikit-learn.org/stable/modules/preprocessing.html\n",
      "  self.n_iter_ = _check_optimize_result(\"lbfgs\", opt_res, self.max_iter)\n"
     ]
    }
   ],
   "source": [
    "# RandomizedSeachCV -vel paraméter finomhangolás AUC érték alapján\n",
    "\n",
    "from sklearn.model_selection import RandomizedSearchCV\n",
    "\n",
    "randomized_clf = MLPClassifier(hidden_layer_sizes=(4))\n",
    "params = {\n",
    "    'activation': ['tanh', 'relu', 'logistic'],\n",
    "    'hidden_layer_sizes' :[(2,), (3,), (4,), (5,)],\n",
    "    'solver': ['lbfgs', 'sgd'],\n",
    "    'max_iter': [50, 100, 500, 1000, 2000],\n",
    "    'alpha': [0.0001, 0.001, 0.01],\n",
    "    'random_state': [0]\n",
    "}\n",
    "\n",
    "randomsearch = RandomizedSearchCV(\n",
    "    estimator = randomized_clf,\n",
    "    param_distributions = params,\n",
    "    n_iter = 10,\n",
    "    scoring = 'f1',\n",
    "    n_jobs = -1,\n",
    "    random_state = 0,\n",
    "    verbose = 0\n",
    ")\n",
    "\n",
    "randomsearch.fit(X_train, y_train.ravel())\n",
    "print(randomsearch.best_params_)\n",
    "print(randomsearch.best_score_)\n"
   ]
  },
  {
   "cell_type": "markdown",
   "metadata": {},
   "source": [
    "#### Fontos megjegyezni, ha még több rekord, illetve tulajdonság oszlop állt volna rendelkezésre, akkor valószínűleg még jobb eredményt tudtunk volna kihozni az MLPClassifier algoritmusból. "
   ]
  }
 ],
 "metadata": {
  "kernelspec": {
   "name": "pycharm-1d549122",
   "language": "python",
   "display_name": "PyCharm (Accomodation)"
  },
  "language_info": {
   "codemirror_mode": {
    "name": "ipython",
    "version": 3
   },
   "file_extension": ".py",
   "mimetype": "text/x-python",
   "name": "python",
   "nbconvert_exporter": "python",
   "pygments_lexer": "ipython3",
   "version": "3.8.3"
  }
 },
 "nbformat": 4,
 "nbformat_minor": 2
}