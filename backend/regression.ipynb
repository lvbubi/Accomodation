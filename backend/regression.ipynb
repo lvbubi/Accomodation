{
 "cells": [
  {
   "cell_type": "markdown",
   "metadata": {},
   "source": [
    "# Regresszió"
   ]
  },
  {
   "cell_type": "markdown",
   "metadata": {},
   "source": [
    "Szükséges csomagok beolvasása:"
   ]
  },
  {
   "cell_type": "code",
   "execution_count": null,
   "metadata": {},
   "outputs": [],
   "source": [
    "import pandas as pd\n",
    "import numpy as np\n",
    "import matplotlib.pyplot as plt\n",
    "%matplotlib inline\n",
    "\n",
    "from sklearn.model_selection import train_test_split"
   ]
  },
  {
   "cell_type": "markdown",
   "metadata": {},
   "source": [
    "## Egyváltozós lineáris regresszió"
   ]
  },
  {
   "cell_type": "markdown",
   "metadata": {},
   "source": [
    "Az egyváltozós lineáris regresszió bemutatásához egy egyszerű adathalmazt használunk, amely azt tartalmazza, hogy egy hallgató mennyi időt töltött a tanulással (*Hours*)) és a zh eredménye hány százalékos lett (*Scores*). \n",
    "\n",
    "Az adathalmaz kevés mintát tartalmaz, de a bemutatáshoz számunkra most ez is elegendő lesz."
   ]
  },
  {
   "cell_type": "code",
   "execution_count": null,
   "metadata": {},
   "outputs": [],
   "source": [
    "dataset = pd.read_csv('student_scores.csv')\n",
    "dataset.head(10)"
   ]
  },
  {
   "cell_type": "markdown",
   "metadata": {},
   "source": [
    "Egy gyors betekintés az adatokba."
   ]
  },
  {
   "cell_type": "code",
   "execution_count": null,
   "metadata": {},
   "outputs": [],
   "source": [
    "#attribútumok alapstatisztikai adatai:\n",
    "dataset.describe()"
   ]
  },
  {
   "cell_type": "code",
   "execution_count": null,
   "metadata": {},
   "outputs": [],
   "source": [
    "dataset.plot(x='Hours', y='Scores', style='o')\n",
    "plt.title('Hours vs Percentage')\n",
    "plt.xlabel('Hours Studied')\n",
    "plt.ylabel('Percentage Score')\n",
    "plt.show()"
   ]
  },
  {
   "cell_type": "markdown",
   "metadata": {},
   "source": [
    "**Adatelőkészítés (függő és független változók, tréning és teszt halmazok kialakítása)**"
   ]
  },
  {
   "cell_type": "code",
   "execution_count": null,
   "metadata": {},
   "outputs": [],
   "source": [
    "# Függő és független változók:\n",
    "X = dataset.iloc[:, :-1].values\n",
    "y = dataset.iloc[:, 1].values\n",
    "\n",
    "# Test és training adatok létrehozása\n",
    "X_train, X_test, y_train, y_test = train_test_split(X, y, test_size=0.2, random_state=0)"
   ]
  },
  {
   "cell_type": "markdown",
   "metadata": {},
   "source": [
    "**Modell példányosítása és tanítása**"
   ]
  },
  {
   "cell_type": "code",
   "execution_count": null,
   "metadata": {},
   "outputs": [],
   "source": [
    "from sklearn.linear_model import LinearRegression\n",
    "\n",
    "regressor = LinearRegression()\n",
    "regressor.fit(X_train, y_train)"
   ]
  },
  {
   "cell_type": "markdown",
   "metadata": {},
   "source": [
    "**Az illesztett modell paraméterei**"
   ]
  },
  {
   "cell_type": "code",
   "execution_count": null,
   "metadata": {},
   "outputs": [],
   "source": [
    "print ('b0 értéke:', regressor.intercept_)\n",
    "print ('b1 értéke:', regressor.coef_)"
   ]
  },
  {
   "cell_type": "markdown",
   "metadata": {},
   "source": [
    "Értelmezése: minden tanulással töltött óra 9,91% százalékkal növeli a zh eredményét."
   ]
  },
  {
   "cell_type": "markdown",
   "metadata": {},
   "source": [
    "**Előrejelzés a modell alapján**"
   ]
  },
  {
   "cell_type": "code",
   "execution_count": null,
   "metadata": {},
   "outputs": [],
   "source": [
    "# Előrejelzés a teszt halmazon\n",
    "y_pred = regressor.predict(X_test)\n",
    "\n",
    "ds_prediction = pd.DataFrame({'Actual': y_test, 'Predicted': y_pred})\n",
    "ds_prediction"
   ]
  },
  {
   "cell_type": "markdown",
   "metadata": {},
   "source": [
    "**Az illesztett modell hibája**"
   ]
  },
  {
   "cell_type": "code",
   "execution_count": null,
   "metadata": {
    "scrolled": true
   },
   "outputs": [],
   "source": [
    "from sklearn import metrics\n",
    "print('Mean Absolute Error:', metrics.mean_absolute_error(y_test, y_pred))\n",
    "print('Mean Squared Error:', metrics.mean_squared_error(y_test, y_pred))\n",
    "print('Root Mean Squared Error:', np.sqrt(metrics.mean_squared_error(y_test, y_pred)))"
   ]
  },
  {
   "cell_type": "markdown",
   "metadata": {},
   "source": [
    "**Modell kirajzolása**"
   ]
  },
  {
   "cell_type": "code",
   "execution_count": null,
   "metadata": {},
   "outputs": [],
   "source": [
    "# Plot outputs\n",
    "plt.scatter(X_train, y_train,  color='green', label='Train data')\n",
    "plt.scatter(X_test, y_test,  color='red', label='Test data')\n",
    "plt.plot(X, regressor.predict(X), color='blue', linewidth=3, label='Linear regression model')\n",
    "\n",
    "plt.legend()\n",
    "\n",
    "plt.title('Hours vs Percentage')\n",
    "plt.xlabel('Hours Studied')\n",
    "plt.ylabel('Percentage Score')\n",
    "\n",
    "plt.show()"
   ]
  },
  {
   "cell_type": "markdown",
   "metadata": {},
   "source": [
    "## Többváltozós lineáris regresszió"
   ]
  },
  {
   "cell_type": "markdown",
   "metadata": {},
   "source": [
    "Példa adathalmaz:\n",
    "\n",
    "Az USA-ban 48 államban megmérték az egy éves benzin fogyasztást. A releváns változók: a benzinadó, az átlagos jövedelem, az aszfaltozott autópálya mérföldjeinek száma, és a vezetői engedéllyel rendelkező lakosság aránya.\n",
    "\n",
    "Cél: a benzinfogyasztás előrejelzése\n",
    "\n",
    "Attribútumok:\n",
    "- Petrol_tax: benzinadó (cent/gallon)\n",
    "- Average_income: 1 főre eső átlagos jövedelem (dollár);\n",
    "- Paved_highways: aszfaltozott autópályák hossza (mérföld);\n",
    "- Population_Driver_licence(%): jogosítványok aránya;\n",
    "- Petrol_Consumption: benzinfogyasztás (millió gallon)"
   ]
  },
  {
   "cell_type": "markdown",
   "metadata": {},
   "source": [
    "Az adathalmaz beolvasása és egy kis betekintés:"
   ]
  },
  {
   "cell_type": "code",
   "execution_count": null,
   "metadata": {},
   "outputs": [],
   "source": [
    "dataset = pd.read_csv('petrol_consumption.csv')\n",
    "dataset.head()"
   ]
  },
  {
   "cell_type": "code",
   "execution_count": null,
   "metadata": {},
   "outputs": [],
   "source": [
    "dataset.describe()"
   ]
  },
  {
   "cell_type": "markdown",
   "metadata": {},
   "source": [
    "**Adatelőkészítés (függő és független változók, tréning és teszt halmazok kialakítása)**"
   ]
  },
  {
   "cell_type": "code",
   "execution_count": null,
   "metadata": {},
   "outputs": [],
   "source": [
    "# Függő és független változók:\n",
    "X = dataset[['Petrol_tax', 'Average_income', 'Paved_Highways',\n",
    "       'Population_Driver_licence(%)']]\n",
    "y = dataset['Petrol_Consumption']\n",
    "\n",
    "# Test és training adatok létrehozása\n",
    "X_train, X_test, y_train, y_test = train_test_split(X, y, test_size=0.2, random_state=1)"
   ]
  },
  {
   "cell_type": "markdown",
   "metadata": {},
   "source": [
    "**Modell példányosítása és tanítása**"
   ]
  },
  {
   "cell_type": "code",
   "execution_count": null,
   "metadata": {},
   "outputs": [],
   "source": [
    "from sklearn.linear_model import LinearRegression\n",
    "\n",
    "regressor = LinearRegression()\n",
    "regressor.fit(X_train, y_train)"
   ]
  },
  {
   "cell_type": "markdown",
   "metadata": {},
   "source": [
    "**Az illesztett modell paraméterei**"
   ]
  },
  {
   "cell_type": "code",
   "execution_count": null,
   "metadata": {},
   "outputs": [],
   "source": [
    "df_coeff = pd.DataFrame(regressor.coef_, X.columns, columns=['Coefficient'])\n",
    "df_coeff"
   ]
  },
  {
   "cell_type": "markdown",
   "metadata": {},
   "source": [
    "Értelmezése: \n",
    "\n",
    "Az üzemanyag adó (Petrol_tax) egységnyi növekedése esetén 32 millió gallonnal csökken a benzinfogyasztás. A járművezetői engedéllyel rendelkező lakosság arányának egységnyi növekedése 1,355 milliárd liter többlet benzinfogyasztást eredményez. Az átlagos jövedelem (Average_income) és az aszfaltozott útak (Paved_highways) változása nagyon csekély hatással van a benzinfogyasztásra."
   ]
  },
  {
   "cell_type": "markdown",
   "metadata": {},
   "source": [
    "**Előrejelzés a modell alapján**"
   ]
  },
  {
   "cell_type": "code",
   "execution_count": null,
   "metadata": {},
   "outputs": [],
   "source": [
    "# Előrejelzés a teszt halmazon\n",
    "y_pred = regressor.predict(X_test)\n",
    "\n",
    "df_prediction_MLR = pd.DataFrame({'Actual': y_test, 'Predicted': y_pred})\n",
    "df_prediction_MLR"
   ]
  },
  {
   "cell_type": "markdown",
   "metadata": {},
   "source": [
    "**Az illesztett modell hibája**"
   ]
  },
  {
   "cell_type": "code",
   "execution_count": null,
   "metadata": {
    "scrolled": true
   },
   "outputs": [],
   "source": [
    "from sklearn import metrics\n",
    "\n",
    "MAE = metrics.mean_absolute_error(y_test, y_pred)\n",
    "MSE = metrics.mean_squared_error(y_test, y_pred)\n",
    "RMSE = np.sqrt(metrics.mean_squared_error(y_test, y_pred))\n",
    "print('Mean Absolute Error:', MAE)\n",
    "print('Mean Squared Error:', MSE)\n",
    "print('Root Mean Squared Error:', RMSE)"
   ]
  },
  {
   "cell_type": "markdown",
   "metadata": {},
   "source": [
    "Mint láthatjuk, az átlagos abszolút hiba 41,92, ami az összes állam átlagos fogyasztásának (576,77) a 7,2%-a. A hiba nem kicsi, de talán még elfogadható. Ugyanez az RMSE-re vetítve 9,0%.\n",
    "\n",
    "Mi okozhatja a hibát?\n",
    "- Feltételeztük a lineáris összefüggést. Tényleg igaz?\n",
    "- Kevés a megfigyelt adat (csak 1 évnyi). Több évnyi adat pontosabban mutatná az összefüggéseket.\n",
    "- Lehet nem is ezek a független változók jelzik előre a benzinfogyasztást..."
   ]
  },
  {
   "cell_type": "markdown",
   "metadata": {},
   "source": [
    "## __Lasso, Ridge, Elastic Net__"
   ]
  },
  {
   "cell_type": "markdown",
   "metadata": {},
   "source": [
    "**Ridge regresszió**"
   ]
  },
  {
   "cell_type": "code",
   "execution_count": null,
   "metadata": {},
   "outputs": [],
   "source": [
    "from sklearn.linear_model import Ridge\n",
    "\n",
    "# alpha: súlyozási tényező a regulariziációs taghoz\n",
    "regressor_Ridge = Ridge(alpha=0.1)\n",
    "regressor_Ridge.fit(X_train, y_train)\n",
    "\n",
    "#együtthatók:\n",
    "df_coeff['Coefficient_Ridge'] = regressor_Ridge.coef_\n",
    "\n",
    "# Előrejelzés a teszt halmazon\n",
    "y_pred_Ridge = regressor_Ridge.predict(X_test)\n",
    "\n",
    "df_prediction_MLR['Predicted_Ridge'] = y_pred_Ridge\n",
    "\n",
    "MAE_Ridge = metrics.mean_absolute_error(y_test, y_pred_Ridge)\n",
    "MSE_Ridge = metrics.mean_squared_error(y_test, y_pred_Ridge)\n",
    "RMSE_Ridge = np.sqrt(metrics.mean_squared_error(y_test, y_pred_Ridge))"
   ]
  },
  {
   "cell_type": "markdown",
   "metadata": {},
   "source": [
    "**Lasso regresszió**"
   ]
  },
  {
   "cell_type": "code",
   "execution_count": null,
   "metadata": {},
   "outputs": [],
   "source": [
    "from sklearn.linear_model import Lasso\n",
    "\n",
    "# alpha: súlyozási tényező a regulariziációs taghoz\n",
    "regressor_Lasso = Lasso(alpha=0.1)\n",
    "regressor_Lasso.fit(X_train, y_train)\n",
    "\n",
    "#együtthatók:\n",
    "df_coeff['Coefficient_Lasso'] = regressor_Lasso.coef_\n",
    "\n",
    "# Előrejelzés a teszt halmazon\n",
    "y_pred_Lasso = regressor_Lasso.predict(X_test)\n",
    "\n",
    "df_prediction_MLR['Predicted_Lasso'] = y_pred_Lasso\n",
    "\n",
    "MAE_Lasso = metrics.mean_absolute_error(y_test, y_pred_Lasso)\n",
    "MSE_Lasso = metrics.mean_squared_error(y_test, y_pred_Lasso)\n",
    "RMSE_Lasso = np.sqrt(metrics.mean_squared_error(y_test, y_pred_Lasso))"
   ]
  },
  {
   "cell_type": "markdown",
   "metadata": {
    "collapsed": true
   },
   "source": [
    "**Elastic Net**"
   ]
  },
  {
   "cell_type": "code",
   "execution_count": null,
   "metadata": {},
   "outputs": [],
   "source": [
    "from sklearn.linear_model import ElasticNet\n",
    "\n",
    "# alpha: súlyozási tényező a regulariziációs tagokhoz\n",
    "#l1_ratio: [0,1] közti arány az L1 és L2 regularizációhoz \n",
    "#(l1_ratio=0: csak L2 bűntetés van; l1_ratio=1: csak L1 bűntetés van)\n",
    "regressor_ElasticNet = ElasticNet(alpha=0.1, l1_ratio=0.5)\n",
    "regressor_ElasticNet.fit(X_train, y_train)\n",
    "\n",
    "#együtthatók:\n",
    "df_coeff['Coefficient_ElasticNet'] = regressor_ElasticNet.coef_\n",
    "\n",
    "# Előrejelzés a teszt halmazon\n",
    "y_pred_ElasticNet = regressor_ElasticNet.predict(X_test)\n",
    "\n",
    "df_prediction_MLR['Predicted_ElasticNet'] = y_pred_ElasticNet\n",
    "\n",
    "MAE_ElasticNet = metrics.mean_absolute_error(y_test, y_pred_ElasticNet)\n",
    "MSE_ElasticNet = metrics.mean_squared_error(y_test, y_pred_ElasticNet)\n",
    "RMSE_ElasticNet = np.sqrt(metrics.mean_squared_error(y_test, y_pred_ElasticNet))"
   ]
  },
  {
   "cell_type": "markdown",
   "metadata": {},
   "source": [
    "Regressziós együtthatók kiíratása:"
   ]
  },
  {
   "cell_type": "code",
   "execution_count": null,
   "metadata": {},
   "outputs": [],
   "source": [
    "df_coeff"
   ]
  },
  {
   "cell_type": "markdown",
   "metadata": {},
   "source": [
    "Előrejelzések:"
   ]
  },
  {
   "cell_type": "code",
   "execution_count": null,
   "metadata": {},
   "outputs": [],
   "source": [
    "df_prediction_MLR"
   ]
  },
  {
   "cell_type": "code",
   "execution_count": null,
   "metadata": {},
   "outputs": [],
   "source": [
    "df_errors = pd.DataFrame([['Simple', MAE, MSE, RMSE],\n",
    "                          ['Ridge', MAE_Ridge, MSE_Ridge, RMSE_Ridge], \n",
    "                          ['Lasso', MAE_Lasso, MSE_Lasso, RMSE_Lasso], \n",
    "                          ['Elastic Net', MAE_ElasticNet, MSE_ElasticNet, RMSE_ElasticNet]],\n",
    "                         columns=(['Method', 'MAE', 'MSE', 'RMSE']))\n",
    "df_errors"
   ]
  },
  {
   "cell_type": "markdown",
   "metadata": {},
   "source": [
    "## __Logisztikus regresszió__"
   ]
  },
  {
   "cell_type": "markdown",
   "metadata": {},
   "source": [
    "A Scikit-Learn *LogisticRegression* osztálya alapesetben regularizált logisztikus regressziót valósít meg. \n",
    "\n",
    "A 3 legfontosabb paraméter:\n",
    "- penalty {'l1', 'l2', 'elasticnet', 'none'}, default='l2': regularizáció L1 és L2 C értékét befolyásolja, L2 esetén C értéket négyzetesen befolyásolja.\n",
    "- C: koefficiens [0,1]-ből vesz fel értéket. Kisebb érték, nagyobb regularizációs megszorításokat jelent, míg a nagyobb érték, nagyobb szabadság a modell számára.\n",
    "- solver: a megoldó - Legtöbb esetben a legjobb megoldó a Scikit learn szerint a SAGA.\n",
    "[Solver részletesebb bemutatása](https://stackoverflow.com/questions/38640109/logistic-regression-python-solvers-defintions)\n",
    "\n",
    "\n",
    "\n",
    "\n"
   ]
  },
  {
   "cell_type": "code",
   "execution_count": null,
   "metadata": {},
   "outputs": [],
   "source": [
    "from sklearn.preprocessing import StandardScaler\n",
    "\n",
    "from sklearn.linear_model import LogisticRegression\n",
    "\n",
    "from sklearn.metrics import plot_confusion_matrix"
   ]
  },
  {
   "cell_type": "markdown",
   "metadata": {},
   "source": [
    "Titanic adathalmaz importálása és előkészítése:"
   ]
  },
  {
   "cell_type": "code",
   "execution_count": null,
   "metadata": {},
   "outputs": [],
   "source": [
    "# DataFrame létrehozása Excel fájlból\n",
    "titanic = pd.read_excel('Titanic.xlsx')\n",
    "\n",
    "# Eldobjuk a NAME oszlopot\n",
    "titanic.drop(labels='Name', axis=1, inplace=True)\n",
    "\n",
    "# Dummy váltóvá konvertáljuk a SEX oszlopot (referencia kódolással, ezért csak 1 oszlop lesz belőle)\n",
    "titanic['Sex'] = pd.get_dummies(titanic['Sex'], drop_first=True)\n",
    "\n",
    "# a prediktív válltozók neveinek és az osztálycímke kimentése\n",
    "classlabel = list(titanic.columns[:1])\n",
    "features = list(titanic.columns[1:])\n",
    "\n",
    "# DataFrame-et TULAJDONSÁGOK(features, X) és CÉL(target, y) tömbökre bontjuk \n",
    "X = titanic.iloc[:, 1:].values\n",
    "y = titanic.iloc[:, 0].values.reshape(-1,1)\n",
    "\n",
    "# adatok standardizálása a StandardScaler-rel (mivel a logisztikus regresszió nagyon érzények a skálára)\n",
    "scaler = StandardScaler()\n",
    "X_std = scaler.fit_transform(X)"
   ]
  },
  {
   "cell_type": "markdown",
   "metadata": {},
   "source": [
    "Tréning/teszt adatok kialakítása:"
   ]
  },
  {
   "cell_type": "code",
   "execution_count": null,
   "metadata": {},
   "outputs": [],
   "source": [
    "# Tréning és teszt adatok létrehozása 2/3 és 1/3 vágással\n",
    "X_train, X_test, y_train, y_test = train_test_split(X, y, test_size=0.33)"
   ]
  },
  {
   "cell_type": "markdown",
   "metadata": {},
   "source": [
    "#### A modell illesztése az alapparaméterekkel"
   ]
  },
  {
   "cell_type": "code",
   "execution_count": null,
   "metadata": {},
   "outputs": [],
   "source": [
    "clf_logit = LogisticRegression()\n",
    "clf_logit.fit(X_train, y_train.ravel())\n",
    "print(\"A modell pontossága:\", clf_logit.score(X_test,y_test))"
   ]
  },
  {
   "cell_type": "code",
   "execution_count": null,
   "metadata": {},
   "outputs": [],
   "source": [
    "plot_confusion_matrix(clf_logit, X_test, y_test, cmap=plt.cm.Blues)\n",
    "plt.show()"
   ]
  }
 ],
 "metadata": {
  "kernelspec": {
   "display_name": "Python 3",
   "language": "python",
   "name": "python3"
  },
  "language_info": {
   "codemirror_mode": {
    "name": "ipython",
    "version": 3
   },
   "file_extension": ".py",
   "mimetype": "text/x-python",
   "name": "python",
   "nbconvert_exporter": "python",
   "pygments_lexer": "ipython3",
   "version": "3.8.3"
  }
 },
 "nbformat": 4,
 "nbformat_minor": 4
}
