{
 "cells": [
  {
   "cell_type": "code",
   "execution_count": 1,
   "outputs": [
    {
     "name": "stderr",
     "output_type": "stream",
     "text": [
      "/home/lvbubi/PycharmProjects/Accomodation/backend/service/csv_parser.py:48: UserWarning: Pandas doesn't allow columns to be created via a new attribute name - see https://pandas.pydata.org/pandas-docs/stable/indexing.html#attribute-access\n",
      "  dataframe.name = column_names[['id', 'title']]\n"
     ]
    }
   ],
   "source": [
    "from service import csv_parser\n",
    "from service.options import town_path, county_path\n",
    "from web_scraping import osm_scraper\n",
    "from web_scraping import osm_json_scraper\n",
    "\n",
    "townData = csv_parser.parse_package(town_path)\n",
    "countyData = csv_parser.parse_package(county_path)"
   ],
   "metadata": {
    "collapsed": false,
    "pycharm": {
     "name": "#%%\n"
    }
   }
  },
  {
   "cell_type": "markdown",
   "source": [
    "**Fetching Coordinates from OSM**"
   ],
   "metadata": {
    "collapsed": false
   }
  },
  {
   "cell_type": "code",
   "execution_count": 2,
   "outputs": [
    {
     "name": "stderr",
     "output_type": "stream",
     "text": [
      "[WDM] - Current google-chrome version is 87.0.4280\n",
      "[WDM] - Get LATEST driver version for 87.0.4280\n",
      "[WDM] - Get LATEST driver version for 87.0.4280\n",
      "[WDM] - Trying to download new driver from http://chromedriver.storage.googleapis.com/87.0.4280.88/chromedriver_linux64.zip\n",
      "[WDM] - Driver has been saved in cache [/home/lvbubi/.wdm/drivers/chromedriver/linux64/87.0.4280.88]\n"
     ]
    },
    {
     "name": "stdout",
     "output_type": "stream",
     "text": [
      " \n",
      "Accessing page at https://www.openstreetmap.org ...\n",
      "('downloading', 'Bács-Kiskun')\n",
      "('downloading', 'Baranya')\n",
      "('downloading', 'Békés')\n",
      "('downloading', 'Borsod-Abaúj-Zemplén')\n",
      "('downloading', 'Budapest')\n",
      "('downloading', 'Csongrád-Csanád')\n",
      "('downloading', 'Fejér')\n",
      "('downloading', 'Győr-Moson-Sopron')\n",
      "('downloading', 'Hajdú-Bihar')\n",
      "('downloading', 'Heves')\n",
      "('downloading', 'Jász-Nagykun-Szolnok')\n",
      "('downloading', 'Komárom-Esztergom')\n",
      "('downloading', 'Nógrád')\n",
      "('downloading', 'Pest')\n",
      "('downloading', 'Somogy')\n",
      "('downloading', 'Szabolcs-Szatmár-Bereg')\n",
      "('downloading', 'Tolna')\n",
      "('downloading', 'Vas')\n",
      "('downloading', 'Veszprém')\n",
      "('downloading', 'Zala')\n",
      "DONE\n"
     ]
    }
   ],
   "source": [
    "county_coordinates = osm_scraper.scrape_page(countyData[0]['title'])"
   ],
   "metadata": {
    "collapsed": false,
    "pycharm": {
     "name": "#%%\n"
    }
   }
  },
  {
   "cell_type": "markdown",
   "source": [
    "**Fetching Coordinates from OSM API**"
   ],
   "metadata": {
    "collapsed": false
   }
  },
  {
   "cell_type": "code",
   "execution_count": null,
   "outputs": [],
   "source": [
    "county_coordinates = osm_json_scraper.scrape_osm_api(countyData[0]['title'])"
   ],
   "metadata": {
    "collapsed": false,
    "pycharm": {
     "name": "#%%\n"
    }
   }
  }
 ],
 "metadata": {
  "celltoolbar": "Raw Cell Format",
  "kernelspec": {
   "name": "pycharm-1d549122",
   "language": "python",
   "display_name": "PyCharm (Accomodation)"
  },
  "language_info": {
   "codemirror_mode": {
    "name": "ipython",
    "version": 3
   },
   "file_extension": ".py",
   "mimetype": "text/x-python",
   "name": "python",
   "nbconvert_exporter": "python",
   "pygments_lexer": "ipython3",
   "version": "3.6.9"
  }
 },
 "nbformat": 4,
 "nbformat_minor": 2
}