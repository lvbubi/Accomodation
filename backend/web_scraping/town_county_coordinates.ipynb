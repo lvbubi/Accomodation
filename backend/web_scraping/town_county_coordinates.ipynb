{
 "cells": [
  {
   "cell_type": "markdown",
   "source": [
    "**Fetching Coordinates from OSM**"
   ],
   "metadata": {
    "collapsed": false
   }
  },
  {
   "cell_type": "code",
   "execution_count": 2,
   "outputs": [
    {
     "name": "stderr",
     "output_type": "stream",
     "text": [
      "/home/lvbubi/PycharmProjects/Accomodation/backend/repository/csv_parser.py:24: UserWarning: Pandas doesn't allow columns to be created via a new attribute name - see https://pandas.pydata.org/pandas-docs/stable/indexing.html#attribute-access\n",
      "  dataframe.name = column_names[['id', 'title']]\n"
     ]
    }
   ],
   "source": [
    "import pandas as pd\n",
    "import repository.csv_parser as csv\n",
    "from web_scraping import osm_scraper\n",
    "\n",
    "townData = csv.parse_package('../teir_adatok_2016/telepules/')\n",
    "countyData = csv.parse_package('../teir_adatok_2016/megye/')"
   ],
   "metadata": {
    "collapsed": false,
    "pycharm": {
     "name": "#%%\n"
    }
   }
  },
  {
   "cell_type": "code",
   "execution_count": 2,
   "outputs": [
    {
     "name": "stderr",
     "output_type": "stream",
     "text": [
      "[WDM] - Current google-chrome version is 87.0.4280\n",
      "[WDM] - Get LATEST driver version for 87.0.4280\n",
      "[WDM] - Driver [/home/lvbubi/.wdm/drivers/chromedriver/linux64/87.0.4280.88/chromedriver] found in cache\n"
     ]
    },
    {
     "name": "stdout",
     "output_type": "stream",
     "text": [
      " \n",
      "Accessing page at https://www.openstreetmap.org ...\n",
      "('downloading', 'Bács-Kiskun')\n",
      "('downloading', 'Baranya')\n",
      "('downloading', 'Békés')\n",
      "('downloading', 'Borsod-Abaúj-Zemplén')\n",
      "('downloading', 'Budapest')\n",
      "('downloading', 'Csongrád-Csanád')\n",
      "('downloading', 'Fejér')\n",
      "('downloading', 'Győr-Moson-Sopron')\n",
      "('downloading', 'Hajdú-Bihar')\n",
      "('downloading', 'Heves')\n",
      "('downloading', 'Jász-Nagykun-Szolnok')\n",
      "('downloading', 'Komárom-Esztergom')\n",
      "('downloading', 'Nógrád')\n",
      "('downloading', 'Pest')\n",
      "('downloading', 'Somogy')\n",
      "('downloading', 'Szabolcs-Szatmár-Bereg')\n",
      "('downloading', 'Tolna')\n",
      "('downloading', 'Vas')\n",
      "('downloading', 'Veszprém')\n",
      "('downloading', 'Zala')\n",
      "DONE\n"
     ]
    }
   ],
   "source": [
    "county_coordinates = osm_scraper.scrape_page(countyData[0]['title'])"
   ],
   "metadata": {
    "collapsed": false,
    "pycharm": {
     "name": "#%%\n"
    }
   }
  },
  {
   "cell_type": "markdown",
   "source": [
    "**Export to csv**"
   ],
   "metadata": {
    "collapsed": false
   }
  },
  {
   "cell_type": "code",
   "execution_count": 3,
   "outputs": [],
   "source": [
    "pd.DataFrame.from_dict(county_coordinates)\\\n",
    "    .to_csv('county.csv')"
   ],
   "metadata": {
    "collapsed": false,
    "pycharm": {
     "name": "#%%\n"
    }
   }
  },
  {
   "cell_type": "code",
   "execution_count": 4,
   "outputs": [
    {
     "name": "stdout",
     "output_type": "stream",
     "text": [
      "        title    id   A   B     C             D\n",
      "0         Aba  1737 NaN NaN  33.0  7.854465e+06\n",
      "1  Abádszalók  1244 NaN NaN  65.0  3.592841e+06\n",
      "2    Abaliget  1254 NaN NaN   4.0  8.875000e+06\n",
      "3      Abasár  2455 NaN NaN  33.0  6.671818e+06\n",
      "4  Abaújalpár  1566 NaN NaN   2.0           NaN\n",
      "                                                     id title\n",
      "3156  Az év során értékesített új lakás 2016(Település)     A\n",
      "3157  Az év során értékesített új lakások átlagos ár...     B\n",
      "3158  Az év során értékesített használt lakás 2016(T...     C\n",
      "3159  Az év során értékesített használt lakások átla...     D\n"
     ]
    }
   ],
   "source": [
    "df = townData[0] # type: pd.DataFrame\n",
    "\n",
    "print(df.head())\n",
    "print(df.name)"
   ],
   "metadata": {
    "collapsed": false,
    "pycharm": {
     "name": "#%%\n"
    }
   }
  }
 ],
 "metadata": {
  "celltoolbar": "Raw Cell Format",
  "kernelspec": {
   "name": "pycharm-1d549122",
   "language": "python",
   "display_name": "PyCharm (Accomodation)"
  },
  "language_info": {
   "codemirror_mode": {
    "name": "ipython",
    "version": 3
   },
   "file_extension": ".py",
   "mimetype": "text/x-python",
   "name": "python",
   "nbconvert_exporter": "python",
   "pygments_lexer": "ipython3",
   "version": "3.6.9"
  }
 },
 "nbformat": 4,
 "nbformat_minor": 2
}