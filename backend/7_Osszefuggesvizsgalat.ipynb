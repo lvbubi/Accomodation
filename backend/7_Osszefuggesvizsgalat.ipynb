{
 "cells": [
  {
   "cell_type": "markdown",
   "metadata": {},
   "source": [
    "# Összefüggésvizsgálat"
   ]
  },
  {
   "cell_type": "markdown",
   "metadata": {},
   "source": [
    "Az összefüggésvizsgálat módszereinek átteintéséhez olvassuk be az *iris* adathalmazt és a szükséges csomagokat."
   ]
  },
  {
   "cell_type": "code",
   "execution_count": 2,
   "metadata": {},
   "outputs": [],
   "source": [
    "import numpy as np\n",
    "import pandas as pd\n",
    "import matplotlib.pyplot as plt\n",
    "%matplotlib inline\n",
    "\n",
    "iris = pd.read_csv('iris.txt', \n",
    "                   sep=';',\n",
    "                   decimal=',',\n",
    "                   names=['slength', 'swidth', 'plength', 'pwidth', 'iclass'])"
   ]
  },
  {
   "cell_type": "markdown",
   "metadata": {},
   "source": [
    "## Korreláció"
   ]
  },
  {
   "cell_type": "markdown",
   "metadata": {},
   "source": [
    "A változók közti korreláció könnyen kiszámítható a *pandas* csomag **corr** függvényével. A korreláció típusát a *method* paraméterében definiálhatjuk, amely lehet:   \n",
    "- 'pearson'\n",
    "- 'spearman'\n",
    "- 'kendall'"
   ]
  },
  {
   "cell_type": "markdown",
   "metadata": {},
   "source": [
    "### Pearson korreláció"
   ]
  },
  {
   "cell_type": "markdown",
   "metadata": {},
   "source": [
    "Két attribútum értékei közti korreláció mértékét a következőképpen számíttathatjuk ki: "
   ]
  },
  {
   "cell_type": "code",
   "execution_count": 3,
   "metadata": {},
   "outputs": [
    {
     "data": {
      "text/plain": "-0.10936924995064937"
     },
     "execution_count": 3,
     "metadata": {},
     "output_type": "execute_result"
    }
   ],
   "source": [
    "iris['slength'].corr(iris['swidth'])"
   ]
  },
  {
   "cell_type": "markdown",
   "metadata": {},
   "source": [
    "A DataFrame összes folytonos értékű attribútuma közt számított korrelációs együtthatókat a korrelációs mátrixban jeleníthetjük meg:"
   ]
  },
  {
   "cell_type": "code",
   "execution_count": 4,
   "metadata": {},
   "outputs": [
    {
     "data": {
      "text/plain": "          slength    swidth   plength    pwidth\nslength  1.000000 -0.109369  0.871754  0.817954\nswidth  -0.109369  1.000000 -0.420516 -0.356544\nplength  0.871754 -0.420516  1.000000  0.962757\npwidth   0.817954 -0.356544  0.962757  1.000000",
      "text/html": "<div>\n<style scoped>\n    .dataframe tbody tr th:only-of-type {\n        vertical-align: middle;\n    }\n\n    .dataframe tbody tr th {\n        vertical-align: top;\n    }\n\n    .dataframe thead th {\n        text-align: right;\n    }\n</style>\n<table border=\"1\" class=\"dataframe\">\n  <thead>\n    <tr style=\"text-align: right;\">\n      <th></th>\n      <th>slength</th>\n      <th>swidth</th>\n      <th>plength</th>\n      <th>pwidth</th>\n    </tr>\n  </thead>\n  <tbody>\n    <tr>\n      <th>slength</th>\n      <td>1.000000</td>\n      <td>-0.109369</td>\n      <td>0.871754</td>\n      <td>0.817954</td>\n    </tr>\n    <tr>\n      <th>swidth</th>\n      <td>-0.109369</td>\n      <td>1.000000</td>\n      <td>-0.420516</td>\n      <td>-0.356544</td>\n    </tr>\n    <tr>\n      <th>plength</th>\n      <td>0.871754</td>\n      <td>-0.420516</td>\n      <td>1.000000</td>\n      <td>0.962757</td>\n    </tr>\n    <tr>\n      <th>pwidth</th>\n      <td>0.817954</td>\n      <td>-0.356544</td>\n      <td>0.962757</td>\n      <td>1.000000</td>\n    </tr>\n  </tbody>\n</table>\n</div>"
     },
     "execution_count": 4,
     "metadata": {},
     "output_type": "execute_result"
    }
   ],
   "source": [
    "iris.corr(method='pearson')"
   ]
  },
  {
   "cell_type": "markdown",
   "metadata": {},
   "source": [
    "A korrelációs mátrix könnyebben áttekinthető, ha az értékeket hőtérképen is vizualizáljuk:"
   ]
  },
  {
   "cell_type": "code",
   "execution_count": 5,
   "metadata": {},
   "outputs": [
    {
     "data": {
      "text/plain": "<pandas.io.formats.style.Styler at 0x7f67084bc760>",
      "text/html": "<style  type=\"text/css\" >\n#T_50a5c562_37f4_11eb_aea8_09f5eb862989row0_col0,#T_50a5c562_37f4_11eb_aea8_09f5eb862989row1_col1,#T_50a5c562_37f4_11eb_aea8_09f5eb862989row2_col2,#T_50a5c562_37f4_11eb_aea8_09f5eb862989row3_col3{\n            background-color:  #b40426;\n            color:  #f1f1f1;\n        }#T_50a5c562_37f4_11eb_aea8_09f5eb862989row0_col1,#T_50a5c562_37f4_11eb_aea8_09f5eb862989row1_col2,#T_50a5c562_37f4_11eb_aea8_09f5eb862989row2_col1,#T_50a5c562_37f4_11eb_aea8_09f5eb862989row3_col1{\n            background-color:  #3b4cc0;\n            color:  #f1f1f1;\n        }#T_50a5c562_37f4_11eb_aea8_09f5eb862989row0_col2{\n            background-color:  #da5a49;\n            color:  #000000;\n        }#T_50a5c562_37f4_11eb_aea8_09f5eb862989row0_col3{\n            background-color:  #e7745b;\n            color:  #000000;\n        }#T_50a5c562_37f4_11eb_aea8_09f5eb862989row1_col0{\n            background-color:  #82a6fb;\n            color:  #000000;\n        }#T_50a5c562_37f4_11eb_aea8_09f5eb862989row1_col3{\n            background-color:  #485fd1;\n            color:  #f1f1f1;\n        }#T_50a5c562_37f4_11eb_aea8_09f5eb862989row2_col0{\n            background-color:  #d44e41;\n            color:  #000000;\n        }#T_50a5c562_37f4_11eb_aea8_09f5eb862989row2_col3{\n            background-color:  #bd1f2d;\n            color:  #f1f1f1;\n        }#T_50a5c562_37f4_11eb_aea8_09f5eb862989row3_col0{\n            background-color:  #e0654f;\n            color:  #000000;\n        }#T_50a5c562_37f4_11eb_aea8_09f5eb862989row3_col2{\n            background-color:  #be242e;\n            color:  #f1f1f1;\n        }</style><table id=\"T_50a5c562_37f4_11eb_aea8_09f5eb862989\" ><thead>    <tr>        <th class=\"blank level0\" ></th>        <th class=\"col_heading level0 col0\" >slength</th>        <th class=\"col_heading level0 col1\" >swidth</th>        <th class=\"col_heading level0 col2\" >plength</th>        <th class=\"col_heading level0 col3\" >pwidth</th>    </tr></thead><tbody>\n                <tr>\n                        <th id=\"T_50a5c562_37f4_11eb_aea8_09f5eb862989level0_row0\" class=\"row_heading level0 row0\" >slength</th>\n                        <td id=\"T_50a5c562_37f4_11eb_aea8_09f5eb862989row0_col0\" class=\"data row0 col0\" >1.0</td>\n                        <td id=\"T_50a5c562_37f4_11eb_aea8_09f5eb862989row0_col1\" class=\"data row0 col1\" >-0.11</td>\n                        <td id=\"T_50a5c562_37f4_11eb_aea8_09f5eb862989row0_col2\" class=\"data row0 col2\" >0.87</td>\n                        <td id=\"T_50a5c562_37f4_11eb_aea8_09f5eb862989row0_col3\" class=\"data row0 col3\" >0.82</td>\n            </tr>\n            <tr>\n                        <th id=\"T_50a5c562_37f4_11eb_aea8_09f5eb862989level0_row1\" class=\"row_heading level0 row1\" >swidth</th>\n                        <td id=\"T_50a5c562_37f4_11eb_aea8_09f5eb862989row1_col0\" class=\"data row1 col0\" >-0.11</td>\n                        <td id=\"T_50a5c562_37f4_11eb_aea8_09f5eb862989row1_col1\" class=\"data row1 col1\" >1.0</td>\n                        <td id=\"T_50a5c562_37f4_11eb_aea8_09f5eb862989row1_col2\" class=\"data row1 col2\" >-0.42</td>\n                        <td id=\"T_50a5c562_37f4_11eb_aea8_09f5eb862989row1_col3\" class=\"data row1 col3\" >-0.36</td>\n            </tr>\n            <tr>\n                        <th id=\"T_50a5c562_37f4_11eb_aea8_09f5eb862989level0_row2\" class=\"row_heading level0 row2\" >plength</th>\n                        <td id=\"T_50a5c562_37f4_11eb_aea8_09f5eb862989row2_col0\" class=\"data row2 col0\" >0.87</td>\n                        <td id=\"T_50a5c562_37f4_11eb_aea8_09f5eb862989row2_col1\" class=\"data row2 col1\" >-0.42</td>\n                        <td id=\"T_50a5c562_37f4_11eb_aea8_09f5eb862989row2_col2\" class=\"data row2 col2\" >1.0</td>\n                        <td id=\"T_50a5c562_37f4_11eb_aea8_09f5eb862989row2_col3\" class=\"data row2 col3\" >0.96</td>\n            </tr>\n            <tr>\n                        <th id=\"T_50a5c562_37f4_11eb_aea8_09f5eb862989level0_row3\" class=\"row_heading level0 row3\" >pwidth</th>\n                        <td id=\"T_50a5c562_37f4_11eb_aea8_09f5eb862989row3_col0\" class=\"data row3 col0\" >0.82</td>\n                        <td id=\"T_50a5c562_37f4_11eb_aea8_09f5eb862989row3_col1\" class=\"data row3 col1\" >-0.36</td>\n                        <td id=\"T_50a5c562_37f4_11eb_aea8_09f5eb862989row3_col2\" class=\"data row3 col2\" >0.96</td>\n                        <td id=\"T_50a5c562_37f4_11eb_aea8_09f5eb862989row3_col3\" class=\"data row3 col3\" >1.0</td>\n            </tr>\n    </tbody></table>"
     },
     "execution_count": 5,
     "metadata": {},
     "output_type": "execute_result"
    }
   ],
   "source": [
    "iris.corr(method='pearson').style.format(\"{:.2}\").background_gradient(cmap=plt.get_cmap('coolwarm'), axis=1)"
   ]
  },
  {
   "cell_type": "markdown",
   "metadata": {},
   "source": [
    "Az összefüggések áttekintésekor nagyobb adathalmaz esetén gyakorta elegendő a hőtérképet megjeleníteni. Ennek első lépése maga a hőtérkép kirajzolása. A hőtérképeken használatos colormap-ek [itt](https://matplotlib.org/examples/color/colormaps_reference.html) tekinthetők meg. "
   ]
  },
  {
   "cell_type": "code",
   "execution_count": 6,
   "metadata": {},
   "outputs": [
    {
     "data": {
      "text/plain": "<Figure size 288x288 with 1 Axes>",
      "image/png": "[encoded data removed]"
     },
     "metadata": {
      "needs_background": "light"
     },
     "output_type": "display_data"
    }
   ],
   "source": [
    "plt.matshow(iris.corr(method='pearson'), cmap='coolwarm')\n",
    "plt.show()"
   ]
  },
  {
   "cell_type": "markdown",
   "metadata": {},
   "source": [
    "A közérthetőséget nagy mértékben befolyásolja, hogy pontosan tudjuk-e értelmezni az egyes színek jelentését. Ezért mindenképpen ajánlatos a *colorbar* elhelyezése a grafikonon."
   ]
  },
  {
   "cell_type": "code",
   "execution_count": 7,
   "metadata": {},
   "outputs": [
    {
     "data": {
      "text/plain": "<Figure size 432x288 with 2 Axes>",
      "image/png": "[encoded data removed]"
     },
     "metadata": {
      "needs_background": "light"
     },
     "output_type": "display_data"
    }
   ],
   "source": [
    "fig1 = plt.figure()\n",
    "ax = fig1.add_subplot(111)\n",
    "cax = ax.matshow(iris.corr(method='pearson'), cmap='coolwarm')\n",
    "ax.xticklabels=iris[1:4]\n",
    "fig1.colorbar(cax)\n",
    "plt.show()"
   ]
  },
  {
   "cell_type": "markdown",
   "metadata": {},
   "source": [
    "Hasonló eredményt kapunk a **seaborn** csomag **heatmap** metódusával is, kissé rövidebb fromában:"
   ]
  },
  {
   "cell_type": "code",
   "execution_count": 8,
   "metadata": {},
   "outputs": [
    {
     "data": {
      "text/plain": "<Figure size 432x288 with 2 Axes>",
      "image/png": "[encoded data removed]"
     },
     "metadata": {
      "needs_background": "light"
     },
     "output_type": "display_data"
    }
   ],
   "source": [
    "import seaborn as sns\n",
    "corr_result = iris.corr(method='pearson')\n",
    "sns.heatmap(corr_result, \n",
    "            xticklabels=corr_result.columns.values,\n",
    "            yticklabels=corr_result.columns.values)\n",
    "plt.show()"
   ]
  },
  {
   "cell_type": "markdown",
   "metadata": {},
   "source": [
    "### Spearman rangkorreláció"
   ]
  },
  {
   "cell_type": "markdown",
   "metadata": {},
   "source": [
    "A Spearman-féle rangkorreláció könnyen számítható szintén a **df.corr** függvény segítségével:"
   ]
  },
  {
   "cell_type": "code",
   "execution_count": 9,
   "metadata": {},
   "outputs": [
    {
     "data": {
      "text/plain": "   Jövedelmezoseg  Likviditas\n0               8           5\n1              10           8\n2               9          10\n3               5           4\n4               2           3\n5               7           7\n6               3           1\n7               4           6\n8               1           2\n9               6           9",
      "text/html": "<div>\n<style scoped>\n    .dataframe tbody tr th:only-of-type {\n        vertical-align: middle;\n    }\n\n    .dataframe tbody tr th {\n        vertical-align: top;\n    }\n\n    .dataframe thead th {\n        text-align: right;\n    }\n</style>\n<table border=\"1\" class=\"dataframe\">\n  <thead>\n    <tr style=\"text-align: right;\">\n      <th></th>\n      <th>Jövedelmezoseg</th>\n      <th>Likviditas</th>\n    </tr>\n  </thead>\n  <tbody>\n    <tr>\n      <th>0</th>\n      <td>8</td>\n      <td>5</td>\n    </tr>\n    <tr>\n      <th>1</th>\n      <td>10</td>\n      <td>8</td>\n    </tr>\n    <tr>\n      <th>2</th>\n      <td>9</td>\n      <td>10</td>\n    </tr>\n    <tr>\n      <th>3</th>\n      <td>5</td>\n      <td>4</td>\n    </tr>\n    <tr>\n      <th>4</th>\n      <td>2</td>\n      <td>3</td>\n    </tr>\n    <tr>\n      <th>5</th>\n      <td>7</td>\n      <td>7</td>\n    </tr>\n    <tr>\n      <th>6</th>\n      <td>3</td>\n      <td>1</td>\n    </tr>\n    <tr>\n      <th>7</th>\n      <td>4</td>\n      <td>6</td>\n    </tr>\n    <tr>\n      <th>8</th>\n      <td>1</td>\n      <td>2</td>\n    </tr>\n    <tr>\n      <th>9</th>\n      <td>6</td>\n      <td>9</td>\n    </tr>\n  </tbody>\n</table>\n</div>"
     },
     "execution_count": 9,
     "metadata": {},
     "output_type": "execute_result"
    }
   ],
   "source": [
    "df1 = pd.DataFrame()\n",
    "df1['Jövedelmezoseg'] = [8, 10, 9, 5, 2, 7, 3, 4, 1, 6]\n",
    "df1['Likviditas'] = [5, 8, 10, 4, 3, 7, 1, 6, 2, 9]\n",
    "df1"
   ]
  },
  {
   "cell_type": "code",
   "execution_count": 10,
   "metadata": {},
   "outputs": [
    {
     "data": {
      "text/plain": "                Jövedelmezoseg  Likviditas\nJövedelmezoseg        1.000000    0.793939\nLikviditas            0.793939    1.000000",
      "text/html": "<div>\n<style scoped>\n    .dataframe tbody tr th:only-of-type {\n        vertical-align: middle;\n    }\n\n    .dataframe tbody tr th {\n        vertical-align: top;\n    }\n\n    .dataframe thead th {\n        text-align: right;\n    }\n</style>\n<table border=\"1\" class=\"dataframe\">\n  <thead>\n    <tr style=\"text-align: right;\">\n      <th></th>\n      <th>Jövedelmezoseg</th>\n      <th>Likviditas</th>\n    </tr>\n  </thead>\n  <tbody>\n    <tr>\n      <th>Jövedelmezoseg</th>\n      <td>1.000000</td>\n      <td>0.793939</td>\n    </tr>\n    <tr>\n      <th>Likviditas</th>\n      <td>0.793939</td>\n      <td>1.000000</td>\n    </tr>\n  </tbody>\n</table>\n</div>"
     },
     "execution_count": 10,
     "metadata": {},
     "output_type": "execute_result"
    }
   ],
   "source": [
    "df1.corr(method='spearman')"
   ]
  },
  {
   "cell_type": "markdown",
   "metadata": {},
   "source": [
    "### Kendall rangkorreláció"
   ]
  },
  {
   "cell_type": "markdown",
   "metadata": {},
   "source": [
    "Hasonló a helyzet a Kendall rangkorreláció számításával is:"
   ]
  },
  {
   "cell_type": "code",
   "execution_count": 11,
   "metadata": {},
   "outputs": [
    {
     "data": {
      "text/plain": "                Jövedelmezoseg  Likviditas\nJövedelmezoseg             1.0         0.6\nLikviditas                 0.6         1.0",
      "text/html": "<div>\n<style scoped>\n    .dataframe tbody tr th:only-of-type {\n        vertical-align: middle;\n    }\n\n    .dataframe tbody tr th {\n        vertical-align: top;\n    }\n\n    .dataframe thead th {\n        text-align: right;\n    }\n</style>\n<table border=\"1\" class=\"dataframe\">\n  <thead>\n    <tr style=\"text-align: right;\">\n      <th></th>\n      <th>Jövedelmezoseg</th>\n      <th>Likviditas</th>\n    </tr>\n  </thead>\n  <tbody>\n    <tr>\n      <th>Jövedelmezoseg</th>\n      <td>1.0</td>\n      <td>0.6</td>\n    </tr>\n    <tr>\n      <th>Likviditas</th>\n      <td>0.6</td>\n      <td>1.0</td>\n    </tr>\n  </tbody>\n</table>\n</div>"
     },
     "execution_count": 11,
     "metadata": {},
     "output_type": "execute_result"
    }
   ],
   "source": [
    "df1.corr(method='kendall')"
   ]
  },
  {
   "cell_type": "markdown",
   "metadata": {},
   "source": [
    "## Khí-négyzet próba"
   ]
  },
  {
   "cell_type": "markdown",
   "metadata": {},
   "source": [
    "A khí-négyzet próba elvégzéséhez tekintsük a bukósisak színe és a balesetek összefüggését vizsgáló példát:"
   ]
  },
  {
   "cell_type": "markdown",
   "metadata": {},
   "source": [
    "|           | Fekete |  Fehér | Sárga/Narancs |\n",
    "| ----------|:------:| :-----:| :------------:|\n",
    "| Kontroll  | 491    | 377    | 31            |\n",
    "| Balestes  | 213    | 112    | 8             |"
   ]
  },
  {
   "cell_type": "markdown",
   "metadata": {},
   "source": [
    "A khí négyzet próba a **scipy.stats** csomag **chi2_contingency** függvényével végezhető el:"
   ]
  },
  {
   "cell_type": "code",
   "execution_count": 13,
   "metadata": {},
   "outputs": [
    {
     "name": "stdout",
     "output_type": "stream",
     "text": [
      "chi2 = 8.77471206682259\n",
      "p = 0.012433559716419771\n",
      "degree of freedom = 2\n",
      "expected values = \n",
      "[[513.71428571 356.82711039  28.4586039 ]\n",
      " [190.28571429 132.17288961  10.5413961 ]]\n"
     ]
    }
   ],
   "source": [
    "import scipy.stats as stats\n",
    "\n",
    "obs = np.array([[491, 377, 31], [213, 112, 8]])\n",
    "chi2, p, dof, expected = stats.chi2_contingency(obs)\n",
    "print('chi2 = ' + str(chi2))\n",
    "print('p = ' + str(p))\n",
    "print('degree of freedom = ' + str(dof))\n",
    "print('expected values = ')\n",
    "print(expected)"
   ]
  },
  {
   "cell_type": "markdown",
   "metadata": {},
   "source": [
    "## Regresszió"
   ]
  },
  {
   "cell_type": "markdown",
   "metadata": {},
   "source": [
    "A regressziószámításról [itt](https://github.com/justmarkham/DAT4/blob/master/notebooks/08_linear_regression.ipynb) érhető el egy remek Notebook, amely tökéletesen foglalja össze a szükséges ismereteket."
   ]
  }
 ],
 "metadata": {
  "kernelspec": {
   "display_name": "Python 3",
   "language": "python",
   "name": "python3"
  },
  "language_info": {
   "codemirror_mode": {
    "name": "ipython",
    "version": 3
   },
   "file_extension": ".py",
   "mimetype": "text/x-python",
   "name": "python",
   "nbconvert_exporter": "python",
   "pygments_lexer": "ipython3",
   "version": "3.6.9"
  }
 },
 "nbformat": 4,
 "nbformat_minor": 2
}